{
 "cells": [
  {
   "cell_type": "markdown",
   "metadata": {
    "colab_type": "text",
    "id": "LwkrRS8y2pSf"
   },
   "source": [
    "# 실습코드(미세먼지 데이터)\n",
    "- 에어코리아에 접속해서 2019년 4월의 전국 단위 미세먼지 측정치를 다운로드합니다.\n",
    "- 다운로드 파일은 미리 올려드렸으니 'Y2019Q4' 파일을 로드하여 실습해봅시다!"
   ]
  },
  {
   "cell_type": "code",
   "execution_count": 70,
   "metadata": {
    "colab": {},
    "colab_type": "code",
    "executionInfo": {
     "elapsed": 4421,
     "status": "ok",
     "timestamp": 1600279074557,
     "user": {
      "displayName": "그로스해커스모두",
      "photoUrl": "",
      "userId": "16814293870053642265"
     },
     "user_tz": -540
    },
    "id": "WeS4x14f2pSg"
   },
   "outputs": [],
   "source": [
    "import numpy as np\n",
    "import pandas as pd\n",
    "\n",
    "df= pd.read_csv(\"Y2019Q4.csv\", header=0, engine='python') "
   ]
  },
  {
   "cell_type": "code",
   "execution_count": 72,
   "metadata": {
    "colab": {
     "base_uri": "https://localhost:8080/",
     "height": 204
    },
    "colab_type": "code",
    "executionInfo": {
     "elapsed": 665,
     "status": "ok",
     "timestamp": 1600279076357,
     "user": {
      "displayName": "그로스해커스모두",
      "photoUrl": "",
      "userId": "16814293870053642265"
     },
     "user_tz": -540
    },
    "id": "ZtoLGNNY2pSj",
    "outputId": "1f0e9c8b-15e6-4a0c-c231-d86b6a171982"
   },
   "outputs": [
    {
     "output_type": "execute_result",
     "data": {
      "text/plain": "      지역     망   측정소코드 측정소명        측정일시    SO2   CO     O3    NO2  PM10  PM25  \\\n0  서울 중구  도시대기  111121   중구  2019040101  0.002  0.4  0.037  0.022  27.0  16.0   \n1  서울 중구  도시대기  111121   중구  2019040102  0.003  0.4  0.037  0.021  25.0  15.0   \n2  서울 중구  도시대기  111121   중구  2019040103  0.003  0.4  0.041  0.016  23.0  13.0   \n3  서울 중구  도시대기  111121   중구  2019040104  0.002  0.5  0.030  0.025  22.0  12.0   \n4  서울 중구  도시대기  111121   중구  2019040105  0.002  0.4  0.032  0.023  23.0  12.0   \n\n                 주소  \n0  서울특별시 중구 덕수궁길 15  \n1  서울특별시 중구 덕수궁길 15  \n2  서울특별시 중구 덕수궁길 15  \n3  서울특별시 중구 덕수궁길 15  \n4  서울특별시 중구 덕수궁길 15  ",
      "text/html": "<div>\n<style scoped>\n    .dataframe tbody tr th:only-of-type {\n        vertical-align: middle;\n    }\n\n    .dataframe tbody tr th {\n        vertical-align: top;\n    }\n\n    .dataframe thead th {\n        text-align: right;\n    }\n</style>\n<table border=\"1\" class=\"dataframe\">\n  <thead>\n    <tr style=\"text-align: right;\">\n      <th></th>\n      <th>지역</th>\n      <th>망</th>\n      <th>측정소코드</th>\n      <th>측정소명</th>\n      <th>측정일시</th>\n      <th>SO2</th>\n      <th>CO</th>\n      <th>O3</th>\n      <th>NO2</th>\n      <th>PM10</th>\n      <th>PM25</th>\n      <th>주소</th>\n    </tr>\n  </thead>\n  <tbody>\n    <tr>\n      <th>0</th>\n      <td>서울 중구</td>\n      <td>도시대기</td>\n      <td>111121</td>\n      <td>중구</td>\n      <td>2019040101</td>\n      <td>0.002</td>\n      <td>0.4</td>\n      <td>0.037</td>\n      <td>0.022</td>\n      <td>27.0</td>\n      <td>16.0</td>\n      <td>서울특별시 중구 덕수궁길 15</td>\n    </tr>\n    <tr>\n      <th>1</th>\n      <td>서울 중구</td>\n      <td>도시대기</td>\n      <td>111121</td>\n      <td>중구</td>\n      <td>2019040102</td>\n      <td>0.003</td>\n      <td>0.4</td>\n      <td>0.037</td>\n      <td>0.021</td>\n      <td>25.0</td>\n      <td>15.0</td>\n      <td>서울특별시 중구 덕수궁길 15</td>\n    </tr>\n    <tr>\n      <th>2</th>\n      <td>서울 중구</td>\n      <td>도시대기</td>\n      <td>111121</td>\n      <td>중구</td>\n      <td>2019040103</td>\n      <td>0.003</td>\n      <td>0.4</td>\n      <td>0.041</td>\n      <td>0.016</td>\n      <td>23.0</td>\n      <td>13.0</td>\n      <td>서울특별시 중구 덕수궁길 15</td>\n    </tr>\n    <tr>\n      <th>3</th>\n      <td>서울 중구</td>\n      <td>도시대기</td>\n      <td>111121</td>\n      <td>중구</td>\n      <td>2019040104</td>\n      <td>0.002</td>\n      <td>0.5</td>\n      <td>0.030</td>\n      <td>0.025</td>\n      <td>22.0</td>\n      <td>12.0</td>\n      <td>서울특별시 중구 덕수궁길 15</td>\n    </tr>\n    <tr>\n      <th>4</th>\n      <td>서울 중구</td>\n      <td>도시대기</td>\n      <td>111121</td>\n      <td>중구</td>\n      <td>2019040105</td>\n      <td>0.002</td>\n      <td>0.4</td>\n      <td>0.032</td>\n      <td>0.023</td>\n      <td>23.0</td>\n      <td>12.0</td>\n      <td>서울특별시 중구 덕수궁길 15</td>\n    </tr>\n  </tbody>\n</table>\n</div>"
     },
     "metadata": {},
     "execution_count": 72
    }
   ],
   "source": [
    "df.head()"
   ]
  },
  {
   "cell_type": "code",
   "execution_count": 74,
   "metadata": {
    "colab": {
     "base_uri": "https://localhost:8080/",
     "height": 35
    },
    "colab_type": "code",
    "executionInfo": {
     "elapsed": 466,
     "status": "ok",
     "timestamp": 1600279076954,
     "user": {
      "displayName": "그로스해커스모두",
      "photoUrl": "",
      "userId": "16814293870053642265"
     },
     "user_tz": -540
    },
    "id": "Oz-szOJD2pSo",
    "outputId": "88569324-af50-4c3d-c729-ca6159959c99"
   },
   "outputs": [
    {
     "output_type": "execute_result",
     "data": {
      "text/plain": "(314339, 12)"
     },
     "metadata": {},
     "execution_count": 74
    }
   ],
   "source": [
    "#df의 전체적인 정보를 조회해봅시다\n",
    "df.shape"
   ]
  },
  {
   "cell_type": "code",
   "execution_count": 76,
   "metadata": {
    "colab": {
     "base_uri": "https://localhost:8080/",
     "height": 359
    },
    "colab_type": "code",
    "executionInfo": {
     "elapsed": 678,
     "status": "ok",
     "timestamp": 1600279079235,
     "user": {
      "displayName": "그로스해커스모두",
      "photoUrl": "",
      "userId": "16814293870053642265"
     },
     "user_tz": -540
    },
    "id": "a5_HHNag2pSq",
    "outputId": "c94d8d10-1c9d-47da-a8ee-a1ed3ae5ad7c",
    "tags": []
   },
   "outputs": [
    {
     "output_type": "stream",
     "name": "stdout",
     "text": "<class 'pandas.core.frame.DataFrame'>\nRangeIndex: 314339 entries, 0 to 314338\nData columns (total 12 columns):\n #   Column  Non-Null Count   Dtype  \n---  ------  --------------   -----  \n 0   지역      314339 non-null  object \n 1   망       314339 non-null  object \n 2   측정소코드   314339 non-null  int64  \n 3   측정소명    314339 non-null  object \n 4   측정일시    314339 non-null  int64  \n 5   SO2     301514 non-null  float64\n 6   CO      300889 non-null  float64\n 7   O3      302759 non-null  float64\n 8   NO2     304334 non-null  float64\n 9   PM10    302581 non-null  float64\n 10  PM25    283965 non-null  float64\n 11  주소      314339 non-null  object \ndtypes: float64(6), int64(2), object(4)\nmemory usage: 28.8+ MB\n"
    }
   ],
   "source": [
    "df.info()"
   ]
  },
  {
   "cell_type": "code",
   "execution_count": 78,
   "metadata": {
    "colab": {
     "base_uri": "https://localhost:8080/",
     "height": 204
    },
    "colab_type": "code",
    "executionInfo": {
     "elapsed": 782,
     "status": "ok",
     "timestamp": 1600279080288,
     "user": {
      "displayName": "그로스해커스모두",
      "photoUrl": "",
      "userId": "16814293870053642265"
     },
     "user_tz": -540
    },
    "id": "-zBghE_H2pSu",
    "outputId": "e6d583c1-2b42-4ad9-eecd-a30baffd8fd7"
   },
   "outputs": [
    {
     "output_type": "execute_result",
     "data": {
      "text/plain": "     SGG     망      id id_name        date    SO2   CO     O3    NO2  PM10  \\\n0  서울 중구  도시대기  111121      중구  2019040101  0.002  0.4  0.037  0.022  27.0   \n1  서울 중구  도시대기  111121      중구  2019040102  0.003  0.4  0.037  0.021  25.0   \n2  서울 중구  도시대기  111121      중구  2019040103  0.003  0.4  0.041  0.016  23.0   \n3  서울 중구  도시대기  111121      중구  2019040104  0.002  0.5  0.030  0.025  22.0   \n4  서울 중구  도시대기  111121      중구  2019040105  0.002  0.4  0.032  0.023  23.0   \n\n   PM25               add  \n0  16.0  서울특별시 중구 덕수궁길 15  \n1  15.0  서울특별시 중구 덕수궁길 15  \n2  13.0  서울특별시 중구 덕수궁길 15  \n3  12.0  서울특별시 중구 덕수궁길 15  \n4  12.0  서울특별시 중구 덕수궁길 15  ",
      "text/html": "<div>\n<style scoped>\n    .dataframe tbody tr th:only-of-type {\n        vertical-align: middle;\n    }\n\n    .dataframe tbody tr th {\n        vertical-align: top;\n    }\n\n    .dataframe thead th {\n        text-align: right;\n    }\n</style>\n<table border=\"1\" class=\"dataframe\">\n  <thead>\n    <tr style=\"text-align: right;\">\n      <th></th>\n      <th>SGG</th>\n      <th>망</th>\n      <th>id</th>\n      <th>id_name</th>\n      <th>date</th>\n      <th>SO2</th>\n      <th>CO</th>\n      <th>O3</th>\n      <th>NO2</th>\n      <th>PM10</th>\n      <th>PM25</th>\n      <th>add</th>\n    </tr>\n  </thead>\n  <tbody>\n    <tr>\n      <th>0</th>\n      <td>서울 중구</td>\n      <td>도시대기</td>\n      <td>111121</td>\n      <td>중구</td>\n      <td>2019040101</td>\n      <td>0.002</td>\n      <td>0.4</td>\n      <td>0.037</td>\n      <td>0.022</td>\n      <td>27.0</td>\n      <td>16.0</td>\n      <td>서울특별시 중구 덕수궁길 15</td>\n    </tr>\n    <tr>\n      <th>1</th>\n      <td>서울 중구</td>\n      <td>도시대기</td>\n      <td>111121</td>\n      <td>중구</td>\n      <td>2019040102</td>\n      <td>0.003</td>\n      <td>0.4</td>\n      <td>0.037</td>\n      <td>0.021</td>\n      <td>25.0</td>\n      <td>15.0</td>\n      <td>서울특별시 중구 덕수궁길 15</td>\n    </tr>\n    <tr>\n      <th>2</th>\n      <td>서울 중구</td>\n      <td>도시대기</td>\n      <td>111121</td>\n      <td>중구</td>\n      <td>2019040103</td>\n      <td>0.003</td>\n      <td>0.4</td>\n      <td>0.041</td>\n      <td>0.016</td>\n      <td>23.0</td>\n      <td>13.0</td>\n      <td>서울특별시 중구 덕수궁길 15</td>\n    </tr>\n    <tr>\n      <th>3</th>\n      <td>서울 중구</td>\n      <td>도시대기</td>\n      <td>111121</td>\n      <td>중구</td>\n      <td>2019040104</td>\n      <td>0.002</td>\n      <td>0.5</td>\n      <td>0.030</td>\n      <td>0.025</td>\n      <td>22.0</td>\n      <td>12.0</td>\n      <td>서울특별시 중구 덕수궁길 15</td>\n    </tr>\n    <tr>\n      <th>4</th>\n      <td>서울 중구</td>\n      <td>도시대기</td>\n      <td>111121</td>\n      <td>중구</td>\n      <td>2019040105</td>\n      <td>0.002</td>\n      <td>0.4</td>\n      <td>0.032</td>\n      <td>0.023</td>\n      <td>23.0</td>\n      <td>12.0</td>\n      <td>서울특별시 중구 덕수궁길 15</td>\n    </tr>\n  </tbody>\n</table>\n</div>"
     },
     "metadata": {},
     "execution_count": 78
    }
   ],
   "source": [
    "#실전에서 칼럼네임이 한글이면 깨지는 경우가 많습니다. 영어로 변경해봅시다\n",
    "df=df.rename(index=str, columns={'지역':\"SGG\",\"측정소코드\":\"id\",\"측정소명\":\"id_name\",\"측정일시\":\"date\",\"주소\":\"add\"})\n",
    "df.head()"
   ]
  },
  {
   "cell_type": "code",
   "execution_count": 80,
   "metadata": {
    "colab": {
     "base_uri": "https://localhost:8080/",
     "height": 376
    },
    "colab_type": "code",
    "executionInfo": {
     "elapsed": 791,
     "status": "error",
     "timestamp": 1600279082080,
     "user": {
      "displayName": "그로스해커스모두",
      "photoUrl": "",
      "userId": "16814293870053642265"
     },
     "user_tz": -540
    },
    "id": "45vtAuL12pSw",
    "outputId": "ea9fed79-c0c7-41a6-80df-c2d383ba49cd"
   },
   "outputs": [
    {
     "output_type": "execute_result",
     "data": {
      "text/plain": "           SGG      id        date     SO2   CO  PM10  PM25\n314334  인천 옹진군  831492  2019043020  0.0017  0.2  16.0  12.0\n314335  인천 옹진군  831492  2019043021  0.0013  0.2  19.0  10.0\n314336  인천 옹진군  831492  2019043022  0.0012  0.2  21.0   9.0\n314337  인천 옹진군  831492  2019043023  0.0010  0.2  21.0  15.0\n314338  인천 옹진군  831492  2019043024  0.0010  0.2  22.0  11.0",
      "text/html": "<div>\n<style scoped>\n    .dataframe tbody tr th:only-of-type {\n        vertical-align: middle;\n    }\n\n    .dataframe tbody tr th {\n        vertical-align: top;\n    }\n\n    .dataframe thead th {\n        text-align: right;\n    }\n</style>\n<table border=\"1\" class=\"dataframe\">\n  <thead>\n    <tr style=\"text-align: right;\">\n      <th></th>\n      <th>SGG</th>\n      <th>id</th>\n      <th>date</th>\n      <th>SO2</th>\n      <th>CO</th>\n      <th>PM10</th>\n      <th>PM25</th>\n    </tr>\n  </thead>\n  <tbody>\n    <tr>\n      <th>314334</th>\n      <td>인천 옹진군</td>\n      <td>831492</td>\n      <td>2019043020</td>\n      <td>0.0017</td>\n      <td>0.2</td>\n      <td>16.0</td>\n      <td>12.0</td>\n    </tr>\n    <tr>\n      <th>314335</th>\n      <td>인천 옹진군</td>\n      <td>831492</td>\n      <td>2019043021</td>\n      <td>0.0013</td>\n      <td>0.2</td>\n      <td>19.0</td>\n      <td>10.0</td>\n    </tr>\n    <tr>\n      <th>314336</th>\n      <td>인천 옹진군</td>\n      <td>831492</td>\n      <td>2019043022</td>\n      <td>0.0012</td>\n      <td>0.2</td>\n      <td>21.0</td>\n      <td>9.0</td>\n    </tr>\n    <tr>\n      <th>314337</th>\n      <td>인천 옹진군</td>\n      <td>831492</td>\n      <td>2019043023</td>\n      <td>0.0010</td>\n      <td>0.2</td>\n      <td>21.0</td>\n      <td>15.0</td>\n    </tr>\n    <tr>\n      <th>314338</th>\n      <td>인천 옹진군</td>\n      <td>831492</td>\n      <td>2019043024</td>\n      <td>0.0010</td>\n      <td>0.2</td>\n      <td>22.0</td>\n      <td>11.0</td>\n    </tr>\n  </tbody>\n</table>\n</div>"
     },
     "metadata": {},
     "execution_count": 80
    }
   ],
   "source": [
    "#필요한 컬럼들만 뽑아냅시다(참고: PM10은 미세먼지, PM25는 초미세먼지를 의미)\n",
    "cols=['SGG','id','date','SO2','CO','PM10','PM25']\n",
    "df2=df[cols]\n",
    "df2.tail()"
   ]
  },
  {
   "cell_type": "code",
   "execution_count": 82,
   "metadata": {
    "colab": {},
    "colab_type": "code",
    "id": "XDCNctYG2pSy"
   },
   "outputs": [
    {
     "output_type": "execute_result",
     "data": {
      "text/plain": "     SGG      id        date    SO2   CO  PM10  PM25       DATE\n0  서울 중구  111121  2019040101  0.002  0.4  27.0  16.0 2019-04-01\n1  서울 중구  111121  2019040102  0.003  0.4  25.0  15.0 2019-04-01\n2  서울 중구  111121  2019040103  0.003  0.4  23.0  13.0 2019-04-01\n3  서울 중구  111121  2019040104  0.002  0.5  22.0  12.0 2019-04-01\n4  서울 중구  111121  2019040105  0.002  0.4  23.0  12.0 2019-04-01",
      "text/html": "<div>\n<style scoped>\n    .dataframe tbody tr th:only-of-type {\n        vertical-align: middle;\n    }\n\n    .dataframe tbody tr th {\n        vertical-align: top;\n    }\n\n    .dataframe thead th {\n        text-align: right;\n    }\n</style>\n<table border=\"1\" class=\"dataframe\">\n  <thead>\n    <tr style=\"text-align: right;\">\n      <th></th>\n      <th>SGG</th>\n      <th>id</th>\n      <th>date</th>\n      <th>SO2</th>\n      <th>CO</th>\n      <th>PM10</th>\n      <th>PM25</th>\n      <th>DATE</th>\n    </tr>\n  </thead>\n  <tbody>\n    <tr>\n      <th>0</th>\n      <td>서울 중구</td>\n      <td>111121</td>\n      <td>2019040101</td>\n      <td>0.002</td>\n      <td>0.4</td>\n      <td>27.0</td>\n      <td>16.0</td>\n      <td>2019-04-01</td>\n    </tr>\n    <tr>\n      <th>1</th>\n      <td>서울 중구</td>\n      <td>111121</td>\n      <td>2019040102</td>\n      <td>0.003</td>\n      <td>0.4</td>\n      <td>25.0</td>\n      <td>15.0</td>\n      <td>2019-04-01</td>\n    </tr>\n    <tr>\n      <th>2</th>\n      <td>서울 중구</td>\n      <td>111121</td>\n      <td>2019040103</td>\n      <td>0.003</td>\n      <td>0.4</td>\n      <td>23.0</td>\n      <td>13.0</td>\n      <td>2019-04-01</td>\n    </tr>\n    <tr>\n      <th>3</th>\n      <td>서울 중구</td>\n      <td>111121</td>\n      <td>2019040104</td>\n      <td>0.002</td>\n      <td>0.5</td>\n      <td>22.0</td>\n      <td>12.0</td>\n      <td>2019-04-01</td>\n    </tr>\n    <tr>\n      <th>4</th>\n      <td>서울 중구</td>\n      <td>111121</td>\n      <td>2019040105</td>\n      <td>0.002</td>\n      <td>0.4</td>\n      <td>23.0</td>\n      <td>12.0</td>\n      <td>2019-04-01</td>\n    </tr>\n  </tbody>\n</table>\n</div>"
     },
     "metadata": {},
     "execution_count": 82
    }
   ],
   "source": [
    "#'date' 칼럼의 타입을 datetime으로 설정하고, 이를 인덱스로 설정해봅시다.\n",
    "##'date'를 연-월-일 형식으로 바꿔봅시다. 마지막 2자리는 제외(마지막 2자리는 hour)\n",
    "s_date=df2.date.astype(str)\n",
    "s_date2=s_date.str[:-2]\n",
    "df2['DATE']=pd.to_datetime(s_date2)\n",
    "df2.head()"
   ]
  },
  {
   "cell_type": "code",
   "execution_count": 84,
   "metadata": {
    "colab": {},
    "colab_type": "code",
    "id": "BObcwTMb2pS1",
    "outputId": "68b458ae-e039-472a-a1ab-6b5f5bef21a4",
    "tags": []
   },
   "outputs": [
    {
     "output_type": "stream",
     "name": "stdout",
     "text": "datetime64[ns]\n"
    }
   ],
   "source": [
    "print(df2.DATE.dtypes)"
   ]
  },
  {
   "cell_type": "code",
   "execution_count": 86,
   "metadata": {
    "colab": {},
    "colab_type": "code",
    "id": "zPohN3qe2pS3",
    "outputId": "e87c34b8-e151-472a-b041-5b6fc296ee34"
   },
   "outputs": [
    {
     "output_type": "execute_result",
     "data": {
      "text/plain": "Index(['0', '1', '2', '3', '4', '5', '6', '7', '8', '9',\n       ...\n       '314329', '314330', '314331', '314332', '314333', '314334', '314335',\n       '314336', '314337', '314338'],\n      dtype='object', length=314339)"
     },
     "metadata": {},
     "execution_count": 86
    }
   ],
   "source": [
    "df2.index"
   ]
  },
  {
   "cell_type": "code",
   "execution_count": 88,
   "metadata": {
    "colab": {},
    "colab_type": "code",
    "id": "ATxS5HpF2pS5",
    "outputId": "d1a63076-ab14-4063-f479-652146235c62"
   },
   "outputs": [
    {
     "output_type": "error",
     "ename": "KeyError",
     "evalue": "\"None of ['DATE'] are in the columns\"",
     "traceback": [
      "\u001b[1;31m---------------------------------------------------------------------------\u001b[0m",
      "\u001b[1;31mKeyError\u001b[0m                                  Traceback (most recent call last)",
      "\u001b[1;32m<ipython-input-88-943d4f710464>\u001b[0m in \u001b[0;36m<module>\u001b[1;34m\u001b[0m\n\u001b[1;32m----> 1\u001b[1;33m \u001b[0mdf2\u001b[0m\u001b[1;33m=\u001b[0m\u001b[0mdf2\u001b[0m\u001b[1;33m.\u001b[0m\u001b[0mset_index\u001b[0m\u001b[1;33m(\u001b[0m\u001b[1;34m'DATE'\u001b[0m\u001b[1;33m)\u001b[0m\u001b[1;33m\u001b[0m\u001b[1;33m\u001b[0m\u001b[0m\n\u001b[0m\u001b[0;32m      2\u001b[0m \u001b[0mdf2\u001b[0m\u001b[1;33m.\u001b[0m\u001b[0mhead\u001b[0m\u001b[1;33m(\u001b[0m\u001b[1;33m)\u001b[0m\u001b[1;33m\u001b[0m\u001b[1;33m\u001b[0m\u001b[0m\n",
      "\u001b[1;32m~\\AppData\\Local\\Programs\\Python\\Python38\\lib\\site-packages\\pandas\\core\\frame.py\u001b[0m in \u001b[0;36mset_index\u001b[1;34m(self, keys, drop, append, inplace, verify_integrity)\u001b[0m\n\u001b[0;32m   4546\u001b[0m \u001b[1;33m\u001b[0m\u001b[0m\n\u001b[0;32m   4547\u001b[0m         \u001b[1;32mif\u001b[0m \u001b[0mmissing\u001b[0m\u001b[1;33m:\u001b[0m\u001b[1;33m\u001b[0m\u001b[1;33m\u001b[0m\u001b[0m\n\u001b[1;32m-> 4548\u001b[1;33m             \u001b[1;32mraise\u001b[0m \u001b[0mKeyError\u001b[0m\u001b[1;33m(\u001b[0m\u001b[1;34mf\"None of {missing} are in the columns\"\u001b[0m\u001b[1;33m)\u001b[0m\u001b[1;33m\u001b[0m\u001b[1;33m\u001b[0m\u001b[0m\n\u001b[0m\u001b[0;32m   4549\u001b[0m \u001b[1;33m\u001b[0m\u001b[0m\n\u001b[0;32m   4550\u001b[0m         \u001b[1;32mif\u001b[0m \u001b[0minplace\u001b[0m\u001b[1;33m:\u001b[0m\u001b[1;33m\u001b[0m\u001b[1;33m\u001b[0m\u001b[0m\n",
      "\u001b[1;31mKeyError\u001b[0m: \"None of ['DATE'] are in the columns\""
     ]
    }
   ],
   "source": [
    "df2=df2.set_index('DATE')\n",
    "df2.head()"
   ]
  },
  {
   "cell_type": "code",
   "execution_count": 91,
   "metadata": {
    "colab": {},
    "colab_type": "code",
    "id": "MwZUJu3X2pS7",
    "outputId": "e65ae9be-1b6f-4937-fd76-d7f9644c2975"
   },
   "outputs": [
    {
     "output_type": "execute_result",
     "data": {
      "text/plain": "DatetimeIndex(['2019-04-01', '2019-04-01', '2019-04-01', '2019-04-01',\n               '2019-04-01', '2019-04-01', '2019-04-01', '2019-04-01',\n               '2019-04-01', '2019-04-01',\n               ...\n               '2019-04-30', '2019-04-30', '2019-04-30', '2019-04-30',\n               '2019-04-30', '2019-04-30', '2019-04-30', '2019-04-30',\n               '2019-04-30', '2019-04-30'],\n              dtype='datetime64[ns]', name='DATE', length=314339, freq=None)"
     },
     "metadata": {},
     "execution_count": 91
    }
   ],
   "source": [
    "df2.index"
   ]
  },
  {
   "cell_type": "code",
   "execution_count": 93,
   "metadata": {
    "colab": {},
    "colab_type": "code",
    "id": "KtYiB9_r2pS9",
    "outputId": "8951441d-e900-49da-89e8-cd76f0c53942"
   },
   "outputs": [
    {
     "output_type": "execute_result",
     "data": {
      "text/plain": "              SGG      id        date    SO2   CO  PM10  PM25 SIDO\nDATE                                                              \n2019-04-01  서울 중구  111121  2019040101  0.002  0.4  27.0  16.0   서울\n2019-04-01  서울 중구  111121  2019040102  0.003  0.4  25.0  15.0   서울\n2019-04-01  서울 중구  111121  2019040103  0.003  0.4  23.0  13.0   서울\n2019-04-01  서울 중구  111121  2019040104  0.002  0.5  22.0  12.0   서울\n2019-04-01  서울 중구  111121  2019040105  0.002  0.4  23.0  12.0   서울",
      "text/html": "<div>\n<style scoped>\n    .dataframe tbody tr th:only-of-type {\n        vertical-align: middle;\n    }\n\n    .dataframe tbody tr th {\n        vertical-align: top;\n    }\n\n    .dataframe thead th {\n        text-align: right;\n    }\n</style>\n<table border=\"1\" class=\"dataframe\">\n  <thead>\n    <tr style=\"text-align: right;\">\n      <th></th>\n      <th>SGG</th>\n      <th>id</th>\n      <th>date</th>\n      <th>SO2</th>\n      <th>CO</th>\n      <th>PM10</th>\n      <th>PM25</th>\n      <th>SIDO</th>\n    </tr>\n    <tr>\n      <th>DATE</th>\n      <th></th>\n      <th></th>\n      <th></th>\n      <th></th>\n      <th></th>\n      <th></th>\n      <th></th>\n      <th></th>\n    </tr>\n  </thead>\n  <tbody>\n    <tr>\n      <th>2019-04-01</th>\n      <td>서울 중구</td>\n      <td>111121</td>\n      <td>2019040101</td>\n      <td>0.002</td>\n      <td>0.4</td>\n      <td>27.0</td>\n      <td>16.0</td>\n      <td>서울</td>\n    </tr>\n    <tr>\n      <th>2019-04-01</th>\n      <td>서울 중구</td>\n      <td>111121</td>\n      <td>2019040102</td>\n      <td>0.003</td>\n      <td>0.4</td>\n      <td>25.0</td>\n      <td>15.0</td>\n      <td>서울</td>\n    </tr>\n    <tr>\n      <th>2019-04-01</th>\n      <td>서울 중구</td>\n      <td>111121</td>\n      <td>2019040103</td>\n      <td>0.003</td>\n      <td>0.4</td>\n      <td>23.0</td>\n      <td>13.0</td>\n      <td>서울</td>\n    </tr>\n    <tr>\n      <th>2019-04-01</th>\n      <td>서울 중구</td>\n      <td>111121</td>\n      <td>2019040104</td>\n      <td>0.002</td>\n      <td>0.5</td>\n      <td>22.0</td>\n      <td>12.0</td>\n      <td>서울</td>\n    </tr>\n    <tr>\n      <th>2019-04-01</th>\n      <td>서울 중구</td>\n      <td>111121</td>\n      <td>2019040105</td>\n      <td>0.002</td>\n      <td>0.4</td>\n      <td>23.0</td>\n      <td>12.0</td>\n      <td>서울</td>\n    </tr>\n  </tbody>\n</table>\n</div>"
     },
     "metadata": {},
     "execution_count": 93
    }
   ],
   "source": [
    "#'date'컬럼 드롭\n",
    "# df2=df2.drop('date',axis=1)\n",
    "df2.head()"
   ]
  },
  {
   "cell_type": "code",
   "execution_count": 95,
   "metadata": {
    "colab": {},
    "colab_type": "code",
    "id": "tdIAOJTA2pTA",
    "outputId": "09371e96-f5d7-4bba-a226-45078fb9e93d"
   },
   "outputs": [
    {
     "output_type": "execute_result",
     "data": {
      "text/plain": "              SGG      id        date    SO2   CO  PM10  PM25 SIDO\nDATE                                                              \n2019-04-01  서울 중구  111121  2019040101  0.002  0.4  27.0  16.0   서울\n2019-04-01  서울 중구  111121  2019040102  0.003  0.4  25.0  15.0   서울\n2019-04-01  서울 중구  111121  2019040103  0.003  0.4  23.0  13.0   서울\n2019-04-01  서울 중구  111121  2019040104  0.002  0.5  22.0  12.0   서울\n2019-04-01  서울 중구  111121  2019040105  0.002  0.4  23.0  12.0   서울",
      "text/html": "<div>\n<style scoped>\n    .dataframe tbody tr th:only-of-type {\n        vertical-align: middle;\n    }\n\n    .dataframe tbody tr th {\n        vertical-align: top;\n    }\n\n    .dataframe thead th {\n        text-align: right;\n    }\n</style>\n<table border=\"1\" class=\"dataframe\">\n  <thead>\n    <tr style=\"text-align: right;\">\n      <th></th>\n      <th>SGG</th>\n      <th>id</th>\n      <th>date</th>\n      <th>SO2</th>\n      <th>CO</th>\n      <th>PM10</th>\n      <th>PM25</th>\n      <th>SIDO</th>\n    </tr>\n    <tr>\n      <th>DATE</th>\n      <th></th>\n      <th></th>\n      <th></th>\n      <th></th>\n      <th></th>\n      <th></th>\n      <th></th>\n      <th></th>\n    </tr>\n  </thead>\n  <tbody>\n    <tr>\n      <th>2019-04-01</th>\n      <td>서울 중구</td>\n      <td>111121</td>\n      <td>2019040101</td>\n      <td>0.002</td>\n      <td>0.4</td>\n      <td>27.0</td>\n      <td>16.0</td>\n      <td>서울</td>\n    </tr>\n    <tr>\n      <th>2019-04-01</th>\n      <td>서울 중구</td>\n      <td>111121</td>\n      <td>2019040102</td>\n      <td>0.003</td>\n      <td>0.4</td>\n      <td>25.0</td>\n      <td>15.0</td>\n      <td>서울</td>\n    </tr>\n    <tr>\n      <th>2019-04-01</th>\n      <td>서울 중구</td>\n      <td>111121</td>\n      <td>2019040103</td>\n      <td>0.003</td>\n      <td>0.4</td>\n      <td>23.0</td>\n      <td>13.0</td>\n      <td>서울</td>\n    </tr>\n    <tr>\n      <th>2019-04-01</th>\n      <td>서울 중구</td>\n      <td>111121</td>\n      <td>2019040104</td>\n      <td>0.002</td>\n      <td>0.5</td>\n      <td>22.0</td>\n      <td>12.0</td>\n      <td>서울</td>\n    </tr>\n    <tr>\n      <th>2019-04-01</th>\n      <td>서울 중구</td>\n      <td>111121</td>\n      <td>2019040105</td>\n      <td>0.002</td>\n      <td>0.4</td>\n      <td>23.0</td>\n      <td>12.0</td>\n      <td>서울</td>\n    </tr>\n  </tbody>\n</table>\n</div>"
     },
     "metadata": {},
     "execution_count": 95
    }
   ],
   "source": [
    "#새로운 칼럼인 'SIDO'를 만들어봅시다\n",
    "df2['SIDO']=df2['SGG'].str[0:2] #참고) df2['SIDO'] = df2['SGG'].str.split(' ')[0]\n",
    "df2.head()"
   ]
  },
  {
   "cell_type": "code",
   "execution_count": 97,
   "metadata": {
    "colab": {},
    "colab_type": "code",
    "id": "_9FysRFX2pTC",
    "outputId": "3f182be4-4567-4306-a117-ff330cd6ccfb"
   },
   "outputs": [
    {
     "output_type": "execute_result",
     "data": {
      "text/plain": "SIDO  DATE      \n강원    2019-04-01    17.067941\n      2019-04-02    15.893082\n      2019-04-03    19.614256\n      2019-04-04    23.418860\n      2019-04-05    24.406181\n      2019-04-06    14.756250\n      2019-04-07    13.703158\n      2019-04-08    12.529412\n      2019-04-09     9.227700\n      2019-04-10     3.550898\nName: PM25, dtype: float64"
     },
     "metadata": {},
     "execution_count": 97
    }
   ],
   "source": [
    "#시도별 하루 초미세먼지의 평균을 구해봅시다\n",
    "daily_mean=df2.groupby(['SIDO','DATE'])['PM25'].mean()\n",
    "daily_mean.head(10)"
   ]
  },
  {
   "cell_type": "code",
   "execution_count": 99,
   "metadata": {
    "colab": {},
    "colab_type": "code",
    "id": "GUtgZHzl2pTE",
    "outputId": "584638fa-74a6-4f2e-c9e9-95184c46720f"
   },
   "outputs": [
    {
     "output_type": "execute_result",
     "data": {
      "text/plain": "SIDO               강원         경기         경남         경북         광주         대구  \\\nDATE                                                                           \n2019-04-01  17.067941  11.882521  11.736349  12.011905  10.507463  13.453333   \n2019-04-02  15.893082  17.141889  13.584252  14.985981  17.039604  16.714660   \n2019-04-03  19.614256  21.720133  14.018809  16.498818  17.114833  18.785340   \n2019-04-04  23.418860  20.756563  18.759812  19.306977  26.160000  20.524804   \n2019-04-05  24.406181  23.270219  26.727129  27.344340  31.466981  27.894309   \n\nSIDO               대전         부산         서울         세종         울산         인천  \\\nDATE                                                                           \n2019-04-01  11.235915  16.206406  12.218317  11.159574  12.423174  10.416136   \n2019-04-02  14.191638  17.924429  16.965480  15.656250  16.115183  15.506383   \n2019-04-03  18.409722  19.128521  22.645678  19.787234  18.025381  20.257732   \n2019-04-04  21.125000  23.071304  20.144989  23.625000  21.713217  17.896000   \n2019-04-05  27.947552  33.141361  24.087645  24.631579  32.083538  19.928571   \n\nSIDO               전남         전북         제주         충남         충북  \nDATE                                                               \n2019-04-01   9.448519  12.346975  11.962406  12.056061  14.772009  \n2019-04-02  14.303073  17.878472  21.302817  17.057269  21.241935  \n2019-04-03  14.295518  21.930070  11.616000  21.135521  23.615556  \n2019-04-04  18.571622  24.729965  12.298611  20.541007  27.035398  \n2019-04-05  30.678378  33.229021  40.812500  25.824561  28.355705  ",
      "text/html": "<div>\n<style scoped>\n    .dataframe tbody tr th:only-of-type {\n        vertical-align: middle;\n    }\n\n    .dataframe tbody tr th {\n        vertical-align: top;\n    }\n\n    .dataframe thead th {\n        text-align: right;\n    }\n</style>\n<table border=\"1\" class=\"dataframe\">\n  <thead>\n    <tr style=\"text-align: right;\">\n      <th>SIDO</th>\n      <th>강원</th>\n      <th>경기</th>\n      <th>경남</th>\n      <th>경북</th>\n      <th>광주</th>\n      <th>대구</th>\n      <th>대전</th>\n      <th>부산</th>\n      <th>서울</th>\n      <th>세종</th>\n      <th>울산</th>\n      <th>인천</th>\n      <th>전남</th>\n      <th>전북</th>\n      <th>제주</th>\n      <th>충남</th>\n      <th>충북</th>\n    </tr>\n    <tr>\n      <th>DATE</th>\n      <th></th>\n      <th></th>\n      <th></th>\n      <th></th>\n      <th></th>\n      <th></th>\n      <th></th>\n      <th></th>\n      <th></th>\n      <th></th>\n      <th></th>\n      <th></th>\n      <th></th>\n      <th></th>\n      <th></th>\n      <th></th>\n      <th></th>\n    </tr>\n  </thead>\n  <tbody>\n    <tr>\n      <th>2019-04-01</th>\n      <td>17.067941</td>\n      <td>11.882521</td>\n      <td>11.736349</td>\n      <td>12.011905</td>\n      <td>10.507463</td>\n      <td>13.453333</td>\n      <td>11.235915</td>\n      <td>16.206406</td>\n      <td>12.218317</td>\n      <td>11.159574</td>\n      <td>12.423174</td>\n      <td>10.416136</td>\n      <td>9.448519</td>\n      <td>12.346975</td>\n      <td>11.962406</td>\n      <td>12.056061</td>\n      <td>14.772009</td>\n    </tr>\n    <tr>\n      <th>2019-04-02</th>\n      <td>15.893082</td>\n      <td>17.141889</td>\n      <td>13.584252</td>\n      <td>14.985981</td>\n      <td>17.039604</td>\n      <td>16.714660</td>\n      <td>14.191638</td>\n      <td>17.924429</td>\n      <td>16.965480</td>\n      <td>15.656250</td>\n      <td>16.115183</td>\n      <td>15.506383</td>\n      <td>14.303073</td>\n      <td>17.878472</td>\n      <td>21.302817</td>\n      <td>17.057269</td>\n      <td>21.241935</td>\n    </tr>\n    <tr>\n      <th>2019-04-03</th>\n      <td>19.614256</td>\n      <td>21.720133</td>\n      <td>14.018809</td>\n      <td>16.498818</td>\n      <td>17.114833</td>\n      <td>18.785340</td>\n      <td>18.409722</td>\n      <td>19.128521</td>\n      <td>22.645678</td>\n      <td>19.787234</td>\n      <td>18.025381</td>\n      <td>20.257732</td>\n      <td>14.295518</td>\n      <td>21.930070</td>\n      <td>11.616000</td>\n      <td>21.135521</td>\n      <td>23.615556</td>\n    </tr>\n    <tr>\n      <th>2019-04-04</th>\n      <td>23.418860</td>\n      <td>20.756563</td>\n      <td>18.759812</td>\n      <td>19.306977</td>\n      <td>26.160000</td>\n      <td>20.524804</td>\n      <td>21.125000</td>\n      <td>23.071304</td>\n      <td>20.144989</td>\n      <td>23.625000</td>\n      <td>21.713217</td>\n      <td>17.896000</td>\n      <td>18.571622</td>\n      <td>24.729965</td>\n      <td>12.298611</td>\n      <td>20.541007</td>\n      <td>27.035398</td>\n    </tr>\n    <tr>\n      <th>2019-04-05</th>\n      <td>24.406181</td>\n      <td>23.270219</td>\n      <td>26.727129</td>\n      <td>27.344340</td>\n      <td>31.466981</td>\n      <td>27.894309</td>\n      <td>27.947552</td>\n      <td>33.141361</td>\n      <td>24.087645</td>\n      <td>24.631579</td>\n      <td>32.083538</td>\n      <td>19.928571</td>\n      <td>30.678378</td>\n      <td>33.229021</td>\n      <td>40.812500</td>\n      <td>25.824561</td>\n      <td>28.355705</td>\n    </tr>\n  </tbody>\n</table>\n</div>"
     },
     "metadata": {},
     "execution_count": 99
    }
   ],
   "source": [
    "#보기 쉽게, stack 메서드를 이용하여 표로 정리해봅시다(date/SIDO)\n",
    "daily_mean2=daily_mean.unstack(level=0)\n",
    "daily_mean2.head()"
   ]
  },
  {
   "cell_type": "markdown",
   "metadata": {},
   "source": [
    "# Quest"
   ]
  },
  {
   "cell_type": "markdown",
   "metadata": {
    "colab_type": "text",
    "id": "3d5FXS4J2pTH"
   },
   "source": [
    "1. 로드한 'df2'데이터프레임에는 결측치가 상당수 포함되어 있습니다. \n",
    "결측치를 확인하는 코드를 이용하여, 어떤 칼럼에 결측치가 얼마나 있는지 파악해보세요.\n",
    "그리고, 'SO2','CO' 컬럼의 결측치는 그것의 평균값으로 채우고,\n",
    "'PM10','PM25' 컬럼의 결측치는 모두 삭제하는 코드를 작성해주세요."
   ]
  },
  {
   "cell_type": "code",
   "execution_count": 101,
   "metadata": {},
   "outputs": [
    {
     "output_type": "execute_result",
     "data": {
      "text/plain": "index        0\nDATE         0\nSGG          0\nid           0\ndate         0\nSO2          0\nCO           0\nPM10     11758\nPM25     30374\nSIDO         0\ndtype: int64"
     },
     "metadata": {},
     "execution_count": 101
    }
   ],
   "source": [
    "# 결측치 확인\n",
    "df2.reset_index(inplace=True)\n",
    "df2.isna().sum()"
   ]
  },
  {
   "cell_type": "code",
   "execution_count": 103,
   "metadata": {},
   "outputs": [
    {
     "output_type": "execute_result",
     "data": {
      "text/plain": "index    0\nDATE     0\nSGG      0\nid       0\ndate     0\nSO2      0\nCO       0\nPM10     0\nPM25     0\nSIDO     0\ndtype: int64"
     },
     "metadata": {},
     "execution_count": 103
    }
   ],
   "source": [
    "# SO2, CO 열의 NaN 값을 각각의 평균값으로 대체\n",
    "df2[\"SO2\"] = df2[\"SO2\"].fillna(df2[\"SO2\"].mean())\n",
    "df2[\"CO\"] = df2[\"CO\"].fillna(df2[\"CO\"].mean())\n",
    "df2.isna().sum()"
   ]
  },
  {
   "cell_type": "code",
   "execution_count": 105,
   "metadata": {},
   "outputs": [
    {
     "output_type": "execute_result",
     "data": {
      "text/plain": "index    0\nDATE     0\nSGG      0\nid       0\ndate     0\nSO2      0\nCO       0\nPM10     0\nPM25     0\nSIDO     0\nhour     0\ndtype: int64"
     },
     "metadata": {},
     "execution_count": 105
    }
   ],
   "source": [
    "# PM10, PM25의 NaN 값을 제거\n",
    "df2 = df2.dropna(how=\"any\")\n",
    "df2.isna().sum()"
   ]
  },
  {
   "cell_type": "markdown",
   "metadata": {
    "colab_type": "text",
    "id": "V8lTgyBk2pTI"
   },
   "source": [
    "2. df2의 'date' 칼럼은 '2018030509'와 같이 '연+월+일+시'로 되어 있습니다.\n",
    "우리는 여기서 연+월+일만 슬라이싱해 datetime형태로 DATE를 다시 정의했었죠?(ex. 2018-03-05)\n",
    "마찬가지로, 이번엔 '시'만 슬라이싱해 df2의 새로운 칼럼인 'hour' 칼럼을 만들어주세요.(ex. 09)"
   ]
  },
  {
   "cell_type": "code",
   "execution_count": 107,
   "metadata": {},
   "outputs": [
    {
     "output_type": "execute_result",
     "data": {
      "text/plain": "         index       DATE     SGG      id        date     SO2   CO  PM10  \\\n0            0 2019-04-01   서울 중구  111121  2019040101  0.0020  0.4  27.0   \n1            1 2019-04-01   서울 중구  111121  2019040102  0.0030  0.4  25.0   \n2            2 2019-04-01   서울 중구  111121  2019040103  0.0030  0.4  23.0   \n3            3 2019-04-01   서울 중구  111121  2019040104  0.0020  0.5  22.0   \n4            4 2019-04-01   서울 중구  111121  2019040105  0.0020  0.4  23.0   \n...        ...        ...     ...     ...         ...     ...  ...   ...   \n314334  314334 2019-04-30  인천 옹진군  831492  2019043020  0.0017  0.2  16.0   \n314335  314335 2019-04-30  인천 옹진군  831492  2019043021  0.0013  0.2  19.0   \n314336  314336 2019-04-30  인천 옹진군  831492  2019043022  0.0012  0.2  21.0   \n314337  314337 2019-04-30  인천 옹진군  831492  2019043023  0.0010  0.2  21.0   \n314338  314338 2019-04-30  인천 옹진군  831492  2019043024  0.0010  0.2  22.0   \n\n        PM25 SIDO hour  \n0       16.0   서울   01  \n1       15.0   서울   02  \n2       13.0   서울   03  \n3       12.0   서울   04  \n4       12.0   서울   05  \n...      ...  ...  ...  \n314334  12.0   인천   20  \n314335  10.0   인천   21  \n314336   9.0   인천   22  \n314337  15.0   인천   23  \n314338  11.0   인천   24  \n\n[280788 rows x 11 columns]",
      "text/html": "<div>\n<style scoped>\n    .dataframe tbody tr th:only-of-type {\n        vertical-align: middle;\n    }\n\n    .dataframe tbody tr th {\n        vertical-align: top;\n    }\n\n    .dataframe thead th {\n        text-align: right;\n    }\n</style>\n<table border=\"1\" class=\"dataframe\">\n  <thead>\n    <tr style=\"text-align: right;\">\n      <th></th>\n      <th>index</th>\n      <th>DATE</th>\n      <th>SGG</th>\n      <th>id</th>\n      <th>date</th>\n      <th>SO2</th>\n      <th>CO</th>\n      <th>PM10</th>\n      <th>PM25</th>\n      <th>SIDO</th>\n      <th>hour</th>\n    </tr>\n  </thead>\n  <tbody>\n    <tr>\n      <th>0</th>\n      <td>0</td>\n      <td>2019-04-01</td>\n      <td>서울 중구</td>\n      <td>111121</td>\n      <td>2019040101</td>\n      <td>0.0020</td>\n      <td>0.4</td>\n      <td>27.0</td>\n      <td>16.0</td>\n      <td>서울</td>\n      <td>01</td>\n    </tr>\n    <tr>\n      <th>1</th>\n      <td>1</td>\n      <td>2019-04-01</td>\n      <td>서울 중구</td>\n      <td>111121</td>\n      <td>2019040102</td>\n      <td>0.0030</td>\n      <td>0.4</td>\n      <td>25.0</td>\n      <td>15.0</td>\n      <td>서울</td>\n      <td>02</td>\n    </tr>\n    <tr>\n      <th>2</th>\n      <td>2</td>\n      <td>2019-04-01</td>\n      <td>서울 중구</td>\n      <td>111121</td>\n      <td>2019040103</td>\n      <td>0.0030</td>\n      <td>0.4</td>\n      <td>23.0</td>\n      <td>13.0</td>\n      <td>서울</td>\n      <td>03</td>\n    </tr>\n    <tr>\n      <th>3</th>\n      <td>3</td>\n      <td>2019-04-01</td>\n      <td>서울 중구</td>\n      <td>111121</td>\n      <td>2019040104</td>\n      <td>0.0020</td>\n      <td>0.5</td>\n      <td>22.0</td>\n      <td>12.0</td>\n      <td>서울</td>\n      <td>04</td>\n    </tr>\n    <tr>\n      <th>4</th>\n      <td>4</td>\n      <td>2019-04-01</td>\n      <td>서울 중구</td>\n      <td>111121</td>\n      <td>2019040105</td>\n      <td>0.0020</td>\n      <td>0.4</td>\n      <td>23.0</td>\n      <td>12.0</td>\n      <td>서울</td>\n      <td>05</td>\n    </tr>\n    <tr>\n      <th>...</th>\n      <td>...</td>\n      <td>...</td>\n      <td>...</td>\n      <td>...</td>\n      <td>...</td>\n      <td>...</td>\n      <td>...</td>\n      <td>...</td>\n      <td>...</td>\n      <td>...</td>\n      <td>...</td>\n    </tr>\n    <tr>\n      <th>314334</th>\n      <td>314334</td>\n      <td>2019-04-30</td>\n      <td>인천 옹진군</td>\n      <td>831492</td>\n      <td>2019043020</td>\n      <td>0.0017</td>\n      <td>0.2</td>\n      <td>16.0</td>\n      <td>12.0</td>\n      <td>인천</td>\n      <td>20</td>\n    </tr>\n    <tr>\n      <th>314335</th>\n      <td>314335</td>\n      <td>2019-04-30</td>\n      <td>인천 옹진군</td>\n      <td>831492</td>\n      <td>2019043021</td>\n      <td>0.0013</td>\n      <td>0.2</td>\n      <td>19.0</td>\n      <td>10.0</td>\n      <td>인천</td>\n      <td>21</td>\n    </tr>\n    <tr>\n      <th>314336</th>\n      <td>314336</td>\n      <td>2019-04-30</td>\n      <td>인천 옹진군</td>\n      <td>831492</td>\n      <td>2019043022</td>\n      <td>0.0012</td>\n      <td>0.2</td>\n      <td>21.0</td>\n      <td>9.0</td>\n      <td>인천</td>\n      <td>22</td>\n    </tr>\n    <tr>\n      <th>314337</th>\n      <td>314337</td>\n      <td>2019-04-30</td>\n      <td>인천 옹진군</td>\n      <td>831492</td>\n      <td>2019043023</td>\n      <td>0.0010</td>\n      <td>0.2</td>\n      <td>21.0</td>\n      <td>15.0</td>\n      <td>인천</td>\n      <td>23</td>\n    </tr>\n    <tr>\n      <th>314338</th>\n      <td>314338</td>\n      <td>2019-04-30</td>\n      <td>인천 옹진군</td>\n      <td>831492</td>\n      <td>2019043024</td>\n      <td>0.0010</td>\n      <td>0.2</td>\n      <td>22.0</td>\n      <td>11.0</td>\n      <td>인천</td>\n      <td>24</td>\n    </tr>\n  </tbody>\n</table>\n<p>280788 rows × 11 columns</p>\n</div>"
     },
     "metadata": {},
     "execution_count": 107
    }
   ],
   "source": [
    "hour = df2[\"date\"].astype(str).str[-2:]\n",
    "df2[\"hour\"] = hour\n",
    "df2"
   ]
  },
  {
   "cell_type": "markdown",
   "metadata": {
    "colab_type": "text",
    "id": "3_ewLspD2pTI"
   },
   "source": [
    "3. 미세먼지가 나쁜 기준은 초미세먼지('PM25')가 35보다 크면 '나쁨'으로 분류한다고 합니다.\n",
    "불린 인덱싱과, 위의 2번에서 만든 'hour' 칼럼을 이용하여, \n",
    "시군구(SGG)별로 PM25가 35보다 큰 시간들을 카운트하고,\n",
    "초미세먼지가 35보다 큰 개수가 많은 시군구와 그 시간대가 언제인지 sorting하여 구해주세요."
   ]
  },
  {
   "cell_type": "code",
   "execution_count": 175,
   "metadata": {
    "colab": {},
    "colab_type": "code",
    "id": "lqJUYl3Q2pTI",
    "tags": []
   },
   "outputs": [
    {
     "output_type": "execute_result",
     "data": {
      "text/plain": "              hour\nSGG     hour      \n경기 부천시  10      68\n        09      68\n        08      61\n충북 청주시  10      55\n경기 부천시  11      54\n...            ...\n경남 진주시  21       1\n경남 사천시  19       1\n        18       1\n        11       1\n서울 강북구  05       1\n\n[4536 rows x 1 columns]",
      "text/html": "<div>\n<style scoped>\n    .dataframe tbody tr th:only-of-type {\n        vertical-align: middle;\n    }\n\n    .dataframe tbody tr th {\n        vertical-align: top;\n    }\n\n    .dataframe thead th {\n        text-align: right;\n    }\n</style>\n<table border=\"1\" class=\"dataframe\">\n  <thead>\n    <tr style=\"text-align: right;\">\n      <th></th>\n      <th></th>\n      <th>hour</th>\n    </tr>\n    <tr>\n      <th>SGG</th>\n      <th>hour</th>\n      <th></th>\n    </tr>\n  </thead>\n  <tbody>\n    <tr>\n      <th rowspan=\"3\" valign=\"top\">경기 부천시</th>\n      <th>10</th>\n      <td>68</td>\n    </tr>\n    <tr>\n      <th>09</th>\n      <td>68</td>\n    </tr>\n    <tr>\n      <th>08</th>\n      <td>61</td>\n    </tr>\n    <tr>\n      <th>충북 청주시</th>\n      <th>10</th>\n      <td>55</td>\n    </tr>\n    <tr>\n      <th>경기 부천시</th>\n      <th>11</th>\n      <td>54</td>\n    </tr>\n    <tr>\n      <th>...</th>\n      <th>...</th>\n      <td>...</td>\n    </tr>\n    <tr>\n      <th>경남 진주시</th>\n      <th>21</th>\n      <td>1</td>\n    </tr>\n    <tr>\n      <th rowspan=\"3\" valign=\"top\">경남 사천시</th>\n      <th>19</th>\n      <td>1</td>\n    </tr>\n    <tr>\n      <th>18</th>\n      <td>1</td>\n    </tr>\n    <tr>\n      <th>11</th>\n      <td>1</td>\n    </tr>\n    <tr>\n      <th>서울 강북구</th>\n      <th>05</th>\n      <td>1</td>\n    </tr>\n  </tbody>\n</table>\n<p>4536 rows × 1 columns</p>\n</div>"
     },
     "metadata": {},
     "execution_count": 175
    }
   ],
   "source": [
    "# 시군구별로 PM25가 35보다 큰 시간들을 카운트\n",
    "bad = df2[df2[\"PM25\"] > 35][[\"SGG\", \"hour\"]].groupby([\"SGG\", \"hour\"])[\"hour\"].count().sort_values(ascending=False).to_frame()\n",
    "bad"
   ]
  }
 ],
 "metadata": {
  "accelerator": "GPU",
  "colab": {
   "collapsed_sections": [],
   "name": "실습+Quest.ipynb",
   "provenance": [],
   "toc_visible": true
  },
  "kernelspec": {
   "display_name": "Python 3.8.5 64-bit",
   "language": "python",
   "name": "python_defaultSpec_1600428484655"
  },
  "language_info": {
   "codemirror_mode": {
    "name": "ipython",
    "version": 3
   },
   "file_extension": ".py",
   "mimetype": "text/x-python",
   "name": "python",
   "nbconvert_exporter": "python",
   "pygments_lexer": "ipython3",
   "version": "3.8.5-final"
  }
 },
 "nbformat": 4,
 "nbformat_minor": 1
}