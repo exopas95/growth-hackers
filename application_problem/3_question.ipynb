{
  "nbformat": 4,
  "nbformat_minor": 0,
  "metadata": {
    "colab": {
      "name": "3_question.ipynb",
      "provenance": []
    },
    "kernelspec": {
      "name": "python3",
      "display_name": "Python 3"
    }
  },
  "cells": [
    {
      "cell_type": "markdown",
      "metadata": {
        "id": "evS5FDcYrvFd",
        "colab_type": "text"
      },
      "source": [
        "# 3. 앱스토어 데이터\n",
        "다음의 app_store.csv 데이터는 신 사업으로 어플 추천 시스템을 개발하는 스타트업인 G사가 다양한 어플에 대한 특성 정보와 사용자 평가 정보를 확보하여 정리한 데이터이다. <br> \n",
        "※ Rating은 평점, Reviews는 리뷰의 수, Installs는 설치된 수, Size는 앱의 용량, 그리고 Price는 앱의 가격이다.<br>\n",
        "\n",
        "\n"
      ]
    },
    {
      "cell_type": "markdown",
      "metadata": {
        "id": "pp4xQ3OX3UPP",
        "colab_type": "text"
      },
      "source": [
        "## 3-1 Rating 변수 상관관계 분석\n",
        "Rating 변수와 상관관계를 분석할 수 있는 변수를 찾고, 그들이 어떠한 관계를 갖는지 이유와 함께 설명해주세요. (시각 자료 및 코드를 제외한 답안의 길이는 한 페이지 이내로 제한해주세요.)\n"
      ]
    },
    {
      "cell_type": "code",
      "metadata": {
        "id": "ZMFI-UJPrVI2",
        "colab_type": "code",
        "colab": {}
      },
      "source": [
        "import pandas as pd\n",
        "import re\n",
        "df = pd.read_csv(\"app_store.csv\", encoding=\"utf-8-sig\")"
      ],
      "execution_count": 1,
      "outputs": []
    },
    {
      "cell_type": "code",
      "metadata": {
        "id": "_ObsAP25rcyB",
        "colab_type": "code",
        "colab": {
          "base_uri": "https://localhost:8080/",
          "height": 359
        },
        "outputId": "ee88cd8a-06f6-420f-f2ff-67473bee400d"
      },
      "source": [
        "df.head(10)"
      ],
      "execution_count": 2,
      "outputs": [
        {
          "output_type": "execute_result",
          "data": {
            "text/html": [
              "<div>\n",
              "<style scoped>\n",
              "    .dataframe tbody tr th:only-of-type {\n",
              "        vertical-align: middle;\n",
              "    }\n",
              "\n",
              "    .dataframe tbody tr th {\n",
              "        vertical-align: top;\n",
              "    }\n",
              "\n",
              "    .dataframe thead th {\n",
              "        text-align: right;\n",
              "    }\n",
              "</style>\n",
              "<table border=\"1\" class=\"dataframe\">\n",
              "  <thead>\n",
              "    <tr style=\"text-align: right;\">\n",
              "      <th></th>\n",
              "      <th>App Name</th>\n",
              "      <th>Category</th>\n",
              "      <th>Rating</th>\n",
              "      <th>Reviews</th>\n",
              "      <th>Installs</th>\n",
              "      <th>Size</th>\n",
              "      <th>Price</th>\n",
              "    </tr>\n",
              "  </thead>\n",
              "  <tbody>\n",
              "    <tr>\n",
              "      <th>0</th>\n",
              "      <td>123 Kids Fun MUSIC - Kids Music Educational Games</td>\n",
              "      <td>GAME_MUSIC</td>\n",
              "      <td>4.083333</td>\n",
              "      <td>36</td>\n",
              "      <td>1,000+</td>\n",
              "      <td>22M</td>\n",
              "      <td>$1.99</td>\n",
              "    </tr>\n",
              "    <tr>\n",
              "      <th>1</th>\n",
              "      <td>LetterSchool - Block Letters</td>\n",
              "      <td>GAME_EDUCATIONAL</td>\n",
              "      <td>4.181092</td>\n",
              "      <td>751</td>\n",
              "      <td>10,000+</td>\n",
              "      <td>79M</td>\n",
              "      <td>$6.99</td>\n",
              "    </tr>\n",
              "    <tr>\n",
              "      <th>2</th>\n",
              "      <td>Tynker for Schools</td>\n",
              "      <td>GAME_EDUCATIONAL</td>\n",
              "      <td>4.000000</td>\n",
              "      <td>33</td>\n",
              "      <td>1,000+</td>\n",
              "      <td>33M</td>\n",
              "      <td>$4.99</td>\n",
              "    </tr>\n",
              "    <tr>\n",
              "      <th>3</th>\n",
              "      <td>Fuzzy Numbers: Pre-K Number Foundation</td>\n",
              "      <td>EDUCATION</td>\n",
              "      <td>4.500000</td>\n",
              "      <td>22</td>\n",
              "      <td>1,000+</td>\n",
              "      <td>44M</td>\n",
              "      <td>$5.99</td>\n",
              "    </tr>\n",
              "    <tr>\n",
              "      <th>4</th>\n",
              "      <td>Toddler Sing and Play 2 Pro</td>\n",
              "      <td>GAME_MUSIC</td>\n",
              "      <td>4.065041</td>\n",
              "      <td>246</td>\n",
              "      <td>10,000+</td>\n",
              "      <td>20M</td>\n",
              "      <td>$1.99</td>\n",
              "    </tr>\n",
              "    <tr>\n",
              "      <th>5</th>\n",
              "      <td>Letter Quiz: Alphabet Aquarium</td>\n",
              "      <td>EDUCATION</td>\n",
              "      <td>4.151515</td>\n",
              "      <td>66</td>\n",
              "      <td>5,000+</td>\n",
              "      <td>44M</td>\n",
              "      <td>$1.99</td>\n",
              "    </tr>\n",
              "    <tr>\n",
              "      <th>6</th>\n",
              "      <td>Green Eggs and Ham - Dr. Seuss</td>\n",
              "      <td>BOOKS_AND_REFERENCE</td>\n",
              "      <td>4.656376</td>\n",
              "      <td>745</td>\n",
              "      <td>10,000+</td>\n",
              "      <td>14M</td>\n",
              "      <td>$3.99</td>\n",
              "    </tr>\n",
              "    <tr>\n",
              "      <th>7</th>\n",
              "      <td>Meme Generator PRO</td>\n",
              "      <td>ENTERTAINMENT</td>\n",
              "      <td>4.630876</td>\n",
              "      <td>4042</td>\n",
              "      <td>100,000+</td>\n",
              "      <td>58M</td>\n",
              "      <td>$2.99</td>\n",
              "    </tr>\n",
              "    <tr>\n",
              "      <th>8</th>\n",
              "      <td>Construction Simulator 2014</td>\n",
              "      <td>GAME_SIMULATION</td>\n",
              "      <td>4.339837</td>\n",
              "      <td>104091</td>\n",
              "      <td>1,000,000+</td>\n",
              "      <td>19M</td>\n",
              "      <td>$0.99</td>\n",
              "    </tr>\n",
              "    <tr>\n",
              "      <th>9</th>\n",
              "      <td>Tiny Scanner Pro: PDF Doc Scan</td>\n",
              "      <td>BUSINESS</td>\n",
              "      <td>4.798857</td>\n",
              "      <td>13120</td>\n",
              "      <td>100,000+</td>\n",
              "      <td>43M</td>\n",
              "      <td>$4.99</td>\n",
              "    </tr>\n",
              "  </tbody>\n",
              "</table>\n",
              "</div>"
            ],
            "text/plain": [
              "                                            App Name  ...  Price\n",
              "0  123 Kids Fun MUSIC - Kids Music Educational Games  ...  $1.99\n",
              "1                       LetterSchool - Block Letters  ...  $6.99\n",
              "2                                 Tynker for Schools  ...  $4.99\n",
              "3             Fuzzy Numbers: Pre-K Number Foundation  ...  $5.99\n",
              "4                        Toddler Sing and Play 2 Pro  ...  $1.99\n",
              "5                     Letter Quiz: Alphabet Aquarium  ...  $1.99\n",
              "6                     Green Eggs and Ham - Dr. Seuss  ...  $3.99\n",
              "7                                 Meme Generator PRO  ...  $2.99\n",
              "8                        Construction Simulator 2014  ...  $0.99\n",
              "9                     Tiny Scanner Pro: PDF Doc Scan  ...  $4.99\n",
              "\n",
              "[10 rows x 7 columns]"
            ]
          },
          "metadata": {
            "tags": []
          },
          "execution_count": 2
        }
      ]
    },
    {
      "cell_type": "markdown",
      "metadata": {
        "id": "70eCoqg_w3jb",
        "colab_type": "text"
      },
      "source": [
        "### 데이터 실수화\n",
        "dataframe의 Installs / Size / Price column이 모두 string 타입이기 때문에 correlation 계산을 위하여 모두 정수 혹은 실수 타입으로 바꿔준다."
      ]
    },
    {
      "cell_type": "code",
      "metadata": {
        "id": "IHzxOBrqreH5",
        "colab_type": "code",
        "colab": {
          "base_uri": "https://localhost:8080/",
          "height": 359
        },
        "outputId": "32c0d0f6-c452-47d7-c336-d109a6aced61"
      },
      "source": [
        "# Install 숫자로 변환\n",
        "install_lst = df[\"Installs\"].to_list()\n",
        "temp_lst = []\n",
        "for install in install_lst:\n",
        "  temp_lst.append(float(re.sub(\"[+,]\", \"\", install)))\n",
        "df[\"Installs\"] = temp_lst\n",
        "\n",
        "# Size 숫자로 변환\n",
        "size_lst = df[\"Size\"].to_list()\n",
        "temp_lst = []\n",
        "for size in size_lst:\n",
        "  if \"M\" in size:\n",
        "    temp_lst.append(float(re.sub(\"M\", \"\", size)) * 10000)\n",
        "  elif \"k\" in size:\n",
        "    temp_lst.append(float(re.sub(\"[k, K]\", \"\", size)) * 1000)\n",
        "df[\"Size\"] = temp_lst\n",
        "\n",
        "# Price 숫자로 변환\n",
        "price_lst = df[\"Price\"].to_list()\n",
        "temp_lst = []\n",
        "for price in price_lst:\n",
        "  temp_lst.append(float(re.sub(\"[$]\", \"\", price)))\n",
        "df[\"Price\"] = temp_lst\n",
        "df.head(10)"
      ],
      "execution_count": 3,
      "outputs": [
        {
          "output_type": "execute_result",
          "data": {
            "text/html": [
              "<div>\n",
              "<style scoped>\n",
              "    .dataframe tbody tr th:only-of-type {\n",
              "        vertical-align: middle;\n",
              "    }\n",
              "\n",
              "    .dataframe tbody tr th {\n",
              "        vertical-align: top;\n",
              "    }\n",
              "\n",
              "    .dataframe thead th {\n",
              "        text-align: right;\n",
              "    }\n",
              "</style>\n",
              "<table border=\"1\" class=\"dataframe\">\n",
              "  <thead>\n",
              "    <tr style=\"text-align: right;\">\n",
              "      <th></th>\n",
              "      <th>App Name</th>\n",
              "      <th>Category</th>\n",
              "      <th>Rating</th>\n",
              "      <th>Reviews</th>\n",
              "      <th>Installs</th>\n",
              "      <th>Size</th>\n",
              "      <th>Price</th>\n",
              "    </tr>\n",
              "  </thead>\n",
              "  <tbody>\n",
              "    <tr>\n",
              "      <th>0</th>\n",
              "      <td>123 Kids Fun MUSIC - Kids Music Educational Games</td>\n",
              "      <td>GAME_MUSIC</td>\n",
              "      <td>4.083333</td>\n",
              "      <td>36</td>\n",
              "      <td>1000.0</td>\n",
              "      <td>220000.0</td>\n",
              "      <td>1.99</td>\n",
              "    </tr>\n",
              "    <tr>\n",
              "      <th>1</th>\n",
              "      <td>LetterSchool - Block Letters</td>\n",
              "      <td>GAME_EDUCATIONAL</td>\n",
              "      <td>4.181092</td>\n",
              "      <td>751</td>\n",
              "      <td>10000.0</td>\n",
              "      <td>790000.0</td>\n",
              "      <td>6.99</td>\n",
              "    </tr>\n",
              "    <tr>\n",
              "      <th>2</th>\n",
              "      <td>Tynker for Schools</td>\n",
              "      <td>GAME_EDUCATIONAL</td>\n",
              "      <td>4.000000</td>\n",
              "      <td>33</td>\n",
              "      <td>1000.0</td>\n",
              "      <td>330000.0</td>\n",
              "      <td>4.99</td>\n",
              "    </tr>\n",
              "    <tr>\n",
              "      <th>3</th>\n",
              "      <td>Fuzzy Numbers: Pre-K Number Foundation</td>\n",
              "      <td>EDUCATION</td>\n",
              "      <td>4.500000</td>\n",
              "      <td>22</td>\n",
              "      <td>1000.0</td>\n",
              "      <td>440000.0</td>\n",
              "      <td>5.99</td>\n",
              "    </tr>\n",
              "    <tr>\n",
              "      <th>4</th>\n",
              "      <td>Toddler Sing and Play 2 Pro</td>\n",
              "      <td>GAME_MUSIC</td>\n",
              "      <td>4.065041</td>\n",
              "      <td>246</td>\n",
              "      <td>10000.0</td>\n",
              "      <td>200000.0</td>\n",
              "      <td>1.99</td>\n",
              "    </tr>\n",
              "    <tr>\n",
              "      <th>5</th>\n",
              "      <td>Letter Quiz: Alphabet Aquarium</td>\n",
              "      <td>EDUCATION</td>\n",
              "      <td>4.151515</td>\n",
              "      <td>66</td>\n",
              "      <td>5000.0</td>\n",
              "      <td>440000.0</td>\n",
              "      <td>1.99</td>\n",
              "    </tr>\n",
              "    <tr>\n",
              "      <th>6</th>\n",
              "      <td>Green Eggs and Ham - Dr. Seuss</td>\n",
              "      <td>BOOKS_AND_REFERENCE</td>\n",
              "      <td>4.656376</td>\n",
              "      <td>745</td>\n",
              "      <td>10000.0</td>\n",
              "      <td>140000.0</td>\n",
              "      <td>3.99</td>\n",
              "    </tr>\n",
              "    <tr>\n",
              "      <th>7</th>\n",
              "      <td>Meme Generator PRO</td>\n",
              "      <td>ENTERTAINMENT</td>\n",
              "      <td>4.630876</td>\n",
              "      <td>4042</td>\n",
              "      <td>100000.0</td>\n",
              "      <td>580000.0</td>\n",
              "      <td>2.99</td>\n",
              "    </tr>\n",
              "    <tr>\n",
              "      <th>8</th>\n",
              "      <td>Construction Simulator 2014</td>\n",
              "      <td>GAME_SIMULATION</td>\n",
              "      <td>4.339837</td>\n",
              "      <td>104091</td>\n",
              "      <td>1000000.0</td>\n",
              "      <td>190000.0</td>\n",
              "      <td>0.99</td>\n",
              "    </tr>\n",
              "    <tr>\n",
              "      <th>9</th>\n",
              "      <td>Tiny Scanner Pro: PDF Doc Scan</td>\n",
              "      <td>BUSINESS</td>\n",
              "      <td>4.798857</td>\n",
              "      <td>13120</td>\n",
              "      <td>100000.0</td>\n",
              "      <td>430000.0</td>\n",
              "      <td>4.99</td>\n",
              "    </tr>\n",
              "  </tbody>\n",
              "</table>\n",
              "</div>"
            ],
            "text/plain": [
              "                                            App Name  ... Price\n",
              "0  123 Kids Fun MUSIC - Kids Music Educational Games  ...  1.99\n",
              "1                       LetterSchool - Block Letters  ...  6.99\n",
              "2                                 Tynker for Schools  ...  4.99\n",
              "3             Fuzzy Numbers: Pre-K Number Foundation  ...  5.99\n",
              "4                        Toddler Sing and Play 2 Pro  ...  1.99\n",
              "5                     Letter Quiz: Alphabet Aquarium  ...  1.99\n",
              "6                     Green Eggs and Ham - Dr. Seuss  ...  3.99\n",
              "7                                 Meme Generator PRO  ...  2.99\n",
              "8                        Construction Simulator 2014  ...  0.99\n",
              "9                     Tiny Scanner Pro: PDF Doc Scan  ...  4.99\n",
              "\n",
              "[10 rows x 7 columns]"
            ]
          },
          "metadata": {
            "tags": []
          },
          "execution_count": 3
        }
      ]
    },
    {
      "cell_type": "markdown",
      "metadata": {
        "id": "iprnDyznxFSq",
        "colab_type": "text"
      },
      "source": [
        "## Feature Scaling\n",
        "Rating / Reviews / Installs / Size / Price 모두 제각기 다른 scale을 가지고 있다. 보다 효과적인 비교를 위해서 normalization을 진행했다."
      ]
    },
    {
      "cell_type": "code",
      "metadata": {
        "id": "pjo72nPBw0_e",
        "colab_type": "code",
        "colab": {
          "base_uri": "https://localhost:8080/",
          "height": 204
        },
        "outputId": "45fbb946-a98e-4ea5-ebda-3a7ccfb0005a"
      },
      "source": [
        "from sklearn.preprocessing import MinMaxScaler\n",
        "scaler = MinMaxScaler()\n",
        "data = df.loc[:,[\"Rating\", \"Reviews\", \"Installs\", \"Size\", \"Price\"]]\n",
        "df.loc[:,[\"Rating\", \"Reviews\", \"Installs\", \"Size\", \"Price\"]] = scaler.fit_transform(df.loc[:,[\"Rating\", \"Reviews\", \"Installs\", \"Size\", \"Price\"]])\n",
        "df.head()"
      ],
      "execution_count": 4,
      "outputs": [
        {
          "output_type": "execute_result",
          "data": {
            "text/html": [
              "<div>\n",
              "<style scoped>\n",
              "    .dataframe tbody tr th:only-of-type {\n",
              "        vertical-align: middle;\n",
              "    }\n",
              "\n",
              "    .dataframe tbody tr th {\n",
              "        vertical-align: top;\n",
              "    }\n",
              "\n",
              "    .dataframe thead th {\n",
              "        text-align: right;\n",
              "    }\n",
              "</style>\n",
              "<table border=\"1\" class=\"dataframe\">\n",
              "  <thead>\n",
              "    <tr style=\"text-align: right;\">\n",
              "      <th></th>\n",
              "      <th>App Name</th>\n",
              "      <th>Category</th>\n",
              "      <th>Rating</th>\n",
              "      <th>Reviews</th>\n",
              "      <th>Installs</th>\n",
              "      <th>Size</th>\n",
              "      <th>Price</th>\n",
              "    </tr>\n",
              "  </thead>\n",
              "  <tbody>\n",
              "    <tr>\n",
              "      <th>0</th>\n",
              "      <td>123 Kids Fun MUSIC - Kids Music Educational Games</td>\n",
              "      <td>GAME_MUSIC</td>\n",
              "      <td>0.770833</td>\n",
              "      <td>0.000053</td>\n",
              "      <td>0.0001</td>\n",
              "      <td>0.064552</td>\n",
              "      <td>0.002506</td>\n",
              "    </tr>\n",
              "    <tr>\n",
              "      <th>1</th>\n",
              "      <td>LetterSchool - Block Letters</td>\n",
              "      <td>GAME_EDUCATIONAL</td>\n",
              "      <td>0.795273</td>\n",
              "      <td>0.001139</td>\n",
              "      <td>0.0010</td>\n",
              "      <td>0.235451</td>\n",
              "      <td>0.015038</td>\n",
              "    </tr>\n",
              "    <tr>\n",
              "      <th>2</th>\n",
              "      <td>Tynker for Schools</td>\n",
              "      <td>GAME_EDUCATIONAL</td>\n",
              "      <td>0.750000</td>\n",
              "      <td>0.000049</td>\n",
              "      <td>0.0001</td>\n",
              "      <td>0.097532</td>\n",
              "      <td>0.010025</td>\n",
              "    </tr>\n",
              "    <tr>\n",
              "      <th>3</th>\n",
              "      <td>Fuzzy Numbers: Pre-K Number Foundation</td>\n",
              "      <td>EDUCATION</td>\n",
              "      <td>0.875000</td>\n",
              "      <td>0.000032</td>\n",
              "      <td>0.0001</td>\n",
              "      <td>0.130513</td>\n",
              "      <td>0.012531</td>\n",
              "    </tr>\n",
              "    <tr>\n",
              "      <th>4</th>\n",
              "      <td>Toddler Sing and Play 2 Pro</td>\n",
              "      <td>GAME_MUSIC</td>\n",
              "      <td>0.766260</td>\n",
              "      <td>0.000372</td>\n",
              "      <td>0.0010</td>\n",
              "      <td>0.058555</td>\n",
              "      <td>0.002506</td>\n",
              "    </tr>\n",
              "  </tbody>\n",
              "</table>\n",
              "</div>"
            ],
            "text/plain": [
              "                                            App Name  ...     Price\n",
              "0  123 Kids Fun MUSIC - Kids Music Educational Games  ...  0.002506\n",
              "1                       LetterSchool - Block Letters  ...  0.015038\n",
              "2                                 Tynker for Schools  ...  0.010025\n",
              "3             Fuzzy Numbers: Pre-K Number Foundation  ...  0.012531\n",
              "4                        Toddler Sing and Play 2 Pro  ...  0.002506\n",
              "\n",
              "[5 rows x 7 columns]"
            ]
          },
          "metadata": {
            "tags": []
          },
          "execution_count": 4
        }
      ]
    },
    {
      "cell_type": "markdown",
      "metadata": {
        "id": "qb-04eHlBsBE",
        "colab_type": "text"
      },
      "source": [
        "### 상관관계 파악\n",
        "pandas의 correlation 함수를 사용하여 상관관계를 비교하였다. 그 결과 아래 도출된 그래프와 상관관계 표에서 볼 수 있다시피 Rating과 상관관계가 큰 변수는 존재하지 않는다. 오직 Reviews와 Installs많이 유의미한 상관관계가 있다고 볼 수 있다."
      ]
    },
    {
      "cell_type": "code",
      "metadata": {
        "id": "aDUttSvVuLzw",
        "colab_type": "code",
        "colab": {
          "base_uri": "https://localhost:8080/",
          "height": 204
        },
        "outputId": "f488a4d5-1a21-4637-acf8-77379f1f9374"
      },
      "source": [
        "df.corr()"
      ],
      "execution_count": 5,
      "outputs": [
        {
          "output_type": "execute_result",
          "data": {
            "text/html": [
              "<div>\n",
              "<style scoped>\n",
              "    .dataframe tbody tr th:only-of-type {\n",
              "        vertical-align: middle;\n",
              "    }\n",
              "\n",
              "    .dataframe tbody tr th {\n",
              "        vertical-align: top;\n",
              "    }\n",
              "\n",
              "    .dataframe thead th {\n",
              "        text-align: right;\n",
              "    }\n",
              "</style>\n",
              "<table border=\"1\" class=\"dataframe\">\n",
              "  <thead>\n",
              "    <tr style=\"text-align: right;\">\n",
              "      <th></th>\n",
              "      <th>Rating</th>\n",
              "      <th>Reviews</th>\n",
              "      <th>Installs</th>\n",
              "      <th>Size</th>\n",
              "      <th>Price</th>\n",
              "    </tr>\n",
              "  </thead>\n",
              "  <tbody>\n",
              "    <tr>\n",
              "      <th>Rating</th>\n",
              "      <td>1.000000</td>\n",
              "      <td>0.058658</td>\n",
              "      <td>0.035402</td>\n",
              "      <td>0.048415</td>\n",
              "      <td>-0.033268</td>\n",
              "    </tr>\n",
              "    <tr>\n",
              "      <th>Reviews</th>\n",
              "      <td>0.058658</td>\n",
              "      <td>1.000000</td>\n",
              "      <td>0.741567</td>\n",
              "      <td>0.072782</td>\n",
              "      <td>-0.017392</td>\n",
              "    </tr>\n",
              "    <tr>\n",
              "      <th>Installs</th>\n",
              "      <td>0.035402</td>\n",
              "      <td>0.741567</td>\n",
              "      <td>1.000000</td>\n",
              "      <td>0.056786</td>\n",
              "      <td>-0.024050</td>\n",
              "    </tr>\n",
              "    <tr>\n",
              "      <th>Size</th>\n",
              "      <td>0.048415</td>\n",
              "      <td>0.072782</td>\n",
              "      <td>0.056786</td>\n",
              "      <td>1.000000</td>\n",
              "      <td>-0.022640</td>\n",
              "    </tr>\n",
              "    <tr>\n",
              "      <th>Price</th>\n",
              "      <td>-0.033268</td>\n",
              "      <td>-0.017392</td>\n",
              "      <td>-0.024050</td>\n",
              "      <td>-0.022640</td>\n",
              "      <td>1.000000</td>\n",
              "    </tr>\n",
              "  </tbody>\n",
              "</table>\n",
              "</div>"
            ],
            "text/plain": [
              "            Rating   Reviews  Installs      Size     Price\n",
              "Rating    1.000000  0.058658  0.035402  0.048415 -0.033268\n",
              "Reviews   0.058658  1.000000  0.741567  0.072782 -0.017392\n",
              "Installs  0.035402  0.741567  1.000000  0.056786 -0.024050\n",
              "Size      0.048415  0.072782  0.056786  1.000000 -0.022640\n",
              "Price    -0.033268 -0.017392 -0.024050 -0.022640  1.000000"
            ]
          },
          "metadata": {
            "tags": []
          },
          "execution_count": 5
        }
      ]
    },
    {
      "cell_type": "markdown",
      "metadata": {
        "id": "WXPcqCfTBxqg",
        "colab_type": "text"
      },
      "source": [
        "### 상관관계 그래프 시각화\n"
      ]
    },
    {
      "cell_type": "code",
      "metadata": {
        "id": "kuYRXFrjunBC",
        "colab_type": "code",
        "colab": {
          "base_uri": "https://localhost:8080/",
          "height": 73
        },
        "outputId": "9c2eb9f8-f230-4b70-801b-ca6ac93f0f6b"
      },
      "source": [
        "import matplotlib.pyplot as plt \n",
        "import seaborn as sns    "
      ],
      "execution_count": 6,
      "outputs": [
        {
          "output_type": "stream",
          "text": [
            "/usr/local/lib/python3.6/dist-packages/statsmodels/tools/_testing.py:19: FutureWarning: pandas.util.testing is deprecated. Use the functions in the public API at pandas.testing instead.\n",
            "  import pandas.util.testing as tm\n"
          ],
          "name": "stderr"
        }
      ]
    },
    {
      "cell_type": "code",
      "metadata": {
        "id": "J32MQitgv8rd",
        "colab_type": "code",
        "colab": {
          "base_uri": "https://localhost:8080/",
          "height": 885
        },
        "outputId": "565da19a-1af0-4840-e364-51840584a905"
      },
      "source": [
        "plt.figure(figsize=(15,15))\n",
        "sns.heatmap(data = df.corr(), annot=True, \n",
        "fmt = '.2f', linewidths=.5, cmap='Blues')"
      ],
      "execution_count": 7,
      "outputs": [
        {
          "output_type": "execute_result",
          "data": {
            "text/plain": [
              "<matplotlib.axes._subplots.AxesSubplot at 0x7f240f67dda0>"
            ]
          },
          "metadata": {
            "tags": []
          },
          "execution_count": 7
        },
        {
          "output_type": "display_data",
          "data": {
            "image/png": "[encoded data removed]",
            "text/plain": [
              "<Figure size 1080x1080 with 2 Axes>"
            ]
          },
          "metadata": {
            "tags": [],
            "needs_background": "light"
          }
        }
      ]
    },
    {
      "cell_type": "markdown",
      "metadata": {
        "id": "0rF5NoIH3gEd",
        "colab_type": "text"
      },
      "source": [
        "## 3-2 어플리케이션 추천\n",
        "250번 (Five Nights at Freddy's 4), 532번 (PAW Patrol Pups to the Rescue), 1664번 (My Town : Farm)  어플을 사용하는 고객이 만족할 만한 어플을 추천해주는 전략을 구체적인 추천 목록과 함께 제시해주세요. 단, 이 고객의 잔여 용량은 500M(500,000k), 예산 범위는 20달러로 추천하는 어플들의 용량과 가격 총합이 제시된 제한 범위를 넘어서는 안 됩니다. / 고객이 만족할 만한 어플에 대한 기준은 자유롭게 설정하시고 그 근거를 설명해주시면 됩니다. (시각 자료 및 코드를 제외한 답안의 길이는 두 페이지 이내로 제한해주세요.)"
      ]
    },
    {
      "cell_type": "code",
      "metadata": {
        "id": "pKWKwSx8wAx8",
        "colab_type": "code",
        "colab": {}
      },
      "source": [
        "import pandas as pd\n",
        "import re\n",
        "df2 = pd.read_csv(\"app_store.csv\", encoding=\"utf-8-sig\")"
      ],
      "execution_count": 8,
      "outputs": []
    },
    {
      "cell_type": "markdown",
      "metadata": {
        "id": "WbD0oD-s3rai",
        "colab_type": "text"
      },
      "source": [
        "먼저 전체 데이터에서 250, 532, 1664번 데이터를 읽고 각각 비교해보자."
      ]
    },
    {
      "cell_type": "code",
      "metadata": {
        "id": "NuhWTnlu3qUJ",
        "colab_type": "code",
        "colab": {
          "base_uri": "https://localhost:8080/",
          "height": 142
        },
        "outputId": "ae35b1c3-9319-4266-f7da-96acfe56e7a3"
      },
      "source": [
        "df2.loc[[250, 532, 1664], :]"
      ],
      "execution_count": 9,
      "outputs": [
        {
          "output_type": "execute_result",
          "data": {
            "text/html": [
              "<div>\n",
              "<style scoped>\n",
              "    .dataframe tbody tr th:only-of-type {\n",
              "        vertical-align: middle;\n",
              "    }\n",
              "\n",
              "    .dataframe tbody tr th {\n",
              "        vertical-align: top;\n",
              "    }\n",
              "\n",
              "    .dataframe thead th {\n",
              "        text-align: right;\n",
              "    }\n",
              "</style>\n",
              "<table border=\"1\" class=\"dataframe\">\n",
              "  <thead>\n",
              "    <tr style=\"text-align: right;\">\n",
              "      <th></th>\n",
              "      <th>App Name</th>\n",
              "      <th>Category</th>\n",
              "      <th>Rating</th>\n",
              "      <th>Reviews</th>\n",
              "      <th>Installs</th>\n",
              "      <th>Size</th>\n",
              "      <th>Price</th>\n",
              "    </tr>\n",
              "  </thead>\n",
              "  <tbody>\n",
              "    <tr>\n",
              "      <th>250</th>\n",
              "      <td>Five Nights at Freddy's 4</td>\n",
              "      <td>GAME_ACTION</td>\n",
              "      <td>4.591452</td>\n",
              "      <td>21782</td>\n",
              "      <td>100,000+</td>\n",
              "      <td>45M</td>\n",
              "      <td>$2.99</td>\n",
              "    </tr>\n",
              "    <tr>\n",
              "      <th>532</th>\n",
              "      <td>PAW Patrol Pups to the Rescue</td>\n",
              "      <td>GAME_ADVENTURE</td>\n",
              "      <td>2.840887</td>\n",
              "      <td>1037</td>\n",
              "      <td>100,000+</td>\n",
              "      <td>25M</td>\n",
              "      <td>$1.99</td>\n",
              "    </tr>\n",
              "    <tr>\n",
              "      <th>1664</th>\n",
              "      <td>My Town : Farm</td>\n",
              "      <td>GAME_EDUCATIONAL</td>\n",
              "      <td>4.139423</td>\n",
              "      <td>208</td>\n",
              "      <td>10,000+</td>\n",
              "      <td>68M</td>\n",
              "      <td>$2.99</td>\n",
              "    </tr>\n",
              "  </tbody>\n",
              "</table>\n",
              "</div>"
            ],
            "text/plain": [
              "                           App Name          Category  ...  Size  Price\n",
              "250       Five Nights at Freddy's 4       GAME_ACTION  ...   45M  $2.99\n",
              "532   PAW Patrol Pups to the Rescue    GAME_ADVENTURE  ...   25M  $1.99\n",
              "1664                 My Town : Farm  GAME_EDUCATIONAL  ...   68M  $2.99\n",
              "\n",
              "[3 rows x 7 columns]"
            ]
          },
          "metadata": {
            "tags": []
          },
          "execution_count": 9
        }
      ]
    },
    {
      "cell_type": "markdown",
      "metadata": {
        "id": "x9m-jpW24Owy",
        "colab_type": "text"
      },
      "source": [
        "### 데이터 이해하기\n",
        "각 데이터를 비교해보면 다음과 같은 사실을 알 수 있다.\n",
        "- 각 어플리케이션은 모두 시리즈로 이루어져 있다.\n",
        "- GAME 카테고리에 속해있다.\n",
        "- 가격이 저렴하다.\n",
        "\n",
        "각 어플리케이션이 모두 시리즈물이기 때문에, 각 시리즈의 대표작을 2개 씩 추천해주고자 한다. 앞서 상관관계를 분석한 결과 리뷰의 개수와 다운로드의 수가 비례하기 때문에 조금 더 구체적인 수치를 가진 리뷰 개수 데이터와 Rating 지표를 활용하고자 한다. 이때 하나의 수치가 아닌 두 수치를 혼합해서 섞은 이유는 다움과 같다.\n",
        "- Review와 Install은 해당 어플리케이션을 얼마나 많은 사람들이 사용하는지를 나타내기 때문에 인기 지표로 볼 수 있다\n",
        "- Rating은 사용자들의 만족도 지표라고 볼 수 있다.\n",
        "\n",
        "많은 사람들이 높은 만족도를 보이는 어플리케이션이 전반적으로 평가가 좋은 어플리케이션이기 때문에 리뷰의 개수가 평균 리뷰 개수 보다 많은 어플리케이션 중에서 평점이 가장 높은 두 어플리케이션을 선정할 것이다."
      ]
    },
    {
      "cell_type": "markdown",
      "metadata": {
        "id": "0xxArJnS7Uog",
        "colab_type": "text"
      },
      "source": [
        "### 데이터 실수화\n",
        "분석에 앞서 다시 한 번 column의 정수 / 실수화를 진행해주자."
      ]
    },
    {
      "cell_type": "code",
      "metadata": {
        "id": "oosj86f57ZiT",
        "colab_type": "code",
        "colab": {
          "base_uri": "https://localhost:8080/",
          "height": 359
        },
        "outputId": "0f6c21c5-2599-4f70-e9b1-43b4b391ad81"
      },
      "source": [
        "# Install 숫자로 변환\n",
        "install_lst = df2[\"Installs\"].to_list()\n",
        "temp_lst = []\n",
        "for install in install_lst:\n",
        "  temp_lst.append(float(re.sub(\"[+,]\", \"\", install)))\n",
        "df2[\"Installs\"] = temp_lst\n",
        "\n",
        "# Size 숫자로 변환\n",
        "size_lst = df2[\"Size\"].to_list()\n",
        "temp_lst = []\n",
        "for size in size_lst:\n",
        "  if \"M\" in size:\n",
        "    temp_lst.append(float(re.sub(\"M\", \"\", size)) * 10000)\n",
        "  elif \"k\" in size:\n",
        "    temp_lst.append(float(re.sub(\"[k, K]\", \"\", size)) * 1000)\n",
        "df2[\"Size\"] = temp_lst\n",
        "\n",
        "# Price 숫자로 변환\n",
        "price_lst = df2[\"Price\"].to_list()\n",
        "temp_lst = []\n",
        "for price in price_lst:\n",
        "  temp_lst.append(float(re.sub(\"[$]\", \"\", price)))\n",
        "df2[\"Price\"] = temp_lst\n",
        "df2.head(10)"
      ],
      "execution_count": 10,
      "outputs": [
        {
          "output_type": "execute_result",
          "data": {
            "text/html": [
              "<div>\n",
              "<style scoped>\n",
              "    .dataframe tbody tr th:only-of-type {\n",
              "        vertical-align: middle;\n",
              "    }\n",
              "\n",
              "    .dataframe tbody tr th {\n",
              "        vertical-align: top;\n",
              "    }\n",
              "\n",
              "    .dataframe thead th {\n",
              "        text-align: right;\n",
              "    }\n",
              "</style>\n",
              "<table border=\"1\" class=\"dataframe\">\n",
              "  <thead>\n",
              "    <tr style=\"text-align: right;\">\n",
              "      <th></th>\n",
              "      <th>App Name</th>\n",
              "      <th>Category</th>\n",
              "      <th>Rating</th>\n",
              "      <th>Reviews</th>\n",
              "      <th>Installs</th>\n",
              "      <th>Size</th>\n",
              "      <th>Price</th>\n",
              "    </tr>\n",
              "  </thead>\n",
              "  <tbody>\n",
              "    <tr>\n",
              "      <th>0</th>\n",
              "      <td>123 Kids Fun MUSIC - Kids Music Educational Games</td>\n",
              "      <td>GAME_MUSIC</td>\n",
              "      <td>4.083333</td>\n",
              "      <td>36</td>\n",
              "      <td>1000.0</td>\n",
              "      <td>220000.0</td>\n",
              "      <td>1.99</td>\n",
              "    </tr>\n",
              "    <tr>\n",
              "      <th>1</th>\n",
              "      <td>LetterSchool - Block Letters</td>\n",
              "      <td>GAME_EDUCATIONAL</td>\n",
              "      <td>4.181092</td>\n",
              "      <td>751</td>\n",
              "      <td>10000.0</td>\n",
              "      <td>790000.0</td>\n",
              "      <td>6.99</td>\n",
              "    </tr>\n",
              "    <tr>\n",
              "      <th>2</th>\n",
              "      <td>Tynker for Schools</td>\n",
              "      <td>GAME_EDUCATIONAL</td>\n",
              "      <td>4.000000</td>\n",
              "      <td>33</td>\n",
              "      <td>1000.0</td>\n",
              "      <td>330000.0</td>\n",
              "      <td>4.99</td>\n",
              "    </tr>\n",
              "    <tr>\n",
              "      <th>3</th>\n",
              "      <td>Fuzzy Numbers: Pre-K Number Foundation</td>\n",
              "      <td>EDUCATION</td>\n",
              "      <td>4.500000</td>\n",
              "      <td>22</td>\n",
              "      <td>1000.0</td>\n",
              "      <td>440000.0</td>\n",
              "      <td>5.99</td>\n",
              "    </tr>\n",
              "    <tr>\n",
              "      <th>4</th>\n",
              "      <td>Toddler Sing and Play 2 Pro</td>\n",
              "      <td>GAME_MUSIC</td>\n",
              "      <td>4.065041</td>\n",
              "      <td>246</td>\n",
              "      <td>10000.0</td>\n",
              "      <td>200000.0</td>\n",
              "      <td>1.99</td>\n",
              "    </tr>\n",
              "    <tr>\n",
              "      <th>5</th>\n",
              "      <td>Letter Quiz: Alphabet Aquarium</td>\n",
              "      <td>EDUCATION</td>\n",
              "      <td>4.151515</td>\n",
              "      <td>66</td>\n",
              "      <td>5000.0</td>\n",
              "      <td>440000.0</td>\n",
              "      <td>1.99</td>\n",
              "    </tr>\n",
              "    <tr>\n",
              "      <th>6</th>\n",
              "      <td>Green Eggs and Ham - Dr. Seuss</td>\n",
              "      <td>BOOKS_AND_REFERENCE</td>\n",
              "      <td>4.656376</td>\n",
              "      <td>745</td>\n",
              "      <td>10000.0</td>\n",
              "      <td>140000.0</td>\n",
              "      <td>3.99</td>\n",
              "    </tr>\n",
              "    <tr>\n",
              "      <th>7</th>\n",
              "      <td>Meme Generator PRO</td>\n",
              "      <td>ENTERTAINMENT</td>\n",
              "      <td>4.630876</td>\n",
              "      <td>4042</td>\n",
              "      <td>100000.0</td>\n",
              "      <td>580000.0</td>\n",
              "      <td>2.99</td>\n",
              "    </tr>\n",
              "    <tr>\n",
              "      <th>8</th>\n",
              "      <td>Construction Simulator 2014</td>\n",
              "      <td>GAME_SIMULATION</td>\n",
              "      <td>4.339837</td>\n",
              "      <td>104091</td>\n",
              "      <td>1000000.0</td>\n",
              "      <td>190000.0</td>\n",
              "      <td>0.99</td>\n",
              "    </tr>\n",
              "    <tr>\n",
              "      <th>9</th>\n",
              "      <td>Tiny Scanner Pro: PDF Doc Scan</td>\n",
              "      <td>BUSINESS</td>\n",
              "      <td>4.798857</td>\n",
              "      <td>13120</td>\n",
              "      <td>100000.0</td>\n",
              "      <td>430000.0</td>\n",
              "      <td>4.99</td>\n",
              "    </tr>\n",
              "  </tbody>\n",
              "</table>\n",
              "</div>"
            ],
            "text/plain": [
              "                                            App Name  ... Price\n",
              "0  123 Kids Fun MUSIC - Kids Music Educational Games  ...  1.99\n",
              "1                       LetterSchool - Block Letters  ...  6.99\n",
              "2                                 Tynker for Schools  ...  4.99\n",
              "3             Fuzzy Numbers: Pre-K Number Foundation  ...  5.99\n",
              "4                        Toddler Sing and Play 2 Pro  ...  1.99\n",
              "5                     Letter Quiz: Alphabet Aquarium  ...  1.99\n",
              "6                     Green Eggs and Ham - Dr. Seuss  ...  3.99\n",
              "7                                 Meme Generator PRO  ...  2.99\n",
              "8                        Construction Simulator 2014  ...  0.99\n",
              "9                     Tiny Scanner Pro: PDF Doc Scan  ...  4.99\n",
              "\n",
              "[10 rows x 7 columns]"
            ]
          },
          "metadata": {
            "tags": []
          },
          "execution_count": 10
        }
      ]
    },
    {
      "cell_type": "markdown",
      "metadata": {
        "id": "1uZvtegcCkgD",
        "colab_type": "text"
      },
      "source": [
        "### Freddy 어플리케이션 추천 결과\n"
      ]
    },
    {
      "cell_type": "code",
      "metadata": {
        "id": "NpvIDGJf37Bt",
        "colab_type": "code",
        "colab": {
          "base_uri": "https://localhost:8080/",
          "height": 111
        },
        "outputId": "ba13e300-7da8-4c29-fa32-790db5b4b66c"
      },
      "source": [
        "freddy = df2[(df2[\"App Name\"].str.contains(\"Freddy\"))]\n",
        "freddy = freddy[(freddy[\"Reviews\"] > freddy[\"Reviews\"].mean())]\n",
        "freddy"
      ],
      "execution_count": 11,
      "outputs": [
        {
          "output_type": "execute_result",
          "data": {
            "text/html": [
              "<div>\n",
              "<style scoped>\n",
              "    .dataframe tbody tr th:only-of-type {\n",
              "        vertical-align: middle;\n",
              "    }\n",
              "\n",
              "    .dataframe tbody tr th {\n",
              "        vertical-align: top;\n",
              "    }\n",
              "\n",
              "    .dataframe thead th {\n",
              "        text-align: right;\n",
              "    }\n",
              "</style>\n",
              "<table border=\"1\" class=\"dataframe\">\n",
              "  <thead>\n",
              "    <tr style=\"text-align: right;\">\n",
              "      <th></th>\n",
              "      <th>App Name</th>\n",
              "      <th>Category</th>\n",
              "      <th>Rating</th>\n",
              "      <th>Reviews</th>\n",
              "      <th>Installs</th>\n",
              "      <th>Size</th>\n",
              "      <th>Price</th>\n",
              "    </tr>\n",
              "  </thead>\n",
              "  <tbody>\n",
              "    <tr>\n",
              "      <th>34</th>\n",
              "      <td>Five Nights at Freddy's</td>\n",
              "      <td>GAME_ACTION</td>\n",
              "      <td>4.575579</td>\n",
              "      <td>104679</td>\n",
              "      <td>1000000.0</td>\n",
              "      <td>500000.0</td>\n",
              "      <td>2.99</td>\n",
              "    </tr>\n",
              "    <tr>\n",
              "      <th>259</th>\n",
              "      <td>Five Nights at Freddy's 2</td>\n",
              "      <td>GAME_STRATEGY</td>\n",
              "      <td>4.620437</td>\n",
              "      <td>75687</td>\n",
              "      <td>500000.0</td>\n",
              "      <td>400000.0</td>\n",
              "      <td>2.99</td>\n",
              "    </tr>\n",
              "  </tbody>\n",
              "</table>\n",
              "</div>"
            ],
            "text/plain": [
              "                      App Name       Category  ...      Size  Price\n",
              "34     Five Nights at Freddy's    GAME_ACTION  ...  500000.0   2.99\n",
              "259  Five Nights at Freddy's 2  GAME_STRATEGY  ...  400000.0   2.99\n",
              "\n",
              "[2 rows x 7 columns]"
            ]
          },
          "metadata": {
            "tags": []
          },
          "execution_count": 11
        }
      ]
    },
    {
      "cell_type": "markdown",
      "metadata": {
        "id": "ZOxIe372Cpje",
        "colab_type": "text"
      },
      "source": [
        "### My Town 어플리케이션 추천 결과"
      ]
    },
    {
      "cell_type": "code",
      "metadata": {
        "id": "t7NB4Evq7kN2",
        "colab_type": "code",
        "colab": {
          "base_uri": "https://localhost:8080/",
          "height": 111
        },
        "outputId": "5fc04162-f9fe-4d94-ee82-8ad9a816f777"
      },
      "source": [
        "farm = df2[(df2[\"App Name\"].str.contains(\"My Town\"))]\n",
        "farm = farm[(farm[\"Reviews\"] > farm[\"Reviews\"].mean())]\n",
        "farm"
      ],
      "execution_count": 12,
      "outputs": [
        {
          "output_type": "execute_result",
          "data": {
            "text/html": [
              "<div>\n",
              "<style scoped>\n",
              "    .dataframe tbody tr th:only-of-type {\n",
              "        vertical-align: middle;\n",
              "    }\n",
              "\n",
              "    .dataframe tbody tr th {\n",
              "        vertical-align: top;\n",
              "    }\n",
              "\n",
              "    .dataframe thead th {\n",
              "        text-align: right;\n",
              "    }\n",
              "</style>\n",
              "<table border=\"1\" class=\"dataframe\">\n",
              "  <thead>\n",
              "    <tr style=\"text-align: right;\">\n",
              "      <th></th>\n",
              "      <th>App Name</th>\n",
              "      <th>Category</th>\n",
              "      <th>Rating</th>\n",
              "      <th>Reviews</th>\n",
              "      <th>Installs</th>\n",
              "      <th>Size</th>\n",
              "      <th>Price</th>\n",
              "    </tr>\n",
              "  </thead>\n",
              "  <tbody>\n",
              "    <tr>\n",
              "      <th>1348</th>\n",
              "      <td>My Town : Wedding</td>\n",
              "      <td>GAME_EDUCATIONAL</td>\n",
              "      <td>4.216216</td>\n",
              "      <td>518</td>\n",
              "      <td>10000.0</td>\n",
              "      <td>660000.0</td>\n",
              "      <td>2.99</td>\n",
              "    </tr>\n",
              "    <tr>\n",
              "      <th>1662</th>\n",
              "      <td>My Town : School</td>\n",
              "      <td>GAME_EDUCATIONAL</td>\n",
              "      <td>4.290000</td>\n",
              "      <td>700</td>\n",
              "      <td>10000.0</td>\n",
              "      <td>640000.0</td>\n",
              "      <td>2.99</td>\n",
              "    </tr>\n",
              "  </tbody>\n",
              "</table>\n",
              "</div>"
            ],
            "text/plain": [
              "               App Name          Category    Rating  ...  Installs      Size  Price\n",
              "1348  My Town : Wedding  GAME_EDUCATIONAL  4.216216  ...   10000.0  660000.0   2.99\n",
              "1662   My Town : School  GAME_EDUCATIONAL  4.290000  ...   10000.0  640000.0   2.99\n",
              "\n",
              "[2 rows x 7 columns]"
            ]
          },
          "metadata": {
            "tags": []
          },
          "execution_count": 12
        }
      ]
    },
    {
      "cell_type": "markdown",
      "metadata": {
        "id": "NmdpcaUWCv6e",
        "colab_type": "text"
      },
      "source": [
        "### PAW 어플리케이션 추천 결과"
      ]
    },
    {
      "cell_type": "code",
      "metadata": {
        "id": "7bULc6s386tq",
        "colab_type": "code",
        "colab": {
          "base_uri": "https://localhost:8080/",
          "height": 111
        },
        "outputId": "3477a02e-9b6d-428f-a256-06cebb71555d"
      },
      "source": [
        "paw = df2[(df2[\"App Name\"].str.contains(\"PAW\"))]\n",
        "paw = paw[(paw[\"Reviews\"] > paw[\"Reviews\"].mean())]\n",
        "paw"
      ],
      "execution_count": 13,
      "outputs": [
        {
          "output_type": "execute_result",
          "data": {
            "text/html": [
              "<div>\n",
              "<style scoped>\n",
              "    .dataframe tbody tr th:only-of-type {\n",
              "        vertical-align: middle;\n",
              "    }\n",
              "\n",
              "    .dataframe tbody tr th {\n",
              "        vertical-align: top;\n",
              "    }\n",
              "\n",
              "    .dataframe thead th {\n",
              "        text-align: right;\n",
              "    }\n",
              "</style>\n",
              "<table border=\"1\" class=\"dataframe\">\n",
              "  <thead>\n",
              "    <tr style=\"text-align: right;\">\n",
              "      <th></th>\n",
              "      <th>App Name</th>\n",
              "      <th>Category</th>\n",
              "      <th>Rating</th>\n",
              "      <th>Reviews</th>\n",
              "      <th>Installs</th>\n",
              "      <th>Size</th>\n",
              "      <th>Price</th>\n",
              "    </tr>\n",
              "  </thead>\n",
              "  <tbody>\n",
              "    <tr>\n",
              "      <th>532</th>\n",
              "      <td>PAW Patrol Pups to the Rescue</td>\n",
              "      <td>GAME_ADVENTURE</td>\n",
              "      <td>2.840887</td>\n",
              "      <td>1037</td>\n",
              "      <td>100000.0</td>\n",
              "      <td>250000.0</td>\n",
              "      <td>1.99</td>\n",
              "    </tr>\n",
              "    <tr>\n",
              "      <th>536</th>\n",
              "      <td>PAW Patrol Air and Sea Adventures</td>\n",
              "      <td>GAME_EDUCATIONAL</td>\n",
              "      <td>3.863972</td>\n",
              "      <td>2029</td>\n",
              "      <td>100000.0</td>\n",
              "      <td>240000.0</td>\n",
              "      <td>3.99</td>\n",
              "    </tr>\n",
              "  </tbody>\n",
              "</table>\n",
              "</div>"
            ],
            "text/plain": [
              "                              App Name          Category  ...      Size  Price\n",
              "532      PAW Patrol Pups to the Rescue    GAME_ADVENTURE  ...  250000.0   1.99\n",
              "536  PAW Patrol Air and Sea Adventures  GAME_EDUCATIONAL  ...  240000.0   3.99\n",
              "\n",
              "[2 rows x 7 columns]"
            ]
          },
          "metadata": {
            "tags": []
          },
          "execution_count": 13
        }
      ]
    },
    {
      "cell_type": "markdown",
      "metadata": {
        "id": "72UTadKd93h5",
        "colab_type": "text"
      },
      "source": [
        "자신이 플레이한 게임의 시리즈 이외에도 다른 게임을 추천받고 싶을 수 있다. 이를 위해 남은 금액으로 GAME 카테고리에서 가장 유명하면서 금액이 2 달러 이내인 게임을 추천해보자. 이번에는 데이터가 많으니 Reviews 평균이 아닌, 상위 25%를 기준으로 잡고 Rating이 가장 높은 어플리케이션을 구해보자."
      ]
    },
    {
      "cell_type": "code",
      "metadata": {
        "id": "HepCrFSF9DzD",
        "colab_type": "code",
        "colab": {
          "base_uri": "https://localhost:8080/",
          "height": 35
        },
        "outputId": "44025e05-56b3-42b3-ca7b-b13e8e83b716"
      },
      "source": [
        "new_df = pd.concat([freddy, farm, paw])\n",
        "result = [new_df[\"Size\"].sum(), new_df[\"Price\"].sum()]\n",
        "result"
      ],
      "execution_count": 15,
      "outputs": [
        {
          "output_type": "execute_result",
          "data": {
            "text/plain": [
              "[2690000.0, 17.94]"
            ]
          },
          "metadata": {
            "tags": []
          },
          "execution_count": 15
        }
      ]
    },
    {
      "cell_type": "code",
      "metadata": {
        "id": "70Zl_pza-KnB",
        "colab_type": "code",
        "colab": {
          "base_uri": "https://localhost:8080/",
          "height": 80
        },
        "outputId": "2fd566f2-c5f8-4262-dd40-1f3b064bc3a2"
      },
      "source": [
        "game = df2[(df2[\"Category\"].str.contains(\"GAME\"))]\n",
        "game_cheap = game[(game[\"Price\"] < 2)]\n",
        "game_cheap_popular = game_cheap[(game_cheap[\"Reviews\"] > game_cheap[\"Reviews\"].quantile(q=0.75, interpolation = \"higher\"))]\n",
        "game_cheap_popular_max = game_cheap_popular[(game_cheap_popular[\"Rating\"] == game_cheap_popular[\"Rating\"].max())]\n",
        "game_cheap_popular_max"
      ],
      "execution_count": 31,
      "outputs": [
        {
          "output_type": "execute_result",
          "data": {
            "text/html": [
              "<div>\n",
              "<style scoped>\n",
              "    .dataframe tbody tr th:only-of-type {\n",
              "        vertical-align: middle;\n",
              "    }\n",
              "\n",
              "    .dataframe tbody tr th {\n",
              "        vertical-align: top;\n",
              "    }\n",
              "\n",
              "    .dataframe thead th {\n",
              "        text-align: right;\n",
              "    }\n",
              "</style>\n",
              "<table border=\"1\" class=\"dataframe\">\n",
              "  <thead>\n",
              "    <tr style=\"text-align: right;\">\n",
              "      <th></th>\n",
              "      <th>App Name</th>\n",
              "      <th>Category</th>\n",
              "      <th>Rating</th>\n",
              "      <th>Reviews</th>\n",
              "      <th>Installs</th>\n",
              "      <th>Size</th>\n",
              "      <th>Price</th>\n",
              "    </tr>\n",
              "  </thead>\n",
              "  <tbody>\n",
              "    <tr>\n",
              "      <th>139</th>\n",
              "      <td>The Room Two</td>\n",
              "      <td>GAME_PUZZLE</td>\n",
              "      <td>4.871241</td>\n",
              "      <td>204024</td>\n",
              "      <td>1000000.0</td>\n",
              "      <td>220000.0</td>\n",
              "      <td>1.99</td>\n",
              "    </tr>\n",
              "  </tbody>\n",
              "</table>\n",
              "</div>"
            ],
            "text/plain": [
              "         App Name     Category    Rating  Reviews   Installs      Size  Price\n",
              "139  The Room Two  GAME_PUZZLE  4.871241   204024  1000000.0  220000.0   1.99"
            ]
          },
          "metadata": {
            "tags": []
          },
          "execution_count": 31
        }
      ]
    },
    {
      "cell_type": "markdown",
      "metadata": {
        "id": "BNyYwnuxAd6A",
        "colab_type": "text"
      },
      "source": [
        "최종 추천 목록은 다음과 같다."
      ]
    },
    {
      "cell_type": "code",
      "metadata": {
        "id": "p1XzS7KLAfqV",
        "colab_type": "code",
        "colab": {
          "base_uri": "https://localhost:8080/",
          "height": 143
        },
        "outputId": "885a2875-8fbf-435a-a18f-10ccba4144bd"
      },
      "source": [
        "final_result = pd.concat([new_df, game_cheap_popular_max])[\"App Name\"].to_list()\n",
        "final_result"
      ],
      "execution_count": 35,
      "outputs": [
        {
          "output_type": "execute_result",
          "data": {
            "text/plain": [
              "[\"Five Nights at Freddy's\",\n",
              " \"Five Nights at Freddy's 2\",\n",
              " 'My Town : Wedding',\n",
              " 'My Town : School',\n",
              " 'PAW Patrol Pups to the Rescue',\n",
              " 'PAW Patrol Air and Sea Adventures',\n",
              " 'The Room Two']"
            ]
          },
          "metadata": {
            "tags": []
          },
          "execution_count": 35
        }
      ]
    }
  ]
}