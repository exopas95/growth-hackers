{
 "cells": [
  {
   "cell_type": "markdown",
   "metadata": {},
   "source": [
    "<제출 기한: 9/24 에듀 세션 전 저녁 7시 반!> <br/>\n",
    "t-test 퀘스트 <br/>\n",
    "2020.csv, 2019.csv는 각각 2020년, 2019년 나라별 여러 행복 지수에 대한 데이터 이다.<br/>\n",
    "2020년은 'Ladder score'이라는 값이 최종 점수 이고, 이 값으로 내림차순 정렬 되어 있다.<br/>\n",
    "2019년은 'Score'이라는 값이 최종 점수 이고, 이 값으로 내림차순 정렬 되어 있다.<br/>\n",
    "\n",
    "1) 2020년도에서 상위 50% 나라들 중 50개를 랜덤으로 뽑고, 하위 50% 나라들 중 50개를 랜덤으로 뽑아 상위 50% 나라들의 평균 'Freedom to make life choices'가 더 큰지 검정 해주세요.<br/>\n",
    "<br/>\n",
    "추가문제 2) 50개의 나라를 랜덤으로 추출하여 해당 나라들의 2019년도와 2020년도 'Freedom to make life choices'를 비교해 차이가 있었는지 검정해 주세요.<br/>\n",
    "*대응 표본 t-test를 사용하는 것이고, 검정에 앞서 검정에 사용될 sample을 만드는 작업에 간단한 pandas 연산이 필요하니 도전해보면 좋을 듯 합니다!!\n",
    "\n",
    "<br/>\n",
    "#미제출 기준: 1번문항을 풀지 않았다(t-test와 그 결과를 제시 하지 않았다)<br/>\n",
    "\n",
    "#2번은 안푸셔도 미제출로 평가 되지 않습니다!"
   ]
  },
  {
   "cell_type": "code",
   "execution_count": null,
   "metadata": {},
   "outputs": [],
   "source": []
  },
  {
   "cell_type": "code",
   "execution_count": null,
   "metadata": {},
   "outputs": [],
   "source": []
  },
  {
   "cell_type": "code",
   "execution_count": null,
   "metadata": {},
   "outputs": [],
   "source": []
  },
  {
   "cell_type": "code",
   "execution_count": null,
   "metadata": {},
   "outputs": [],
   "source": []
  },
  {
   "cell_type": "code",
   "execution_count": null,
   "metadata": {},
   "outputs": [],
   "source": []
  },
  {
   "cell_type": "code",
   "execution_count": null,
   "metadata": {},
   "outputs": [],
   "source": []
  },
  {
   "cell_type": "code",
   "execution_count": null,
   "metadata": {},
   "outputs": [],
   "source": []
  },
  {
   "cell_type": "markdown",
   "metadata": {},
   "source": [
    "2번에서 검정을 위해 sampling을 하다가 잘 안된다! 하신 분들은 참고하세요! \n",
    "sampling 힌트\n",
    "#sample_country=np.random.choice(d19[d19['Country or region'].isin(d20['Country name'])]['Country or region'],50)\n",
    "#d19_free=d19[d19['Country or region'].isin(sample_country)].sort_values('Country or region')['Freedom to make life choices']\n",
    "#d20_free=d20[d20['Country name'].isin(sample_country)].sort_values('Country name')['Freedom to make life choices']"
   ]
  },
  {
   "cell_type": "code",
   "execution_count": null,
   "metadata": {},
   "outputs": [],
   "source": []
  }
 ],
 "metadata": {
  "kernelspec": {
   "display_name": "Python 3",
   "language": "python",
   "name": "python3"
  },
  "language_info": {
   "codemirror_mode": {
    "name": "ipython",
    "version": 3
   },
   "file_extension": ".py",
   "mimetype": "text/x-python",
   "name": "python",
   "nbconvert_exporter": "python",
   "pygments_lexer": "ipython3",
   "version": "3.7.6"
  }
 },
 "nbformat": 4,
 "nbformat_minor": 4
}
