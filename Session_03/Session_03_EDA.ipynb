{
 "cells": [
  {
   "cell_type": "markdown",
   "metadata": {
    "colab_type": "text",
    "id": "obyCjh54K_iX"
   },
   "source": [
    "## &#128205; Basic Setups"
   ]
  },
  {
   "cell_type": "code",
   "execution_count": 1,
   "metadata": {
    "colab": {
     "base_uri": "https://localhost:8080/",
     "height": 774
    },
    "colab_type": "code",
    "executionInfo": {
     "elapsed": 23440,
     "status": "ok",
     "timestamp": 1600322945733,
     "user": {
      "displayName": "그로스해커스모두",
      "photoUrl": "",
      "userId": "16814293870053642265"
     },
     "user_tz": -540
    },
    "id": "17us-cBEK_ie",
    "outputId": "e711cbb8-d303-4256-ce50-4cb14dd70a48"
   },
   "outputs": [
    {
     "name": "stderr",
     "output_type": "stream",
     "text": [
      "\n",
      "Usage:   \n",
      "  F:\\Anaconda3\\python.exe -m pip install [options] <requirement specifier> [package-index-options] ...\n",
      "  F:\\Anaconda3\\python.exe -m pip install [options] -r <requirements file> [package-index-options] ...\n",
      "  F:\\Anaconda3\\python.exe -m pip install [options] [-e] <vcs project url> ...\n",
      "  F:\\Anaconda3\\python.exe -m pip install [options] [-e] <local project path> ...\n",
      "  F:\\Anaconda3\\python.exe -m pip install [options] <archive url/path> ...\n",
      "\n",
      "no such option: -u\n"
     ]
    },
    {
     "name": "stdout",
     "output_type": "stream",
     "text": [
      "Requirement already satisfied: numpy in f:\\anaconda3\\lib\\site-packages (1.18.5)\n",
      "Requirement already satisfied: pandas in f:\\anaconda3\\lib\\site-packages (1.1.1)\n",
      "Requirement already satisfied: python-dateutil>=2.7.3 in c:\\users\\sewoong\\appdata\\roaming\\python\\python38\\site-packages (from pandas) (2.8.1)\n",
      "Requirement already satisfied: numpy>=1.15.4 in f:\\anaconda3\\lib\\site-packages (from pandas) (1.18.5)\n",
      "Requirement already satisfied: pytz>=2017.2 in f:\\anaconda3\\lib\\site-packages (from pandas) (2020.1)\n",
      "Requirement already satisfied: six>=1.5 in c:\\users\\sewoong\\appdata\\roaming\\python\\python38\\site-packages (from python-dateutil>=2.7.3->pandas) (1.15.0)\n",
      "Collecting matplotlib==3.0.3\n",
      "  Downloading matplotlib-3.0.3.tar.gz (36.6 MB)\n",
      "Requirement already satisfied: numpy>=1.10.0 in f:\\anaconda3\\lib\\site-packages (from matplotlib==3.0.3) (1.18.5)\n",
      "Requirement already satisfied: cycler>=0.10 in f:\\anaconda3\\lib\\site-packages (from matplotlib==3.0.3) (0.10.0)\n",
      "Requirement already satisfied: kiwisolver>=1.0.1 in f:\\anaconda3\\lib\\site-packages (from matplotlib==3.0.3) (1.2.0)\n",
      "Requirement already satisfied: pyparsing!=2.0.4,!=2.1.2,!=2.1.6,>=2.0.1 in f:\\anaconda3\\lib\\site-packages (from matplotlib==3.0.3) (2.4.7)\n",
      "Requirement already satisfied: python-dateutil>=2.1 in c:\\users\\sewoong\\appdata\\roaming\\python\\python38\\site-packages (from matplotlib==3.0.3) (2.8.1)\n",
      "Requirement already satisfied: six in c:\\users\\sewoong\\appdata\\roaming\\python\\python38\\site-packages (from cycler>=0.10->matplotlib==3.0.3) (1.15.0)\n",
      "Building wheels for collected packages: matplotlib\n",
      "  Building wheel for matplotlib (setup.py): started\n",
      "  Building wheel for matplotlib (setup.py): finished with status 'error'\n",
      "  Running setup.py clean for matplotlib\n",
      "Failed to build matplotlib\n",
      "Installing collected packages: matplotlib\n",
      "  Attempting uninstall: matplotlib\n",
      "    Found existing installation: matplotlib 3.3.1\n",
      "    Uninstalling matplotlib-3.3.1:\n",
      "      Successfully uninstalled matplotlib-3.3.1\n",
      "    Running setup.py install for matplotlib: started\n",
      "    Running setup.py install for matplotlib: finished with status 'error'\n",
      "  Rolling back uninstall of matplotlib\n",
      "  Moving to f:\\anaconda3\\lib\\site-packages\\__pycache__\\pylab.cpython-38.pyc\n",
      "   from C:\\Users\\Sewoong\\AppData\\Local\\Temp\\pip-uninstall-drru7og4\\pylab.cpython-38.pyc\n",
      "  Moving to f:\\anaconda3\\lib\\site-packages\\matplotlib-3.3.1-py3.8-nspkg.pth\n",
      "   from C:\\Users\\Sewoong\\AppData\\Local\\Temp\\pip-uninstall-5jps0ncd\\matplotlib-3.3.1-py3.8-nspkg.pth\n",
      "  Moving to f:\\anaconda3\\lib\\site-packages\\matplotlib-3.3.1.dist-info\\\n",
      "   from F:\\Anaconda3\\Lib\\site-packages\\~atplotlib-3.3.1.dist-info\n",
      "  Moving to f:\\anaconda3\\lib\\site-packages\\matplotlib\\\n",
      "   from F:\\Anaconda3\\Lib\\site-packages\\~atplotlib\n",
      "  Moving to f:\\anaconda3\\lib\\site-packages\\mpl_toolkits\\axes_grid1\\\n",
      "   from F:\\Anaconda3\\Lib\\site-packages\\mpl_toolkits\\~xes_grid1\n",
      "  Moving to f:\\anaconda3\\lib\\site-packages\\mpl_toolkits\\axes_grid\\\n",
      "   from F:\\Anaconda3\\Lib\\site-packages\\mpl_toolkits\\~xes_grid\n",
      "  Moving to f:\\anaconda3\\lib\\site-packages\\mpl_toolkits\\axisartist\\\n",
      "   from F:\\Anaconda3\\Lib\\site-packages\\mpl_toolkits\\~xisartist\n",
      "  Moving to f:\\anaconda3\\lib\\site-packages\\mpl_toolkits\\mplot3d\\\n",
      "   from F:\\Anaconda3\\Lib\\site-packages\\mpl_toolkits\\~plot3d\n",
      "  Moving to f:\\anaconda3\\lib\\site-packages\\mpl_toolkits\\tests\\\n",
      "   from F:\\Anaconda3\\Lib\\site-packages\\mpl_toolkits\\~ests\n",
      "  Moving to f:\\anaconda3\\lib\\site-packages\\pylab.py\n",
      "   from C:\\Users\\Sewoong\\AppData\\Local\\Temp\\pip-uninstall-5jps0ncd\\pylab.py\n"
     ]
    },
    {
     "name": "stderr",
     "output_type": "stream",
     "text": [
      "  ERROR: Command errored out with exit status 1:\n",
      "   command: 'F:\\Anaconda3\\python.exe' -u -c 'import sys, setuptools, tokenize; sys.argv[0] = '\"'\"'C:\\\\Users\\\\Sewoong\\\\AppData\\\\Local\\\\Temp\\\\pip-install-rqt63_fx\\\\matplotlib\\\\setup.py'\"'\"'; __file__='\"'\"'C:\\\\Users\\\\Sewoong\\\\AppData\\\\Local\\\\Temp\\\\pip-install-rqt63_fx\\\\matplotlib\\\\setup.py'\"'\"';f=getattr(tokenize, '\"'\"'open'\"'\"', open)(__file__);code=f.read().replace('\"'\"'\\r\\n'\"'\"', '\"'\"'\\n'\"'\"');f.close();exec(compile(code, __file__, '\"'\"'exec'\"'\"'))' bdist_wheel -d 'C:\\Users\\Sewoong\\AppData\\Local\\Temp\\pip-wheel-b20d34uf'\n",
      "       cwd: C:\\Users\\Sewoong\\AppData\\Local\\Temp\\pip-install-rqt63_fx\\matplotlib\\\n",
      "  Complete output (511 lines):\n",
      "  ============================================================================\n",
      "  Edit setup.cfg to change the build options\n",
      "  \n",
      "  BUILDING MATPLOTLIB\n",
      "              matplotlib: yes [3.0.3]\n",
      "                  python: yes [3.8.3 (default, Jul  2 2020, 17:30:36) [MSC\n",
      "                          v.1916 64 bit (AMD64)]]\n",
      "                platform: yes [win32]\n",
      "  \n",
      "  REQUIRED DEPENDENCIES AND EXTENSIONS\n",
      "                   numpy: yes [version 1.18.5]\n",
      "        install_requires: yes [handled by setuptools]\n",
      "                  libagg: yes [pkg-config information for 'libagg' could not\n",
      "                          be found. Using local copy.]\n",
      "                freetype: yes [Using unknown version found on system.]\n",
      "                     png: yes [Using unknown version found on system.]\n",
      "                   qhull: yes [pkg-config information for 'libqhull' could not\n",
      "                          be found. Using local copy.]\n",
      "  \n",
      "  OPTIONAL SUBPACKAGES\n",
      "             sample_data: yes [installing]\n",
      "                toolkits: yes [installing]\n",
      "                   tests: no  [skipping due to configuration]\n",
      "          toolkits_tests: no  [skipping due to configuration]\n",
      "  \n",
      "  OPTIONAL BACKEND EXTENSIONS\n",
      "                     agg: yes [installing]\n",
      "                   tkagg: yes [installing; run-time loading from Python Tcl /\n",
      "                          Tk]\n",
      "                  macosx: no  [Mac OS-X only]\n",
      "               windowing: yes [installing]\n",
      "  \n",
      "  OPTIONAL PACKAGE DATA\n",
      "                    dlls: no  [skipping due to configuration]\n",
      "  \n",
      "  running bdist_wheel\n",
      "  running build\n",
      "  running build_py\n",
      "  creating build\n",
      "  creating build\\lib.win-amd64-3.8\n",
      "  copying lib\\pylab.py -> build\\lib.win-amd64-3.8\n",
      "  creating build\\lib.win-amd64-3.8\\matplotlib\n",
      "  copying lib\\matplotlib\\afm.py -> build\\lib.win-amd64-3.8\\matplotlib\n",
      "  copying lib\\matplotlib\\animation.py -> build\\lib.win-amd64-3.8\\matplotlib\n",
      "  copying lib\\matplotlib\\artist.py -> build\\lib.win-amd64-3.8\\matplotlib\n",
      "  copying lib\\matplotlib\\axis.py -> build\\lib.win-amd64-3.8\\matplotlib\n",
      "  copying lib\\matplotlib\\backend_bases.py -> build\\lib.win-amd64-3.8\\matplotlib\n",
      "  copying lib\\matplotlib\\backend_managers.py -> build\\lib.win-amd64-3.8\\matplotlib\n",
      "  copying lib\\matplotlib\\backend_tools.py -> build\\lib.win-amd64-3.8\\matplotlib\n",
      "  copying lib\\matplotlib\\bezier.py -> build\\lib.win-amd64-3.8\\matplotlib\n",
      "  copying lib\\matplotlib\\blocking_input.py -> build\\lib.win-amd64-3.8\\matplotlib\n",
      "  copying lib\\matplotlib\\category.py -> build\\lib.win-amd64-3.8\\matplotlib\n",
      "  copying lib\\matplotlib\\cm.py -> build\\lib.win-amd64-3.8\\matplotlib\n",
      "  copying lib\\matplotlib\\collections.py -> build\\lib.win-amd64-3.8\\matplotlib\n",
      "  copying lib\\matplotlib\\colorbar.py -> build\\lib.win-amd64-3.8\\matplotlib\n",
      "  copying lib\\matplotlib\\colors.py -> build\\lib.win-amd64-3.8\\matplotlib\n",
      "  copying lib\\matplotlib\\container.py -> build\\lib.win-amd64-3.8\\matplotlib\n",
      "  copying lib\\matplotlib\\contour.py -> build\\lib.win-amd64-3.8\\matplotlib\n",
      "  copying lib\\matplotlib\\dates.py -> build\\lib.win-amd64-3.8\\matplotlib\n",
      "  copying lib\\matplotlib\\docstring.py -> build\\lib.win-amd64-3.8\\matplotlib\n",
      "  copying lib\\matplotlib\\dviread.py -> build\\lib.win-amd64-3.8\\matplotlib\n",
      "  copying lib\\matplotlib\\figure.py -> build\\lib.win-amd64-3.8\\matplotlib\n",
      "  copying lib\\matplotlib\\fontconfig_pattern.py -> build\\lib.win-amd64-3.8\\matplotlib\n",
      "  copying lib\\matplotlib\\font_manager.py -> build\\lib.win-amd64-3.8\\matplotlib\n",
      "  copying lib\\matplotlib\\gridspec.py -> build\\lib.win-amd64-3.8\\matplotlib\n",
      "  copying lib\\matplotlib\\hatch.py -> build\\lib.win-amd64-3.8\\matplotlib\n",
      "  copying lib\\matplotlib\\image.py -> build\\lib.win-amd64-3.8\\matplotlib\n",
      "  copying lib\\matplotlib\\legend.py -> build\\lib.win-amd64-3.8\\matplotlib\n",
      "  copying lib\\matplotlib\\legend_handler.py -> build\\lib.win-amd64-3.8\\matplotlib\n",
      "  copying lib\\matplotlib\\lines.py -> build\\lib.win-amd64-3.8\\matplotlib\n",
      "  copying lib\\matplotlib\\markers.py -> build\\lib.win-amd64-3.8\\matplotlib\n",
      "  copying lib\\matplotlib\\mathtext.py -> build\\lib.win-amd64-3.8\\matplotlib\n",
      "  copying lib\\matplotlib\\mlab.py -> build\\lib.win-amd64-3.8\\matplotlib\n",
      "  copying lib\\matplotlib\\offsetbox.py -> build\\lib.win-amd64-3.8\\matplotlib\n",
      "  copying lib\\matplotlib\\patches.py -> build\\lib.win-amd64-3.8\\matplotlib\n",
      "  copying lib\\matplotlib\\path.py -> build\\lib.win-amd64-3.8\\matplotlib\n",
      "  copying lib\\matplotlib\\patheffects.py -> build\\lib.win-amd64-3.8\\matplotlib\n",
      "  copying lib\\matplotlib\\pylab.py -> build\\lib.win-amd64-3.8\\matplotlib\n",
      "  copying lib\\matplotlib\\pyplot.py -> build\\lib.win-amd64-3.8\\matplotlib\n",
      "  copying lib\\matplotlib\\quiver.py -> build\\lib.win-amd64-3.8\\matplotlib\n",
      "  copying lib\\matplotlib\\rcsetup.py -> build\\lib.win-amd64-3.8\\matplotlib\n",
      "  copying lib\\matplotlib\\sankey.py -> build\\lib.win-amd64-3.8\\matplotlib\n",
      "  copying lib\\matplotlib\\scale.py -> build\\lib.win-amd64-3.8\\matplotlib\n",
      "  copying lib\\matplotlib\\spines.py -> build\\lib.win-amd64-3.8\\matplotlib\n",
      "  copying lib\\matplotlib\\stackplot.py -> build\\lib.win-amd64-3.8\\matplotlib\n",
      "  copying lib\\matplotlib\\streamplot.py -> build\\lib.win-amd64-3.8\\matplotlib\n",
      "  copying lib\\matplotlib\\table.py -> build\\lib.win-amd64-3.8\\matplotlib\n",
      "  copying lib\\matplotlib\\texmanager.py -> build\\lib.win-amd64-3.8\\matplotlib\n",
      "  copying lib\\matplotlib\\text.py -> build\\lib.win-amd64-3.8\\matplotlib\n",
      "  copying lib\\matplotlib\\textpath.py -> build\\lib.win-amd64-3.8\\matplotlib\n",
      "  copying lib\\matplotlib\\ticker.py -> build\\lib.win-amd64-3.8\\matplotlib\n",
      "  copying lib\\matplotlib\\tight_bbox.py -> build\\lib.win-amd64-3.8\\matplotlib\n",
      "  copying lib\\matplotlib\\tight_layout.py -> build\\lib.win-amd64-3.8\\matplotlib\n",
      "  copying lib\\matplotlib\\transforms.py -> build\\lib.win-amd64-3.8\\matplotlib\n",
      "  copying lib\\matplotlib\\type1font.py -> build\\lib.win-amd64-3.8\\matplotlib\n",
      "  copying lib\\matplotlib\\units.py -> build\\lib.win-amd64-3.8\\matplotlib\n",
      "  copying lib\\matplotlib\\widgets.py -> build\\lib.win-amd64-3.8\\matplotlib\n",
      "  copying lib\\matplotlib\\_animation_data.py -> build\\lib.win-amd64-3.8\\matplotlib\n",
      "  copying lib\\matplotlib\\_cm.py -> build\\lib.win-amd64-3.8\\matplotlib\n",
      "  copying lib\\matplotlib\\_cm_listed.py -> build\\lib.win-amd64-3.8\\matplotlib\n",
      "  copying lib\\matplotlib\\_color_data.py -> build\\lib.win-amd64-3.8\\matplotlib\n",
      "  copying lib\\matplotlib\\_constrained_layout.py -> build\\lib.win-amd64-3.8\\matplotlib\n",
      "  copying lib\\matplotlib\\_layoutbox.py -> build\\lib.win-amd64-3.8\\matplotlib\n",
      "  copying lib\\matplotlib\\_mathtext_data.py -> build\\lib.win-amd64-3.8\\matplotlib\n",
      "  copying lib\\matplotlib\\_pylab_helpers.py -> build\\lib.win-amd64-3.8\\matplotlib\n",
      "  copying lib\\matplotlib\\_version.py -> build\\lib.win-amd64-3.8\\matplotlib\n",
      "  copying lib\\matplotlib\\__init__.py -> build\\lib.win-amd64-3.8\\matplotlib\n",
      "  creating build\\lib.win-amd64-3.8\\matplotlib\\axes\n",
      "  copying lib\\matplotlib\\axes\\_axes.py -> build\\lib.win-amd64-3.8\\matplotlib\\axes\n",
      "  copying lib\\matplotlib\\axes\\_base.py -> build\\lib.win-amd64-3.8\\matplotlib\\axes\n",
      "  copying lib\\matplotlib\\axes\\_subplots.py -> build\\lib.win-amd64-3.8\\matplotlib\\axes\n",
      "  copying lib\\matplotlib\\axes\\__init__.py -> build\\lib.win-amd64-3.8\\matplotlib\\axes\n",
      "  creating build\\lib.win-amd64-3.8\\matplotlib\\backends\n",
      "  copying lib\\matplotlib\\backends\\backend_agg.py -> build\\lib.win-amd64-3.8\\matplotlib\\backends\n",
      "  copying lib\\matplotlib\\backends\\backend_cairo.py -> build\\lib.win-amd64-3.8\\matplotlib\\backends\n",
      "  copying lib\\matplotlib\\backends\\backend_gtk3.py -> build\\lib.win-amd64-3.8\\matplotlib\\backends\n",
      "  copying lib\\matplotlib\\backends\\backend_gtk3agg.py -> build\\lib.win-amd64-3.8\\matplotlib\\backends\n",
      "  copying lib\\matplotlib\\backends\\backend_gtk3cairo.py -> build\\lib.win-amd64-3.8\\matplotlib\\backends\n",
      "  copying lib\\matplotlib\\backends\\backend_macosx.py -> build\\lib.win-amd64-3.8\\matplotlib\\backends\n",
      "  copying lib\\matplotlib\\backends\\backend_mixed.py -> build\\lib.win-amd64-3.8\\matplotlib\\backends\n",
      "  copying lib\\matplotlib\\backends\\backend_nbagg.py -> build\\lib.win-amd64-3.8\\matplotlib\\backends\n",
      "  copying lib\\matplotlib\\backends\\backend_pdf.py -> build\\lib.win-amd64-3.8\\matplotlib\\backends\n",
      "  copying lib\\matplotlib\\backends\\backend_pgf.py -> build\\lib.win-amd64-3.8\\matplotlib\\backends\n",
      "  copying lib\\matplotlib\\backends\\backend_ps.py -> build\\lib.win-amd64-3.8\\matplotlib\\backends\n",
      "  copying lib\\matplotlib\\backends\\backend_qt4.py -> build\\lib.win-amd64-3.8\\matplotlib\\backends\n",
      "  copying lib\\matplotlib\\backends\\backend_qt4agg.py -> build\\lib.win-amd64-3.8\\matplotlib\\backends\n",
      "  copying lib\\matplotlib\\backends\\backend_qt4cairo.py -> build\\lib.win-amd64-3.8\\matplotlib\\backends\n"
     ]
    },
    {
     "name": "stderr",
     "output_type": "stream",
     "text": [
      "  copying lib\\matplotlib\\backends\\backend_qt5.py -> build\\lib.win-amd64-3.8\\matplotlib\\backends\n",
      "  copying lib\\matplotlib\\backends\\backend_qt5agg.py -> build\\lib.win-amd64-3.8\\matplotlib\\backends\n",
      "  copying lib\\matplotlib\\backends\\backend_qt5cairo.py -> build\\lib.win-amd64-3.8\\matplotlib\\backends\n",
      "  copying lib\\matplotlib\\backends\\backend_svg.py -> build\\lib.win-amd64-3.8\\matplotlib\\backends\n",
      "  copying lib\\matplotlib\\backends\\backend_template.py -> build\\lib.win-amd64-3.8\\matplotlib\\backends\n",
      "  copying lib\\matplotlib\\backends\\backend_tkagg.py -> build\\lib.win-amd64-3.8\\matplotlib\\backends\n",
      "  copying lib\\matplotlib\\backends\\backend_tkcairo.py -> build\\lib.win-amd64-3.8\\matplotlib\\backends\n",
      "  copying lib\\matplotlib\\backends\\backend_webagg.py -> build\\lib.win-amd64-3.8\\matplotlib\\backends\n",
      "  copying lib\\matplotlib\\backends\\backend_webagg_core.py -> build\\lib.win-amd64-3.8\\matplotlib\\backends\n",
      "  copying lib\\matplotlib\\backends\\backend_wx.py -> build\\lib.win-amd64-3.8\\matplotlib\\backends\n",
      "  copying lib\\matplotlib\\backends\\backend_wxagg.py -> build\\lib.win-amd64-3.8\\matplotlib\\backends\n",
      "  copying lib\\matplotlib\\backends\\backend_wxcairo.py -> build\\lib.win-amd64-3.8\\matplotlib\\backends\n",
      "  copying lib\\matplotlib\\backends\\qt_compat.py -> build\\lib.win-amd64-3.8\\matplotlib\\backends\n",
      "  copying lib\\matplotlib\\backends\\tkagg.py -> build\\lib.win-amd64-3.8\\matplotlib\\backends\n",
      "  copying lib\\matplotlib\\backends\\windowing.py -> build\\lib.win-amd64-3.8\\matplotlib\\backends\n",
      "  copying lib\\matplotlib\\backends\\wx_compat.py -> build\\lib.win-amd64-3.8\\matplotlib\\backends\n",
      "  copying lib\\matplotlib\\backends\\_backend_tk.py -> build\\lib.win-amd64-3.8\\matplotlib\\backends\n",
      "  copying lib\\matplotlib\\backends\\_gtk3_compat.py -> build\\lib.win-amd64-3.8\\matplotlib\\backends\n",
      "  copying lib\\matplotlib\\backends\\__init__.py -> build\\lib.win-amd64-3.8\\matplotlib\\backends\n",
      "  creating build\\lib.win-amd64-3.8\\matplotlib\\cbook\n",
      "  copying lib\\matplotlib\\cbook\\deprecation.py -> build\\lib.win-amd64-3.8\\matplotlib\\cbook\n",
      "  copying lib\\matplotlib\\cbook\\__init__.py -> build\\lib.win-amd64-3.8\\matplotlib\\cbook\n",
      "  creating build\\lib.win-amd64-3.8\\matplotlib\\compat\n",
      "  copying lib\\matplotlib\\compat\\subprocess.py -> build\\lib.win-amd64-3.8\\matplotlib\\compat\n",
      "  copying lib\\matplotlib\\compat\\__init__.py -> build\\lib.win-amd64-3.8\\matplotlib\\compat\n",
      "  creating build\\lib.win-amd64-3.8\\matplotlib\\projections\n",
      "  copying lib\\matplotlib\\projections\\geo.py -> build\\lib.win-amd64-3.8\\matplotlib\\projections\n",
      "  copying lib\\matplotlib\\projections\\polar.py -> build\\lib.win-amd64-3.8\\matplotlib\\projections\n",
      "  copying lib\\matplotlib\\projections\\__init__.py -> build\\lib.win-amd64-3.8\\matplotlib\\projections\n",
      "  creating build\\lib.win-amd64-3.8\\matplotlib\\sphinxext\n",
      "  copying lib\\matplotlib\\sphinxext\\mathmpl.py -> build\\lib.win-amd64-3.8\\matplotlib\\sphinxext\n",
      "  copying lib\\matplotlib\\sphinxext\\plot_directive.py -> build\\lib.win-amd64-3.8\\matplotlib\\sphinxext\n",
      "  copying lib\\matplotlib\\sphinxext\\__init__.py -> build\\lib.win-amd64-3.8\\matplotlib\\sphinxext\n",
      "  creating build\\lib.win-amd64-3.8\\matplotlib\\style\n",
      "  copying lib\\matplotlib\\style\\core.py -> build\\lib.win-amd64-3.8\\matplotlib\\style\n",
      "  copying lib\\matplotlib\\style\\__init__.py -> build\\lib.win-amd64-3.8\\matplotlib\\style\n",
      "  creating build\\lib.win-amd64-3.8\\matplotlib\\testing\n",
      "  copying lib\\matplotlib\\testing\\compare.py -> build\\lib.win-amd64-3.8\\matplotlib\\testing\n",
      "  copying lib\\matplotlib\\testing\\conftest.py -> build\\lib.win-amd64-3.8\\matplotlib\\testing\n",
      "  copying lib\\matplotlib\\testing\\decorators.py -> build\\lib.win-amd64-3.8\\matplotlib\\testing\n",
      "  copying lib\\matplotlib\\testing\\determinism.py -> build\\lib.win-amd64-3.8\\matplotlib\\testing\n",
      "  copying lib\\matplotlib\\testing\\disable_internet.py -> build\\lib.win-amd64-3.8\\matplotlib\\testing\n",
      "  copying lib\\matplotlib\\testing\\exceptions.py -> build\\lib.win-amd64-3.8\\matplotlib\\testing\n",
      "  copying lib\\matplotlib\\testing\\__init__.py -> build\\lib.win-amd64-3.8\\matplotlib\\testing\n",
      "  creating build\\lib.win-amd64-3.8\\matplotlib\\tri\n",
      "  copying lib\\matplotlib\\tri\\triangulation.py -> build\\lib.win-amd64-3.8\\matplotlib\\tri\n",
      "  copying lib\\matplotlib\\tri\\tricontour.py -> build\\lib.win-amd64-3.8\\matplotlib\\tri\n",
      "  copying lib\\matplotlib\\tri\\trifinder.py -> build\\lib.win-amd64-3.8\\matplotlib\\tri\n",
      "  copying lib\\matplotlib\\tri\\triinterpolate.py -> build\\lib.win-amd64-3.8\\matplotlib\\tri\n",
      "  copying lib\\matplotlib\\tri\\tripcolor.py -> build\\lib.win-amd64-3.8\\matplotlib\\tri\n",
      "  copying lib\\matplotlib\\tri\\triplot.py -> build\\lib.win-amd64-3.8\\matplotlib\\tri\n",
      "  copying lib\\matplotlib\\tri\\trirefine.py -> build\\lib.win-amd64-3.8\\matplotlib\\tri\n",
      "  copying lib\\matplotlib\\tri\\tritools.py -> build\\lib.win-amd64-3.8\\matplotlib\\tri\n",
      "  copying lib\\matplotlib\\tri\\__init__.py -> build\\lib.win-amd64-3.8\\matplotlib\\tri\n",
      "  creating build\\lib.win-amd64-3.8\\matplotlib\\backends\\qt_editor\n",
      "  copying lib\\matplotlib\\backends\\qt_editor\\figureoptions.py -> build\\lib.win-amd64-3.8\\matplotlib\\backends\\qt_editor\n",
      "  copying lib\\matplotlib\\backends\\qt_editor\\formlayout.py -> build\\lib.win-amd64-3.8\\matplotlib\\backends\\qt_editor\n",
      "  copying lib\\matplotlib\\backends\\qt_editor\\formsubplottool.py -> build\\lib.win-amd64-3.8\\matplotlib\\backends\\qt_editor\n",
      "  copying lib\\matplotlib\\backends\\qt_editor\\__init__.py -> build\\lib.win-amd64-3.8\\matplotlib\\backends\\qt_editor\n",
      "  creating build\\lib.win-amd64-3.8\\matplotlib\\testing\\jpl_units\n",
      "  copying lib\\matplotlib\\testing\\jpl_units\\Duration.py -> build\\lib.win-amd64-3.8\\matplotlib\\testing\\jpl_units\n",
      "  copying lib\\matplotlib\\testing\\jpl_units\\Epoch.py -> build\\lib.win-amd64-3.8\\matplotlib\\testing\\jpl_units\n",
      "  copying lib\\matplotlib\\testing\\jpl_units\\EpochConverter.py -> build\\lib.win-amd64-3.8\\matplotlib\\testing\\jpl_units\n",
      "  copying lib\\matplotlib\\testing\\jpl_units\\StrConverter.py -> build\\lib.win-amd64-3.8\\matplotlib\\testing\\jpl_units\n",
      "  copying lib\\matplotlib\\testing\\jpl_units\\UnitDbl.py -> build\\lib.win-amd64-3.8\\matplotlib\\testing\\jpl_units\n",
      "  copying lib\\matplotlib\\testing\\jpl_units\\UnitDblConverter.py -> build\\lib.win-amd64-3.8\\matplotlib\\testing\\jpl_units\n",
      "  copying lib\\matplotlib\\testing\\jpl_units\\UnitDblFormatter.py -> build\\lib.win-amd64-3.8\\matplotlib\\testing\\jpl_units\n",
      "  copying lib\\matplotlib\\testing\\jpl_units\\__init__.py -> build\\lib.win-amd64-3.8\\matplotlib\\testing\\jpl_units\n",
      "  creating build\\lib.win-amd64-3.8\\mpl_toolkits\n",
      "  copying lib\\mpl_toolkits\\__init__.py -> build\\lib.win-amd64-3.8\\mpl_toolkits\n",
      "  creating build\\lib.win-amd64-3.8\\mpl_toolkits\\mplot3d\n",
      "  copying lib\\mpl_toolkits\\mplot3d\\art3d.py -> build\\lib.win-amd64-3.8\\mpl_toolkits\\mplot3d\n",
      "  copying lib\\mpl_toolkits\\mplot3d\\axes3d.py -> build\\lib.win-amd64-3.8\\mpl_toolkits\\mplot3d\n",
      "  copying lib\\mpl_toolkits\\mplot3d\\axis3d.py -> build\\lib.win-amd64-3.8\\mpl_toolkits\\mplot3d\n",
      "  copying lib\\mpl_toolkits\\mplot3d\\proj3d.py -> build\\lib.win-amd64-3.8\\mpl_toolkits\\mplot3d\n",
      "  copying lib\\mpl_toolkits\\mplot3d\\__init__.py -> build\\lib.win-amd64-3.8\\mpl_toolkits\\mplot3d\n",
      "  creating build\\lib.win-amd64-3.8\\mpl_toolkits\\axes_grid\n",
      "  copying lib\\mpl_toolkits\\axes_grid\\anchored_artists.py -> build\\lib.win-amd64-3.8\\mpl_toolkits\\axes_grid\n",
      "  copying lib\\mpl_toolkits\\axes_grid\\angle_helper.py -> build\\lib.win-amd64-3.8\\mpl_toolkits\\axes_grid\n",
      "  copying lib\\mpl_toolkits\\axes_grid\\axes_divider.py -> build\\lib.win-amd64-3.8\\mpl_toolkits\\axes_grid\n",
      "  copying lib\\mpl_toolkits\\axes_grid\\axes_grid.py -> build\\lib.win-amd64-3.8\\mpl_toolkits\\axes_grid\n",
      "  copying lib\\mpl_toolkits\\axes_grid\\axes_rgb.py -> build\\lib.win-amd64-3.8\\mpl_toolkits\\axes_grid\n",
      "  copying lib\\mpl_toolkits\\axes_grid\\axes_size.py -> build\\lib.win-amd64-3.8\\mpl_toolkits\\axes_grid\n",
      "  copying lib\\mpl_toolkits\\axes_grid\\axislines.py -> build\\lib.win-amd64-3.8\\mpl_toolkits\\axes_grid\n",
      "  copying lib\\mpl_toolkits\\axes_grid\\axisline_style.py -> build\\lib.win-amd64-3.8\\mpl_toolkits\\axes_grid\n",
      "  copying lib\\mpl_toolkits\\axes_grid\\axis_artist.py -> build\\lib.win-amd64-3.8\\mpl_toolkits\\axes_grid\n",
      "  copying lib\\mpl_toolkits\\axes_grid\\clip_path.py -> build\\lib.win-amd64-3.8\\mpl_toolkits\\axes_grid\n",
      "  copying lib\\mpl_toolkits\\axes_grid\\colorbar.py -> build\\lib.win-amd64-3.8\\mpl_toolkits\\axes_grid\n",
      "  copying lib\\mpl_toolkits\\axes_grid\\floating_axes.py -> build\\lib.win-amd64-3.8\\mpl_toolkits\\axes_grid\n",
      "  copying lib\\mpl_toolkits\\axes_grid\\grid_finder.py -> build\\lib.win-amd64-3.8\\mpl_toolkits\\axes_grid\n",
      "  copying lib\\mpl_toolkits\\axes_grid\\grid_helper_curvelinear.py -> build\\lib.win-amd64-3.8\\mpl_toolkits\\axes_grid\n",
      "  copying lib\\mpl_toolkits\\axes_grid\\inset_locator.py -> build\\lib.win-amd64-3.8\\mpl_toolkits\\axes_grid\n",
      "  copying lib\\mpl_toolkits\\axes_grid\\parasite_axes.py -> build\\lib.win-amd64-3.8\\mpl_toolkits\\axes_grid\n",
      "  copying lib\\mpl_toolkits\\axes_grid\\__init__.py -> build\\lib.win-amd64-3.8\\mpl_toolkits\\axes_grid\n",
      "  creating build\\lib.win-amd64-3.8\\mpl_toolkits\\axes_grid1\n",
      "  copying lib\\mpl_toolkits\\axes_grid1\\anchored_artists.py -> build\\lib.win-amd64-3.8\\mpl_toolkits\\axes_grid1\n",
      "  copying lib\\mpl_toolkits\\axes_grid1\\axes_divider.py -> build\\lib.win-amd64-3.8\\mpl_toolkits\\axes_grid1\n",
      "  copying lib\\mpl_toolkits\\axes_grid1\\axes_grid.py -> build\\lib.win-amd64-3.8\\mpl_toolkits\\axes_grid1\n",
      "  copying lib\\mpl_toolkits\\axes_grid1\\axes_rgb.py -> build\\lib.win-amd64-3.8\\mpl_toolkits\\axes_grid1\n",
      "  copying lib\\mpl_toolkits\\axes_grid1\\axes_size.py -> build\\lib.win-amd64-3.8\\mpl_toolkits\\axes_grid1\n",
      "  copying lib\\mpl_toolkits\\axes_grid1\\colorbar.py -> build\\lib.win-amd64-3.8\\mpl_toolkits\\axes_grid1\n",
      "  copying lib\\mpl_toolkits\\axes_grid1\\inset_locator.py -> build\\lib.win-amd64-3.8\\mpl_toolkits\\axes_grid1\n",
      "  copying lib\\mpl_toolkits\\axes_grid1\\mpl_axes.py -> build\\lib.win-amd64-3.8\\mpl_toolkits\\axes_grid1\n",
      "  copying lib\\mpl_toolkits\\axes_grid1\\parasite_axes.py -> build\\lib.win-amd64-3.8\\mpl_toolkits\\axes_grid1\n",
      "  copying lib\\mpl_toolkits\\axes_grid1\\__init__.py -> build\\lib.win-amd64-3.8\\mpl_toolkits\\axes_grid1\n",
      "  creating build\\lib.win-amd64-3.8\\mpl_toolkits\\axisartist\n",
      "  copying lib\\mpl_toolkits\\axisartist\\angle_helper.py -> build\\lib.win-amd64-3.8\\mpl_toolkits\\axisartist\n",
      "  copying lib\\mpl_toolkits\\axisartist\\axes_divider.py -> build\\lib.win-amd64-3.8\\mpl_toolkits\\axisartist\n",
      "  copying lib\\mpl_toolkits\\axisartist\\axes_grid.py -> build\\lib.win-amd64-3.8\\mpl_toolkits\\axisartist\n",
      "  copying lib\\mpl_toolkits\\axisartist\\axes_rgb.py -> build\\lib.win-amd64-3.8\\mpl_toolkits\\axisartist\n",
      "  copying lib\\mpl_toolkits\\axisartist\\axislines.py -> build\\lib.win-amd64-3.8\\mpl_toolkits\\axisartist\n",
      "  copying lib\\mpl_toolkits\\axisartist\\axisline_style.py -> build\\lib.win-amd64-3.8\\mpl_toolkits\\axisartist\n",
      "  copying lib\\mpl_toolkits\\axisartist\\axis_artist.py -> build\\lib.win-amd64-3.8\\mpl_toolkits\\axisartist\n",
      "  copying lib\\mpl_toolkits\\axisartist\\clip_path.py -> build\\lib.win-amd64-3.8\\mpl_toolkits\\axisartist\n",
      "  copying lib\\mpl_toolkits\\axisartist\\floating_axes.py -> build\\lib.win-amd64-3.8\\mpl_toolkits\\axisartist\n",
      "  copying lib\\mpl_toolkits\\axisartist\\grid_finder.py -> build\\lib.win-amd64-3.8\\mpl_toolkits\\axisartist\n",
      "  copying lib\\mpl_toolkits\\axisartist\\grid_helper_curvelinear.py -> build\\lib.win-amd64-3.8\\mpl_toolkits\\axisartist\n",
      "  copying lib\\mpl_toolkits\\axisartist\\parasite_axes.py -> build\\lib.win-amd64-3.8\\mpl_toolkits\\axisartist\n",
      "  copying lib\\mpl_toolkits\\axisartist\\__init__.py -> build\\lib.win-amd64-3.8\\mpl_toolkits\\axisartist\n",
      "  creating build\\lib.win-amd64-3.8\\matplotlib\\mpl-data\n",
      "  creating build\\lib.win-amd64-3.8\\matplotlib\\mpl-data\\images\n",
      "  copying lib\\matplotlib\\mpl-data\\images\\help.pdf -> build\\lib.win-amd64-3.8\\matplotlib\\mpl-data\\images\n",
      "  creating build\\lib.win-amd64-3.8\\matplotlib\\mpl-data\\fonts\n",
      "  creating build\\lib.win-amd64-3.8\\matplotlib\\mpl-data\\fonts\\ttf\n",
      "  copying lib\\matplotlib\\mpl-data\\fonts\\ttf\\DejaVuSansMono-BoldOblique.ttf -> build\\lib.win-amd64-3.8\\matplotlib\\mpl-data\\fonts\\ttf\n",
      "  copying lib\\matplotlib\\mpl-data\\fonts\\ttf\\cmr10.ttf -> build\\lib.win-amd64-3.8\\matplotlib\\mpl-data\\fonts\\ttf\n",
      "  copying lib\\matplotlib\\mpl-data\\fonts\\ttf\\DejaVuSansMono.ttf -> build\\lib.win-amd64-3.8\\matplotlib\\mpl-data\\fonts\\ttf\n",
      "  copying lib\\matplotlib\\mpl-data\\fonts\\ttf\\STIXNonUni.ttf -> build\\lib.win-amd64-3.8\\matplotlib\\mpl-data\\fonts\\ttf\n",
      "  copying lib\\matplotlib\\mpl-data\\images\\subplots_large.png -> build\\lib.win-amd64-3.8\\matplotlib\\mpl-data\\images\n",
      "  copying lib\\matplotlib\\mpl-data\\images\\forward.pdf -> build\\lib.win-amd64-3.8\\matplotlib\\mpl-data\\images\n",
      "  copying lib\\matplotlib\\mpl-data\\fonts\\ttf\\STIXGeneral.ttf -> build\\lib.win-amd64-3.8\\matplotlib\\mpl-data\\fonts\\ttf\n",
      "  creating build\\lib.win-amd64-3.8\\matplotlib\\mpl-data\\fonts\\pdfcorefonts\n",
      "  copying lib\\matplotlib\\mpl-data\\fonts\\pdfcorefonts\\Times-Italic.afm -> build\\lib.win-amd64-3.8\\matplotlib\\mpl-data\\fonts\\pdfcorefonts\n",
      "  copying lib\\matplotlib\\mpl-data\\fonts\\ttf\\STIXSizFourSymBol.ttf -> build\\lib.win-amd64-3.8\\matplotlib\\mpl-data\\fonts\\ttf\n",
      "  creating build\\lib.win-amd64-3.8\\matplotlib\\mpl-data\\fonts\\afm\n",
      "  copying lib\\matplotlib\\mpl-data\\fonts\\afm\\pagd8a.afm -> build\\lib.win-amd64-3.8\\matplotlib\\mpl-data\\fonts\\afm\n",
      "  copying lib\\matplotlib\\mpl-data\\fonts\\ttf\\DejaVuSerif.ttf -> build\\lib.win-amd64-3.8\\matplotlib\\mpl-data\\fonts\\ttf\n",
      "  copying lib\\matplotlib\\mpl-data\\fonts\\pdfcorefonts\\Symbol.afm -> build\\lib.win-amd64-3.8\\matplotlib\\mpl-data\\fonts\\pdfcorefonts\n",
      "  creating build\\lib.win-amd64-3.8\\matplotlib\\backends\\web_backend\n",
      "  creating build\\lib.win-amd64-3.8\\matplotlib\\backends\\web_backend\\jquery-ui-1.12.1\n",
      "  copying lib\\matplotlib\\backends\\web_backend\\jquery-ui-1.12.1\\jquery-ui.structure.min.css -> build\\lib.win-amd64-3.8\\matplotlib\\backends\\web_backend\\jquery-ui-1.12.1\n",
      "  copying lib\\matplotlib\\mpl-data\\fonts\\pdfcorefonts\\readme.txt -> build\\lib.win-amd64-3.8\\matplotlib\\mpl-data\\fonts\\pdfcorefonts\n",
      "  copying lib\\matplotlib\\mpl-data\\fonts\\pdfcorefonts\\Courier.afm -> build\\lib.win-amd64-3.8\\matplotlib\\mpl-data\\fonts\\pdfcorefonts\n",
      "  copying lib\\matplotlib\\mpl-data\\fonts\\afm\\pplb8a.afm -> build\\lib.win-amd64-3.8\\matplotlib\\mpl-data\\fonts\\afm\n",
      "  copying lib\\matplotlib\\mpl-data\\images\\qt4_editor_options.svg -> build\\lib.win-amd64-3.8\\matplotlib\\mpl-data\\images\n",
      "  creating build\\lib.win-amd64-3.8\\matplotlib\\mpl-data\\stylelib\n",
      "  copying lib\\matplotlib\\mpl-data\\stylelib\\seaborn-deep.mplstyle -> build\\lib.win-amd64-3.8\\matplotlib\\mpl-data\\stylelib\n",
      "  copying lib\\matplotlib\\mpl-data\\fonts\\ttf\\STIXNonUniBol.ttf -> build\\lib.win-amd64-3.8\\matplotlib\\mpl-data\\fonts\\ttf\n",
      "  copying lib\\matplotlib\\mpl-data\\fonts\\ttf\\cmtt10.ttf -> build\\lib.win-amd64-3.8\\matplotlib\\mpl-data\\fonts\\ttf\n",
      "  copying lib\\matplotlib\\mpl-data\\fonts\\afm\\phvro8a.afm -> build\\lib.win-amd64-3.8\\matplotlib\\mpl-data\\fonts\\afm\n",
      "  copying lib\\matplotlib\\mpl-data\\fonts\\afm\\phvlo8a.afm -> build\\lib.win-amd64-3.8\\matplotlib\\mpl-data\\fonts\\afm\n",
      "  copying lib\\matplotlib\\mpl-data\\images\\hand.png -> build\\lib.win-amd64-3.8\\matplotlib\\mpl-data\\images\n",
      "  copying lib\\matplotlib\\mpl-data\\stylelib\\seaborn-paper.mplstyle -> build\\lib.win-amd64-3.8\\matplotlib\\mpl-data\\stylelib\n",
      "  copying lib\\matplotlib\\mpl-data\\fonts\\ttf\\LICENSE_DEJAVU -> build\\lib.win-amd64-3.8\\matplotlib\\mpl-data\\fonts\\ttf\n",
      "  copying lib\\matplotlib\\mpl-data\\stylelib\\grayscale.mplstyle -> build\\lib.win-amd64-3.8\\matplotlib\\mpl-data\\stylelib\n",
      "  copying lib\\matplotlib\\mpl-data\\stylelib\\seaborn-notebook.mplstyle -> build\\lib.win-amd64-3.8\\matplotlib\\mpl-data\\stylelib\n",
      "  copying lib\\matplotlib\\mpl-data\\fonts\\ttf\\STIXSizOneSymReg.ttf -> build\\lib.win-amd64-3.8\\matplotlib\\mpl-data\\fonts\\ttf\n",
      "  copying lib\\matplotlib\\mpl-data\\fonts\\afm\\pzdr.afm -> build\\lib.win-amd64-3.8\\matplotlib\\mpl-data\\fonts\\afm\n",
      "  copying lib\\matplotlib\\mpl-data\\fonts\\pdfcorefonts\\ZapfDingbats.afm -> build\\lib.win-amd64-3.8\\matplotlib\\mpl-data\\fonts\\pdfcorefonts\n",
      "  copying lib\\matplotlib\\mpl-data\\stylelib\\seaborn-colorblind.mplstyle -> build\\lib.win-amd64-3.8\\matplotlib\\mpl-data\\stylelib\n",
      "  copying lib\\matplotlib\\mpl-data\\images\\hand.pdf -> build\\lib.win-amd64-3.8\\matplotlib\\mpl-data\\images\n",
      "  copying lib\\matplotlib\\mpl-data\\fonts\\afm\\pncbi8a.afm -> build\\lib.win-amd64-3.8\\matplotlib\\mpl-data\\fonts\\afm\n",
      "  creating build\\lib.win-amd64-3.8\\matplotlib\\backends\\web_backend\\jquery\n",
      "  creating build\\lib.win-amd64-3.8\\matplotlib\\backends\\web_backend\\jquery\\js\n",
      "  copying lib\\matplotlib\\backends\\web_backend\\jquery\\js\\jquery-1.11.3.js -> build\\lib.win-amd64-3.8\\matplotlib\\backends\\web_backend\\jquery\\js\n",
      "  copying lib\\matplotlib\\mpl-data\\images\\subplots.gif -> build\\lib.win-amd64-3.8\\matplotlib\\mpl-data\\images\n",
      "  copying lib\\matplotlib\\mpl-data\\fonts\\ttf\\DejaVuSerif-BoldItalic.ttf -> build\\lib.win-amd64-3.8\\matplotlib\\mpl-data\\fonts\\ttf\n",
      "  copying lib\\matplotlib\\mpl-data\\images\\zoom_to_rect.png -> build\\lib.win-amd64-3.8\\matplotlib\\mpl-data\\images\n",
      "  copying lib\\matplotlib\\mpl-data\\fonts\\afm\\phvr8an.afm -> build\\lib.win-amd64-3.8\\matplotlib\\mpl-data\\fonts\\afm\n",
      "  copying lib\\matplotlib\\mpl-data\\fonts\\afm\\pbkd8a.afm -> build\\lib.win-amd64-3.8\\matplotlib\\mpl-data\\fonts\\afm\n",
      "  copying lib\\matplotlib\\mpl-data\\fonts\\pdfcorefonts\\Helvetica.afm -> build\\lib.win-amd64-3.8\\matplotlib\\mpl-data\\fonts\\pdfcorefonts\n",
      "  copying lib\\matplotlib\\backends\\web_backend\\jquery-ui-1.12.1\\index.html -> build\\lib.win-amd64-3.8\\matplotlib\\backends\\web_backend\\jquery-ui-1.12.1\n",
      "  creating build\\lib.win-amd64-3.8\\matplotlib\\mpl-data\\sample_data\n",
      "  copying lib\\matplotlib\\mpl-data\\sample_data\\embedding_in_wx3.xrc -> build\\lib.win-amd64-3.8\\matplotlib\\mpl-data\\sample_data\n",
      "  copying lib\\matplotlib\\mpl-data\\stylelib\\seaborn-poster.mplstyle -> build\\lib.win-amd64-3.8\\matplotlib\\mpl-data\\stylelib\n",
      "  copying lib\\matplotlib\\mpl-data\\fonts\\afm\\pcrb8a.afm -> build\\lib.win-amd64-3.8\\matplotlib\\mpl-data\\fonts\\afm\n",
      "  copying lib\\matplotlib\\mpl-data\\fonts\\ttf\\DejaVuSerif-Bold.ttf -> build\\lib.win-amd64-3.8\\matplotlib\\mpl-data\\fonts\\ttf\n",
      "  copying lib\\matplotlib\\mpl-data\\fonts\\afm\\pagk8a.afm -> build\\lib.win-amd64-3.8\\matplotlib\\mpl-data\\fonts\\afm\n",
      "  copying lib\\matplotlib\\mpl-data\\images\\matplotlib.svg -> build\\lib.win-amd64-3.8\\matplotlib\\mpl-data\\images\n",
      "  copying lib\\matplotlib\\mpl-data\\sample_data\\membrane.dat -> build\\lib.win-amd64-3.8\\matplotlib\\mpl-data\\sample_data\n",
      "  copying lib\\matplotlib\\mpl-data\\fonts\\afm\\psyr.afm -> build\\lib.win-amd64-3.8\\matplotlib\\mpl-data\\fonts\\afm\n",
      "  copying lib\\matplotlib\\mpl-data\\images\\subplots_large.gif -> build\\lib.win-amd64-3.8\\matplotlib\\mpl-data\\images\n",
      "  copying lib\\matplotlib\\mpl-data\\images\\help.svg -> build\\lib.win-amd64-3.8\\matplotlib\\mpl-data\\images\n",
      "  copying lib\\matplotlib\\mpl-data\\sample_data\\Minduka_Present_Blue_Pack.png -> build\\lib.win-amd64-3.8\\matplotlib\\mpl-data\\sample_data\n",
      "  copying lib\\matplotlib\\mpl-data\\stylelib\\seaborn.mplstyle -> build\\lib.win-amd64-3.8\\matplotlib\\mpl-data\\stylelib\n",
      "  copying lib\\matplotlib\\mpl-data\\stylelib\\seaborn-ticks.mplstyle -> build\\lib.win-amd64-3.8\\matplotlib\\mpl-data\\stylelib\n",
      "  creating build\\lib.win-amd64-3.8\\matplotlib\\backends\\web_backend\\js\n",
      "  copying lib\\matplotlib\\backends\\web_backend\\js\\mpl.js -> build\\lib.win-amd64-3.8\\matplotlib\\backends\\web_backend\\js\n",
      "  copying lib\\matplotlib\\mpl-data\\sample_data\\grace_hopper.png -> build\\lib.win-amd64-3.8\\matplotlib\\mpl-data\\sample_data\n",
      "  copying lib\\matplotlib\\mpl-data\\fonts\\afm\\pcrbo8a.afm -> build\\lib.win-amd64-3.8\\matplotlib\\mpl-data\\fonts\\afm\n",
      "  copying lib\\matplotlib\\mpl-data\\images\\matplotlib.pdf -> build\\lib.win-amd64-3.8\\matplotlib\\mpl-data\\images\n",
      "  copying lib\\matplotlib\\backends\\web_backend\\jquery\\js\\jquery-1.11.3.min.js -> build\\lib.win-amd64-3.8\\matplotlib\\backends\\web_backend\\jquery\\js\n",
      "  copying lib\\matplotlib\\mpl-data\\images\\home.gif -> build\\lib.win-amd64-3.8\\matplotlib\\mpl-data\\images\n",
      "  copying lib\\matplotlib\\mpl-data\\images\\back.gif -> build\\lib.win-amd64-3.8\\matplotlib\\mpl-data\\images\n",
      "  copying lib\\matplotlib\\mpl-data\\sample_data\\msft.csv -> build\\lib.win-amd64-3.8\\matplotlib\\mpl-data\\sample_data\n",
      "  copying lib\\matplotlib\\mpl-data\\fonts\\pdfcorefonts\\Courier-Oblique.afm -> build\\lib.win-amd64-3.8\\matplotlib\\mpl-data\\fonts\\pdfcorefonts\n",
      "  copying lib\\matplotlib\\mpl-data\\images\\filesave.gif -> build\\lib.win-amd64-3.8\\matplotlib\\mpl-data\\images\n",
      "  copying lib\\matplotlib\\mpl-data\\images\\zoom_to_rect.svg -> build\\lib.win-amd64-3.8\\matplotlib\\mpl-data\\images\n",
      "  copying lib\\matplotlib\\mpl-data\\images\\hand_large.gif -> build\\lib.win-amd64-3.8\\matplotlib\\mpl-data\\images\n",
      "  copying lib\\matplotlib\\mpl-data\\fonts\\ttf\\STIXNonUniIta.ttf -> build\\lib.win-amd64-3.8\\matplotlib\\mpl-data\\fonts\\ttf\n",
      "  copying lib\\matplotlib\\backends\\web_backend\\ipython_inline_figure.html -> build\\lib.win-amd64-3.8\\matplotlib\\backends\\web_backend\n",
      "  copying lib\\matplotlib\\mpl-data\\fonts\\afm\\cmtt10.afm -> build\\lib.win-amd64-3.8\\matplotlib\\mpl-data\\fonts\\afm\n",
      "  copying lib\\matplotlib\\mpl-data\\fonts\\afm\\phvr8a.afm -> build\\lib.win-amd64-3.8\\matplotlib\\mpl-data\\fonts\\afm\n",
      "  creating build\\lib.win-amd64-3.8\\matplotlib\\backends\\web_backend\\css\n",
      "  copying lib\\matplotlib\\backends\\web_backend\\css\\boilerplate.css -> build\\lib.win-amd64-3.8\\matplotlib\\backends\\web_backend\\css\n",
      "  copying lib\\matplotlib\\mpl-data\\fonts\\pdfcorefonts\\Times-BoldItalic.afm -> build\\lib.win-amd64-3.8\\matplotlib\\mpl-data\\fonts\\pdfcorefonts\n",
      "  copying lib\\matplotlib\\mpl-data\\fonts\\ttf\\STIXSizThreeSymReg.ttf -> build\\lib.win-amd64-3.8\\matplotlib\\mpl-data\\fonts\\ttf\n",
      "  copying lib\\matplotlib\\mpl-data\\fonts\\pdfcorefonts\\Helvetica-Bold.afm -> build\\lib.win-amd64-3.8\\matplotlib\\mpl-data\\fonts\\pdfcorefonts\n",
      "  copying lib\\matplotlib\\mpl-data\\stylelib\\seaborn-talk.mplstyle -> build\\lib.win-amd64-3.8\\matplotlib\\mpl-data\\stylelib\n",
      "  copying lib\\matplotlib\\backends\\web_backend\\css\\page.css -> build\\lib.win-amd64-3.8\\matplotlib\\backends\\web_backend\\css\n",
      "  creating build\\lib.win-amd64-3.8\\matplotlib\\backends\\web_backend\\jquery-ui-1.12.1\\images\n",
      "  copying lib\\matplotlib\\backends\\web_backend\\jquery-ui-1.12.1\\images\\ui-icons_444444_256x240.png -> build\\lib.win-amd64-3.8\\matplotlib\\backends\\web_backend\\jquery-ui-1.12.1\\images\n",
      "  copying lib\\matplotlib\\mpl-data\\fonts\\afm\\pbkdi8a.afm -> build\\lib.win-amd64-3.8\\matplotlib\\mpl-data\\fonts\\afm\n",
      "  copying lib\\matplotlib\\mpl-data\\sample_data\\demodata.csv -> build\\lib.win-amd64-3.8\\matplotlib\\mpl-data\\sample_data\n",
      "  copying lib\\matplotlib\\mpl-data\\images\\home_large.gif -> build\\lib.win-amd64-3.8\\matplotlib\\mpl-data\\images\n",
      "  copying lib\\matplotlib\\mpl-data\\images\\home.pdf -> build\\lib.win-amd64-3.8\\matplotlib\\mpl-data\\images\n",
      "  copying lib\\matplotlib\\mpl-data\\fonts\\ttf\\STIXSizThreeSymBol.ttf -> build\\lib.win-amd64-3.8\\matplotlib\\mpl-data\\fonts\\ttf\n",
      "  copying lib\\matplotlib\\mpl-data\\fonts\\ttf\\STIXGeneralItalic.ttf -> build\\lib.win-amd64-3.8\\matplotlib\\mpl-data\\fonts\\ttf\n",
      "  copying lib\\matplotlib\\mpl-data\\fonts\\ttf\\cmex10.ttf -> build\\lib.win-amd64-3.8\\matplotlib\\mpl-data\\fonts\\ttf\n",
      "  copying lib\\matplotlib\\mpl-data\\fonts\\ttf\\cmsy10.ttf -> build\\lib.win-amd64-3.8\\matplotlib\\mpl-data\\fonts\\ttf\n",
      "  copying lib\\matplotlib\\mpl-data\\images\\forward.gif -> build\\lib.win-amd64-3.8\\matplotlib\\mpl-data\\images\n",
      "  copying lib\\matplotlib\\mpl-data\\sample_data\\aapl.npz -> build\\lib.win-amd64-3.8\\matplotlib\\mpl-data\\sample_data\n",
      "  copying lib\\matplotlib\\mpl-data\\images\\back.svg -> build\\lib.win-amd64-3.8\\matplotlib\\mpl-data\\images\n",
      "  copying lib\\matplotlib\\mpl-data\\stylelib\\fivethirtyeight.mplstyle -> build\\lib.win-amd64-3.8\\matplotlib\\mpl-data\\stylelib\n",
      "  copying lib\\matplotlib\\mpl-data\\images\\matplotlib.png -> build\\lib.win-amd64-3.8\\matplotlib\\mpl-data\\images\n",
      "  copying lib\\matplotlib\\mpl-data\\fonts\\ttf\\STIXSizFourSymReg.ttf -> build\\lib.win-amd64-3.8\\matplotlib\\mpl-data\\fonts\\ttf\n",
      "  copying lib\\matplotlib\\backends\\web_backend\\js\\mpl_tornado.js -> build\\lib.win-amd64-3.8\\matplotlib\\backends\\web_backend\\js\n",
      "  copying lib\\matplotlib\\mpl-data\\images\\zoom_to_rect_large.png -> build\\lib.win-amd64-3.8\\matplotlib\\mpl-data\\images\n",
      "  copying lib\\matplotlib\\mpl-data\\stylelib\\seaborn-bright.mplstyle -> build\\lib.win-amd64-3.8\\matplotlib\\mpl-data\\stylelib\n",
      "  copying lib\\matplotlib\\mpl-data\\fonts\\afm\\putbi8a.afm -> build\\lib.win-amd64-3.8\\matplotlib\\mpl-data\\fonts\\afm\n",
      "  copying lib\\matplotlib\\mpl-data\\images\\forward_large.gif -> build\\lib.win-amd64-3.8\\matplotlib\\mpl-data\\images\n",
      "  copying lib\\matplotlib\\backends\\web_backend\\jquery-ui-1.12.1\\jquery-ui.theme.css -> build\\lib.win-amd64-3.8\\matplotlib\\backends\\web_backend\\jquery-ui-1.12.1\n",
      "  copying lib\\matplotlib\\backends\\web_backend\\jquery-ui-1.12.1\\jquery-ui.css -> build\\lib.win-amd64-3.8\\matplotlib\\backends\\web_backend\\jquery-ui-1.12.1\n",
      "  copying lib\\matplotlib\\mpl-data\\images\\back.png -> build\\lib.win-amd64-3.8\\matplotlib\\mpl-data\\images\n",
      "  creating build\\lib.win-amd64-3.8\\matplotlib\\backends\\web_backend\\jquery-ui-1.12.1\\external\n",
      "  creating build\\lib.win-amd64-3.8\\matplotlib\\backends\\web_backend\\jquery-ui-1.12.1\\external\\jquery\n",
      "  copying lib\\matplotlib\\backends\\web_backend\\jquery-ui-1.12.1\\external\\jquery\\jquery.js -> build\\lib.win-amd64-3.8\\matplotlib\\backends\\web_backend\\jquery-ui-1.12.1\\external\\jquery\n",
      "  copying lib\\matplotlib\\mpl-data\\fonts\\afm\\cmsy10.afm -> build\\lib.win-amd64-3.8\\matplotlib\\mpl-data\\fonts\\afm\n",
      "  copying lib\\matplotlib\\mpl-data\\images\\help.png -> build\\lib.win-amd64-3.8\\matplotlib\\mpl-data\\images\n",
      "  copying lib\\matplotlib\\mpl-data\\sample_data\\logo2.png -> build\\lib.win-amd64-3.8\\matplotlib\\mpl-data\\sample_data\n",
      "  copying lib\\matplotlib\\mpl-data\\images\\subplots.svg -> build\\lib.win-amd64-3.8\\matplotlib\\mpl-data\\images\n",
      "  copying lib\\matplotlib\\mpl-data\\stylelib\\seaborn-whitegrid.mplstyle -> build\\lib.win-amd64-3.8\\matplotlib\\mpl-data\\stylelib\n",
      "  copying lib\\matplotlib\\mpl-data\\fonts\\pdfcorefonts\\Times-Bold.afm -> build\\lib.win-amd64-3.8\\matplotlib\\mpl-data\\fonts\\pdfcorefonts\n",
      "  copying lib\\matplotlib\\mpl-data\\images\\move.svg -> build\\lib.win-amd64-3.8\\matplotlib\\mpl-data\\images\n",
      "  copying lib\\matplotlib\\mpl-data\\fonts\\ttf\\STIXSizOneSymBol.ttf -> build\\lib.win-amd64-3.8\\matplotlib\\mpl-data\\fonts\\ttf\n",
      "  copying lib\\matplotlib\\mpl-data\\fonts\\pdfcorefonts\\Courier-Bold.afm -> build\\lib.win-amd64-3.8\\matplotlib\\mpl-data\\fonts\\pdfcorefonts\n",
      "  copying lib\\matplotlib\\backends\\web_backend\\jquery-ui-1.12.1\\jquery-ui.min.js -> build\\lib.win-amd64-3.8\\matplotlib\\backends\\web_backend\\jquery-ui-1.12.1\n",
      "  copying lib\\matplotlib\\mpl-data\\sample_data\\ada.png -> build\\lib.win-amd64-3.8\\matplotlib\\mpl-data\\sample_data\n",
      "  copying lib\\matplotlib\\backends\\web_backend\\jquery-ui-1.12.1\\jquery-ui.min.css -> build\\lib.win-amd64-3.8\\matplotlib\\backends\\web_backend\\jquery-ui-1.12.1\n",
      "  copying lib\\matplotlib\\mpl-data\\fonts\\afm\\phvb8a.afm -> build\\lib.win-amd64-3.8\\matplotlib\\mpl-data\\fonts\\afm\n",
      "  copying lib\\matplotlib\\backends\\web_backend\\nbagg_uat.ipynb -> build\\lib.win-amd64-3.8\\matplotlib\\backends\\web_backend\n",
      "  copying lib\\matplotlib\\mpl-data\\stylelib\\ggplot.mplstyle -> build\\lib.win-amd64-3.8\\matplotlib\\mpl-data\\stylelib\n",
      "  copying lib\\matplotlib\\backends\\web_backend\\jquery-ui-1.12.1\\images\\ui-icons_555555_256x240.png -> build\\lib.win-amd64-3.8\\matplotlib\\backends\\web_backend\\jquery-ui-1.12.1\\images\n",
      "  copying lib\\matplotlib\\mpl-data\\fonts\\afm\\cmex10.afm -> build\\lib.win-amd64-3.8\\matplotlib\\mpl-data\\fonts\\afm\n",
      "  copying lib\\matplotlib\\mpl-data\\fonts\\ttf\\STIXNonUniBolIta.ttf -> build\\lib.win-amd64-3.8\\matplotlib\\mpl-data\\fonts\\ttf\n",
      "  copying lib\\matplotlib\\mpl-data\\images\\help.ppm -> build\\lib.win-amd64-3.8\\matplotlib\\mpl-data\\images\n",
      "  copying lib\\matplotlib\\mpl-data\\fonts\\afm\\pncb8a.afm -> build\\lib.win-amd64-3.8\\matplotlib\\mpl-data\\fonts\\afm\n",
      "  copying lib\\matplotlib\\mpl-data\\fonts\\ttf\\STIXGeneralBol.ttf -> build\\lib.win-amd64-3.8\\matplotlib\\mpl-data\\fonts\\ttf\n",
      "  copying lib\\matplotlib\\backends\\web_backend\\jquery-ui-1.12.1\\images\\ui-icons_777620_256x240.png -> build\\lib.win-amd64-3.8\\matplotlib\\backends\\web_backend\\jquery-ui-1.12.1\\images\n",
      "  copying lib\\matplotlib\\mpl-data\\fonts\\ttf\\DejaVuSans.ttf -> build\\lib.win-amd64-3.8\\matplotlib\\mpl-data\\fonts\\ttf\n",
      "  copying lib\\matplotlib\\mpl-data\\stylelib\\seaborn-darkgrid.mplstyle -> build\\lib.win-amd64-3.8\\matplotlib\\mpl-data\\stylelib\n",
      "  copying lib\\matplotlib\\mpl-data\\fonts\\afm\\pncr8a.afm -> build\\lib.win-amd64-3.8\\matplotlib\\mpl-data\\fonts\\afm\n",
      "  copying lib\\matplotlib\\backends\\web_backend\\jquery-ui-1.12.1\\LICENSE.txt -> build\\lib.win-amd64-3.8\\matplotlib\\backends\\web_backend\\jquery-ui-1.12.1\n",
      "  copying lib\\matplotlib\\mpl-data\\images\\home_large.png -> build\\lib.win-amd64-3.8\\matplotlib\\mpl-data\\images\n",
      "  copying lib\\matplotlib\\mpl-data\\sample_data\\ct.raw.gz -> build\\lib.win-amd64-3.8\\matplotlib\\mpl-data\\sample_data\n",
      "  copying lib\\matplotlib\\mpl-data\\stylelib\\bmh.mplstyle -> build\\lib.win-amd64-3.8\\matplotlib\\mpl-data\\stylelib\n",
      "  copying lib\\matplotlib\\mpl-data\\images\\hand.gif -> build\\lib.win-amd64-3.8\\matplotlib\\mpl-data\\images\n",
      "  copying lib\\matplotlib\\mpl-data\\images\\subplots.png -> build\\lib.win-amd64-3.8\\matplotlib\\mpl-data\\images\n",
      "  copying lib\\matplotlib\\mpl-data\\fonts\\ttf\\STIXGeneralBolIta.ttf -> build\\lib.win-amd64-3.8\\matplotlib\\mpl-data\\fonts\\ttf\n",
      "  copying lib\\matplotlib\\mpl-data\\fonts\\afm\\ptmr8a.afm -> build\\lib.win-amd64-3.8\\matplotlib\\mpl-data\\fonts\\afm\n",
      "  copying lib\\matplotlib\\mpl-data\\fonts\\afm\\pcrro8a.afm -> build\\lib.win-amd64-3.8\\matplotlib\\mpl-data\\fonts\\afm\n",
      "  copying lib\\matplotlib\\mpl-data\\fonts\\afm\\pzcmi8a.afm -> build\\lib.win-amd64-3.8\\matplotlib\\mpl-data\\fonts\\afm\n",
      "  copying lib\\matplotlib\\backends\\web_backend\\jquery-ui-1.12.1\\jquery-ui.structure.css -> build\\lib.win-amd64-3.8\\matplotlib\\backends\\web_backend\\jquery-ui-1.12.1\n",
      "  copying lib\\matplotlib\\mpl-data\\fonts\\ttf\\DejaVuSansMono-Oblique.ttf -> build\\lib.win-amd64-3.8\\matplotlib\\mpl-data\\fonts\\ttf\n",
      "  copying lib\\matplotlib\\mpl-data\\images\\matplotlib.ppm -> build\\lib.win-amd64-3.8\\matplotlib\\mpl-data\\images\n",
      "  copying lib\\matplotlib\\mpl-data\\images\\move.png -> build\\lib.win-amd64-3.8\\matplotlib\\mpl-data\\images\n",
      "  copying lib\\matplotlib\\backends\\web_backend\\jquery-ui-1.12.1\\images\\ui-icons_ffffff_256x240.png -> build\\lib.win-amd64-3.8\\matplotlib\\backends\\web_backend\\jquery-ui-1.12.1\\images\n",
      "  copying lib\\matplotlib\\mpl-data\\images\\zoom_to_rect.pdf -> build\\lib.win-amd64-3.8\\matplotlib\\mpl-data\\images\n",
      "  copying lib\\matplotlib\\mpl-data\\fonts\\afm\\pplbi8a.afm -> build\\lib.win-amd64-3.8\\matplotlib\\mpl-data\\fonts\\afm\n",
      "  copying lib\\matplotlib\\mpl-data\\fonts\\afm\\ptmb8a.afm -> build\\lib.win-amd64-3.8\\matplotlib\\mpl-data\\fonts\\afm\n",
      "  copying lib\\matplotlib\\mpl-data\\images\\qt4_editor_options.pdf -> build\\lib.win-amd64-3.8\\matplotlib\\mpl-data\\images\n",
      "  copying lib\\matplotlib\\mpl-data\\images\\zoom_to_rect.gif -> build\\lib.win-amd64-3.8\\matplotlib\\mpl-data\\images\n",
      "  copying lib\\matplotlib\\mpl-data\\fonts\\afm\\pcrr8a.afm -> build\\lib.win-amd64-3.8\\matplotlib\\mpl-data\\fonts\\afm\n",
      "  copying lib\\matplotlib\\mpl-data\\sample_data\\goog.npz -> build\\lib.win-amd64-3.8\\matplotlib\\mpl-data\\sample_data\n",
      "  copying lib\\matplotlib\\mpl-data\\images\\filesave.svg -> build\\lib.win-amd64-3.8\\matplotlib\\mpl-data\\images\n",
      "  copying lib\\matplotlib\\mpl-data\\fonts\\afm\\pagdo8a.afm -> build\\lib.win-amd64-3.8\\matplotlib\\mpl-data\\fonts\\afm\n",
      "  copying lib\\matplotlib\\mpl-data\\fonts\\pdfcorefonts\\Helvetica-Oblique.afm -> build\\lib.win-amd64-3.8\\matplotlib\\mpl-data\\fonts\\pdfcorefonts\n",
      "  copying lib\\matplotlib\\mpl-data\\fonts\\ttf\\STIXSizTwoSymBol.ttf -> build\\lib.win-amd64-3.8\\matplotlib\\mpl-data\\fonts\\ttf\n",
      "  copying lib\\matplotlib\\mpl-data\\images\\back_large.png -> build\\lib.win-amd64-3.8\\matplotlib\\mpl-data\\images\n",
      "  copying lib\\matplotlib\\mpl-data\\sample_data\\jacksboro_fault_dem.npz -> build\\lib.win-amd64-3.8\\matplotlib\\mpl-data\\sample_data\n",
      "  copying lib\\matplotlib\\mpl-data\\fonts\\afm\\phvro8an.afm -> build\\lib.win-amd64-3.8\\matplotlib\\mpl-data\\fonts\\afm\n",
      "  copying lib\\matplotlib\\mpl-data\\fonts\\afm\\pncri8a.afm -> build\\lib.win-amd64-3.8\\matplotlib\\mpl-data\\fonts\\afm\n",
      "  copying lib\\matplotlib\\mpl-data\\stylelib\\dark_background.mplstyle -> build\\lib.win-amd64-3.8\\matplotlib\\mpl-data\\stylelib\n",
      "  copying lib\\matplotlib\\backends\\web_backend\\jquery-ui-1.12.1\\AUTHORS.txt -> build\\lib.win-amd64-3.8\\matplotlib\\backends\\web_backend\\jquery-ui-1.12.1\n",
      "  copying lib\\matplotlib\\mpl-data\\stylelib\\seaborn-pastel.mplstyle -> build\\lib.win-amd64-3.8\\matplotlib\\mpl-data\\stylelib\n",
      "  copying lib\\matplotlib\\mpl-data\\fonts\\ttf\\DejaVuSerif-Italic.ttf -> build\\lib.win-amd64-3.8\\matplotlib\\mpl-data\\fonts\\ttf\n",
      "  copying lib\\matplotlib\\mpl-data\\stylelib\\tableau-colorblind10.mplstyle -> build\\lib.win-amd64-3.8\\matplotlib\\mpl-data\\stylelib\n",
      "  copying lib\\matplotlib\\mpl-data\\fonts\\afm\\pplr8a.afm -> build\\lib.win-amd64-3.8\\matplotlib\\mpl-data\\fonts\\afm\n",
      "  copying lib\\matplotlib\\mpl-data\\fonts\\ttf\\cmmi10.ttf -> build\\lib.win-amd64-3.8\\matplotlib\\mpl-data\\fonts\\ttf\n",
      "  copying lib\\matplotlib\\mpl-data\\fonts\\ttf\\DejaVuSerifDisplay.ttf -> build\\lib.win-amd64-3.8\\matplotlib\\mpl-data\\fonts\\ttf\n",
      "  copying lib\\matplotlib\\mpl-data\\fonts\\afm\\cmmi10.afm -> build\\lib.win-amd64-3.8\\matplotlib\\mpl-data\\fonts\\afm\n",
      "  copying lib\\matplotlib\\mpl-data\\sample_data\\s1045.ima.gz -> build\\lib.win-amd64-3.8\\matplotlib\\mpl-data\\sample_data\n",
      "  copying lib\\matplotlib\\mpl-data\\images\\hand.svg -> build\\lib.win-amd64-3.8\\matplotlib\\mpl-data\\images\n",
      "  copying lib\\matplotlib\\backends\\web_backend\\single_figure.html -> build\\lib.win-amd64-3.8\\matplotlib\\backends\\web_backend\n",
      "  copying lib\\matplotlib\\mpl-data\\fonts\\ttf\\STIXSizTwoSymReg.ttf -> build\\lib.win-amd64-3.8\\matplotlib\\mpl-data\\fonts\\ttf\n",
      "  copying lib\\matplotlib\\mpl-data\\stylelib\\seaborn-dark.mplstyle -> build\\lib.win-amd64-3.8\\matplotlib\\mpl-data\\stylelib\n",
      "  copying lib\\matplotlib\\mpl-data\\images\\subplots.pdf -> build\\lib.win-amd64-3.8\\matplotlib\\mpl-data\\images\n",
      "  copying lib\\matplotlib\\mpl-data\\fonts\\ttf\\DejaVuSans-Oblique.ttf -> build\\lib.win-amd64-3.8\\matplotlib\\mpl-data\\fonts\\ttf\n",
      "  copying lib\\matplotlib\\mpl-data\\fonts\\afm\\putri8a.afm -> build\\lib.win-amd64-3.8\\matplotlib\\mpl-data\\fonts\\afm\n",
      "  copying lib\\matplotlib\\mpl-data\\fonts\\afm\\pplri8a.afm -> build\\lib.win-amd64-3.8\\matplotlib\\mpl-data\\fonts\\afm\n",
      "  copying lib\\matplotlib\\mpl-data\\fonts\\ttf\\cmb10.ttf -> build\\lib.win-amd64-3.8\\matplotlib\\mpl-data\\fonts\\ttf\n",
      "  copying lib\\matplotlib\\mpl-data\\fonts\\ttf\\local.conf -> build\\lib.win-amd64-3.8\\matplotlib\\mpl-data\\fonts\\ttf\n",
      "  copying lib\\matplotlib\\mpl-data\\fonts\\afm\\phvl8a.afm -> build\\lib.win-amd64-3.8\\matplotlib\\mpl-data\\fonts\\afm\n",
      "  copying lib\\matplotlib\\mpl-data\\sample_data\\None_vs_nearest-pdf.png -> build\\lib.win-amd64-3.8\\matplotlib\\mpl-data\\sample_data\n",
      "  copying lib\\matplotlib\\mpl-data\\images\\home.png -> build\\lib.win-amd64-3.8\\matplotlib\\mpl-data\\images\n",
      "  copying lib\\matplotlib\\mpl-data\\images\\move_large.png -> build\\lib.win-amd64-3.8\\matplotlib\\mpl-data\\images\n",
      "  copying lib\\matplotlib\\mpl-data\\stylelib\\classic.mplstyle -> build\\lib.win-amd64-3.8\\matplotlib\\mpl-data\\stylelib\n",
      "  copying lib\\matplotlib\\backends\\web_backend\\jquery-ui-1.12.1\\package.json -> build\\lib.win-amd64-3.8\\matplotlib\\backends\\web_backend\\jquery-ui-1.12.1\n",
      "  copying lib\\matplotlib\\backends\\web_backend\\jquery-ui-1.12.1\\images\\ui-icons_cc0000_256x240.png -> build\\lib.win-amd64-3.8\\matplotlib\\backends\\web_backend\\jquery-ui-1.12.1\\images\n",
      "  copying lib\\matplotlib\\backends\\web_backend\\js\\nbagg_mpl.js -> build\\lib.win-amd64-3.8\\matplotlib\\backends\\web_backend\\js\n",
      "  copying lib\\matplotlib\\mpl-data\\matplotlibrc -> build\\lib.win-amd64-3.8\\matplotlib\\mpl-data\n",
      "  copying lib\\matplotlib\\mpl-data\\fonts\\afm\\phvbo8an.afm -> build\\lib.win-amd64-3.8\\matplotlib\\mpl-data\\fonts\\afm\n",
      "  copying lib\\matplotlib\\mpl-data\\fonts\\ttf\\DejaVuSans-BoldOblique.ttf -> build\\lib.win-amd64-3.8\\matplotlib\\mpl-data\\fonts\\ttf\n",
      "  copying lib\\matplotlib\\mpl-data\\images\\filesave.png -> build\\lib.win-amd64-3.8\\matplotlib\\mpl-data\\images\n",
      "  copying lib\\matplotlib\\mpl-data\\images\\back.pdf -> build\\lib.win-amd64-3.8\\matplotlib\\mpl-data\\images\n",
      "  copying lib\\matplotlib\\mpl-data\\stylelib\\_classic_test.mplstyle -> build\\lib.win-amd64-3.8\\matplotlib\\mpl-data\\stylelib\n",
      "  copying lib\\matplotlib\\mpl-data\\images\\back_large.gif -> build\\lib.win-amd64-3.8\\matplotlib\\mpl-data\\images\n",
      "  copying lib\\matplotlib\\mpl-data\\sample_data\\eeg.dat -> build\\lib.win-amd64-3.8\\matplotlib\\mpl-data\\sample_data\n",
      "  copying lib\\matplotlib\\mpl-data\\images\\zoom_to_rect_large.gif -> build\\lib.win-amd64-3.8\\matplotlib\\mpl-data\\images\n",
      "  copying lib\\matplotlib\\mpl-data\\images\\qt4_editor_options_large.png -> build\\lib.win-amd64-3.8\\matplotlib\\mpl-data\\images\n",
      "  copying lib\\matplotlib\\mpl-data\\stylelib\\seaborn-white.mplstyle -> build\\lib.win-amd64-3.8\\matplotlib\\mpl-data\\stylelib\n",
      "  creating build\\lib.win-amd64-3.8\\matplotlib\\mpl-data\\sample_data\\axes_grid\n",
      "  copying lib\\matplotlib\\mpl-data\\sample_data\\axes_grid\\bivariate_normal.npy -> build\\lib.win-amd64-3.8\\matplotlib\\mpl-data\\sample_data\\axes_grid\n",
      "  copying lib\\matplotlib\\backends\\web_backend\\jquery-ui-1.12.1\\jquery-ui.js -> build\\lib.win-amd64-3.8\\matplotlib\\backends\\web_backend\\jquery-ui-1.12.1\n",
      "  copying lib\\matplotlib\\mpl-data\\sample_data\\percent_bachelors_degrees_women_usa.csv -> build\\lib.win-amd64-3.8\\matplotlib\\mpl-data\\sample_data\n",
      "  copying lib\\matplotlib\\mpl-data\\images\\forward.png -> build\\lib.win-amd64-3.8\\matplotlib\\mpl-data\\images\n",
      "  copying lib\\matplotlib\\backends\\web_backend\\jquery-ui-1.12.1\\images\\ui-icons_777777_256x240.png -> build\\lib.win-amd64-3.8\\matplotlib\\backends\\web_backend\\jquery-ui-1.12.1\\images\n",
      "  copying lib\\matplotlib\\mpl-data\\sample_data\\data_x_x2_x3.csv -> build\\lib.win-amd64-3.8\\matplotlib\\mpl-data\\sample_data\n",
      "  copying lib\\matplotlib\\mpl-data\\fonts\\pdfcorefonts\\Courier-BoldOblique.afm -> build\\lib.win-amd64-3.8\\matplotlib\\mpl-data\\fonts\\pdfcorefonts\n",
      "  copying lib\\matplotlib\\mpl-data\\fonts\\afm\\putb8a.afm -> build\\lib.win-amd64-3.8\\matplotlib\\mpl-data\\fonts\\afm\n",
      "  copying lib\\matplotlib\\mpl-data\\fonts\\afm\\phvb8an.afm -> build\\lib.win-amd64-3.8\\matplotlib\\mpl-data\\fonts\\afm\n",
      "  copying lib\\matplotlib\\mpl-data\\images\\filesave_large.png -> build\\lib.win-amd64-3.8\\matplotlib\\mpl-data\\images\n",
      "  copying lib\\matplotlib\\mpl-data\\images\\forward.svg -> build\\lib.win-amd64-3.8\\matplotlib\\mpl-data\\images\n",
      "  copying lib\\matplotlib\\mpl-data\\images\\move.gif -> build\\lib.win-amd64-3.8\\matplotlib\\mpl-data\\images\n",
      "  copying lib\\matplotlib\\mpl-data\\stylelib\\seaborn-dark-palette.mplstyle -> build\\lib.win-amd64-3.8\\matplotlib\\mpl-data\\stylelib\n",
      "  copying lib\\matplotlib\\mpl-data\\stylelib\\fast.mplstyle -> build\\lib.win-amd64-3.8\\matplotlib\\mpl-data\\stylelib\n",
      "  copying lib\\matplotlib\\mpl-data\\images\\filesave_large.gif -> build\\lib.win-amd64-3.8\\matplotlib\\mpl-data\\images\n",
      "  copying lib\\matplotlib\\mpl-data\\fonts\\pdfcorefonts\\Times-Roman.afm -> build\\lib.win-amd64-3.8\\matplotlib\\mpl-data\\fonts\\pdfcorefonts\n",
      "  copying lib\\matplotlib\\backends\\web_backend\\css\\fbm.css -> build\\lib.win-amd64-3.8\\matplotlib\\backends\\web_backend\\css\n",
      "  copying lib\\matplotlib\\mpl-data\\fonts\\afm\\ptmbi8a.afm -> build\\lib.win-amd64-3.8\\matplotlib\\mpl-data\\fonts\\afm\n",
      "  copying lib\\matplotlib\\mpl-data\\fonts\\afm\\pbkl8a.afm -> build\\lib.win-amd64-3.8\\matplotlib\\mpl-data\\fonts\\afm\n",
      "  copying lib\\matplotlib\\mpl-data\\sample_data\\README.txt -> build\\lib.win-amd64-3.8\\matplotlib\\mpl-data\\sample_data\n",
      "  copying lib\\matplotlib\\mpl-data\\fonts\\afm\\pbkli8a.afm -> build\\lib.win-amd64-3.8\\matplotlib\\mpl-data\\fonts\\afm\n",
      "  copying lib\\matplotlib\\mpl-data\\images\\help_large.ppm -> build\\lib.win-amd64-3.8\\matplotlib\\mpl-data\\images\n",
      "  copying lib\\matplotlib\\mpl-data\\fonts\\afm\\cmr10.afm -> build\\lib.win-amd64-3.8\\matplotlib\\mpl-data\\fonts\\afm\n",
      "  copying lib\\matplotlib\\mpl-data\\fonts\\afm\\pagko8a.afm -> build\\lib.win-amd64-3.8\\matplotlib\\mpl-data\\fonts\\afm\n",
      "  copying lib\\matplotlib\\mpl-data\\fonts\\ttf\\DejaVuSansDisplay.ttf -> build\\lib.win-amd64-3.8\\matplotlib\\mpl-data\\fonts\\ttf\n",
      "  copying lib\\matplotlib\\mpl-data\\images\\filesave.pdf -> build\\lib.win-amd64-3.8\\matplotlib\\mpl-data\\images\n",
      "  copying lib\\matplotlib\\mpl-data\\fonts\\ttf\\LICENSE_STIX -> build\\lib.win-amd64-3.8\\matplotlib\\mpl-data\\fonts\\ttf\n",
      "  copying lib\\matplotlib\\mpl-data\\fonts\\ttf\\STIXSizFiveSymReg.ttf -> build\\lib.win-amd64-3.8\\matplotlib\\mpl-data\\fonts\\ttf\n",
      "  copying lib\\matplotlib\\mpl-data\\images\\home.svg -> build\\lib.win-amd64-3.8\\matplotlib\\mpl-data\\images\n",
      "  copying lib\\matplotlib\\mpl-data\\fonts\\afm\\ptmri8a.afm -> build\\lib.win-amd64-3.8\\matplotlib\\mpl-data\\fonts\\afm\n",
      "  copying lib\\matplotlib\\mpl-data\\images\\forward_large.png -> build\\lib.win-amd64-3.8\\matplotlib\\mpl-data\\images\n",
      "  copying lib\\matplotlib\\mpl-data\\stylelib\\seaborn-muted.mplstyle -> build\\lib.win-amd64-3.8\\matplotlib\\mpl-data\\stylelib\n",
      "  copying lib\\matplotlib\\mpl-data\\images\\matplotlib_large.png -> build\\lib.win-amd64-3.8\\matplotlib\\mpl-data\\images\n",
      "  copying lib\\matplotlib\\backends\\web_backend\\jquery-ui-1.12.1\\jquery-ui.theme.min.css -> build\\lib.win-amd64-3.8\\matplotlib\\backends\\web_backend\\jquery-ui-1.12.1\n",
      "  copying lib\\matplotlib\\mpl-data\\fonts\\afm\\putr8a.afm -> build\\lib.win-amd64-3.8\\matplotlib\\mpl-data\\fonts\\afm\n",
      "  copying lib\\matplotlib\\mpl-data\\fonts\\ttf\\DejaVuSans-Bold.ttf -> build\\lib.win-amd64-3.8\\matplotlib\\mpl-data\\fonts\\ttf\n",
      "  copying lib\\matplotlib\\mpl-data\\images\\qt4_editor_options.png -> build\\lib.win-amd64-3.8\\matplotlib\\mpl-data\\images\n",
      "  copying lib\\matplotlib\\mpl-data\\images\\move_large.gif -> build\\lib.win-amd64-3.8\\matplotlib\\mpl-data\\images\n",
      "  copying lib\\matplotlib\\mpl-data\\stylelib\\Solarize_Light2.mplstyle -> build\\lib.win-amd64-3.8\\matplotlib\\mpl-data\\stylelib\n",
      "  copying lib\\matplotlib\\mpl-data\\fonts\\ttf\\DejaVuSansMono-Bold.ttf -> build\\lib.win-amd64-3.8\\matplotlib\\mpl-data\\fonts\\ttf\n",
      "  copying lib\\matplotlib\\mpl-data\\fonts\\pdfcorefonts\\Helvetica-BoldOblique.afm -> build\\lib.win-amd64-3.8\\matplotlib\\mpl-data\\fonts\\pdfcorefonts\n",
      "  copying lib\\matplotlib\\mpl-data\\fonts\\ttf\\cmss10.ttf -> build\\lib.win-amd64-3.8\\matplotlib\\mpl-data\\fonts\\ttf\n",
      "  copying lib\\matplotlib\\mpl-data\\images\\move.pdf -> build\\lib.win-amd64-3.8\\matplotlib\\mpl-data\\images\n",
      "  copying lib\\matplotlib\\backends\\web_backend\\all_figures.html -> build\\lib.win-amd64-3.8\\matplotlib\\backends\\web_backend\n",
      "  copying lib\\matplotlib\\mpl-data\\images\\help_large.png -> build\\lib.win-amd64-3.8\\matplotlib\\mpl-data\\images\n",
      "  copying lib\\matplotlib\\mpl-data\\sample_data\\grace_hopper.jpg -> build\\lib.win-amd64-3.8\\matplotlib\\mpl-data\\sample_data\n",
      "  copying lib\\matplotlib\\mpl-data\\fonts\\afm\\phvbo8a.afm -> build\\lib.win-amd64-3.8\\matplotlib\\mpl-data\\fonts\\afm\n",
      "  UPDATING build\\lib.win-amd64-3.8\\matplotlib\\_version.py\n",
      "  set build\\lib.win-amd64-3.8\\matplotlib\\_version.py to '3.0.3'\n",
      "  running build_ext\n",
      "  building 'matplotlib.ft2font' extension\n",
      "  error: Microsoft Visual C++ 14.0 is required. Get it with \"Build Tools for Visual Studio\": https://visualstudio.microsoft.com/downloads/\n",
      "  ----------------------------------------\n",
      "  ERROR: Failed building wheel for matplotlib\n",
      "DEPRECATION: Could not build wheels for matplotlib which do not use PEP 517. pip will fall back to legacy 'setup.py install' for these. pip 21.0 will remove support for this functionality. A possible replacement is to fix the wheel build issue reported above. You can find discussion regarding this at https://github.com/pypa/pip/issues/8368.\n",
      "    ERROR: Command errored out with exit status 1:\n",
      "     command: 'F:\\Anaconda3\\python.exe' -u -c 'import sys, setuptools, tokenize; sys.argv[0] = '\"'\"'C:\\\\Users\\\\Sewoong\\\\AppData\\\\Local\\\\Temp\\\\pip-install-rqt63_fx\\\\matplotlib\\\\setup.py'\"'\"'; __file__='\"'\"'C:\\\\Users\\\\Sewoong\\\\AppData\\\\Local\\\\Temp\\\\pip-install-rqt63_fx\\\\matplotlib\\\\setup.py'\"'\"';f=getattr(tokenize, '\"'\"'open'\"'\"', open)(__file__);code=f.read().replace('\"'\"'\\r\\n'\"'\"', '\"'\"'\\n'\"'\"');f.close();exec(compile(code, __file__, '\"'\"'exec'\"'\"'))' install --record 'C:\\Users\\Sewoong\\AppData\\Local\\Temp\\pip-record-ktm_dt44\\install-record.txt' --single-version-externally-managed --compile --install-headers 'F:\\Anaconda3\\Include\\matplotlib'\n",
      "         cwd: C:\\Users\\Sewoong\\AppData\\Local\\Temp\\pip-install-rqt63_fx\\matplotlib\\\n",
      "    Complete output (44 lines):\n",
      "    ============================================================================\n",
      "    Edit setup.cfg to change the build options\n",
      "    \n",
      "    BUILDING MATPLOTLIB\n",
      "                matplotlib: yes [3.0.3]\n",
      "                    python: yes [3.8.3 (default, Jul  2 2020, 17:30:36) [MSC\n",
      "                            v.1916 64 bit (AMD64)]]\n",
      "                  platform: yes [win32]\n",
      "    \n",
      "    REQUIRED DEPENDENCIES AND EXTENSIONS\n",
      "                     numpy: yes [version 1.18.5]\n",
      "          install_requires: yes [handled by setuptools]\n",
      "                    libagg: yes [pkg-config information for 'libagg' could not\n",
      "                            be found. Using local copy.]\n",
      "                  freetype: yes [Using unknown version found on system.]\n",
      "                       png: yes [Using unknown version found on system.]\n",
      "                     qhull: yes [pkg-config information for 'libqhull' could not\n",
      "                            be found. Using local copy.]\n",
      "    \n",
      "    OPTIONAL SUBPACKAGES\n",
      "               sample_data: yes [installing]\n",
      "                  toolkits: yes [installing]\n",
      "                     tests: no  [skipping due to configuration]\n",
      "            toolkits_tests: no  [skipping due to configuration]\n",
      "    \n",
      "    OPTIONAL BACKEND EXTENSIONS\n",
      "                       agg: yes [installing]\n",
      "                     tkagg: yes [installing; run-time loading from Python Tcl /\n",
      "                            Tk]\n",
      "                    macosx: no  [Mac OS-X only]\n",
      "                 windowing: yes [installing]\n",
      "    \n",
      "    OPTIONAL PACKAGE DATA\n",
      "                      dlls: no  [skipping due to configuration]\n",
      "    \n",
      "    running install\n",
      "    running build\n",
      "    running build_py\n",
      "    copying lib\\matplotlib\\mpl-data\\matplotlibrc -> build\\lib.win-amd64-3.8\\matplotlib\\mpl-data\n",
      "    UPDATING build\\lib.win-amd64-3.8\\matplotlib\\_version.py\n",
      "    set build\\lib.win-amd64-3.8\\matplotlib\\_version.py to '3.0.3'\n",
      "    running build_ext\n",
      "    building 'matplotlib.ft2font' extension\n",
      "    error: Microsoft Visual C++ 14.0 is required. Get it with \"Build Tools for Visual Studio\": https://visualstudio.microsoft.com/downloads/\n",
      "    ----------------------------------------\n",
      "ERROR: Command errored out with exit status 1: 'F:\\Anaconda3\\python.exe' -u -c 'import sys, setuptools, tokenize; sys.argv[0] = '\"'\"'C:\\\\Users\\\\Sewoong\\\\AppData\\\\Local\\\\Temp\\\\pip-install-rqt63_fx\\\\matplotlib\\\\setup.py'\"'\"'; __file__='\"'\"'C:\\\\Users\\\\Sewoong\\\\AppData\\\\Local\\\\Temp\\\\pip-install-rqt63_fx\\\\matplotlib\\\\setup.py'\"'\"';f=getattr(tokenize, '\"'\"'open'\"'\"', open)(__file__);code=f.read().replace('\"'\"'\\r\\n'\"'\"', '\"'\"'\\n'\"'\"');f.close();exec(compile(code, __file__, '\"'\"'exec'\"'\"'))' install --record 'C:\\Users\\Sewoong\\AppData\\Local\\Temp\\pip-record-ktm_dt44\\install-record.txt' --single-version-externally-managed --compile --install-headers 'F:\\Anaconda3\\Include\\matplotlib' Check the logs for full command output.\n"
     ]
    },
    {
     "name": "stdout",
     "output_type": "stream",
     "text": [
      "Requirement already satisfied: seaborn in f:\\anaconda3\\lib\\site-packages (0.10.1)\n",
      "Requirement already satisfied: scipy>=1.0.1 in f:\\anaconda3\\lib\\site-packages (from seaborn) (1.4.1)\n",
      "Requirement already satisfied: pandas>=0.22.0 in f:\\anaconda3\\lib\\site-packages (from seaborn) (1.1.1)\n",
      "Requirement already satisfied: matplotlib>=2.1.2 in f:\\anaconda3\\lib\\site-packages (from seaborn) (3.3.1)\n",
      "Requirement already satisfied: numpy>=1.13.3 in f:\\anaconda3\\lib\\site-packages (from seaborn) (1.18.5)\n",
      "Requirement already satisfied: pytz>=2017.2 in f:\\anaconda3\\lib\\site-packages (from pandas>=0.22.0->seaborn) (2020.1)\n",
      "Requirement already satisfied: python-dateutil>=2.7.3 in c:\\users\\sewoong\\appdata\\roaming\\python\\python38\\site-packages (from pandas>=0.22.0->seaborn) (2.8.1)\n",
      "Requirement already satisfied: certifi>=2020.06.20 in f:\\anaconda3\\lib\\site-packages (from matplotlib>=2.1.2->seaborn) (2020.6.20)\n",
      "Requirement already satisfied: cycler>=0.10 in f:\\anaconda3\\lib\\site-packages (from matplotlib>=2.1.2->seaborn) (0.10.0)\n",
      "Requirement already satisfied: pyparsing!=2.0.4,!=2.1.2,!=2.1.6,>=2.0.3 in f:\\anaconda3\\lib\\site-packages (from matplotlib>=2.1.2->seaborn) (2.4.7)\n",
      "Requirement already satisfied: kiwisolver>=1.0.1 in f:\\anaconda3\\lib\\site-packages (from matplotlib>=2.1.2->seaborn) (1.2.0)\n",
      "Requirement already satisfied: pillow>=6.2.0 in f:\\anaconda3\\lib\\site-packages (from matplotlib>=2.1.2->seaborn) (7.2.0)\n",
      "Requirement already satisfied: six>=1.5 in c:\\users\\sewoong\\appdata\\roaming\\python\\python38\\site-packages (from python-dateutil>=2.7.3->pandas>=0.22.0->seaborn) (1.15.0)\n"
     ]
    }
   ],
   "source": [
    "# Install pip packages in the current Jupyter kernel\n",
    "# https://jakevdp.github.io/blog/2017/12/05/installing-python-packages-from-jupyter/ \n",
    "import sys\n",
    "!{sys.executable} -m pip install -upgrade pip\n",
    "!{sys.executable} -m pip install numpy\n",
    "!{sys.executable} -m pip install pandas\n",
    "!{sys.executable} -m pip install matplotlib==3.0.3\n",
    "!{sys.executable} -m pip install seaborn"
   ]
  },
  {
   "cell_type": "code",
   "execution_count": 2,
   "metadata": {
    "colab": {
     "base_uri": "https://localhost:8080/",
     "height": 52
    },
    "colab_type": "code",
    "executionInfo": {
     "elapsed": 23437,
     "status": "ok",
     "timestamp": 1600322945734,
     "user": {
      "displayName": "그로스해커스모두",
      "photoUrl": "",
      "userId": "16814293870053642265"
     },
     "user_tz": -540
    },
    "id": "aLu5rirfK_i1",
    "outputId": "a6953624-65e0-4f49-fc4c-58898522eb6a"
   },
   "outputs": [],
   "source": [
    "import numpy as np\n",
    "import pandas as pd\n",
    "import matplotlib.pyplot as plt \n",
    "import seaborn as sns \n",
    "\n",
    "# warming 제거\n",
    "import warnings\n",
    "warnings.filterwarnings('ignore')\n",
    "\n",
    "# notebook을 실행한 브라우저에서 바로 그림을 볼 수 있게 해주는 것\n",
    "%matplotlib inline "
   ]
  },
  {
   "cell_type": "markdown",
   "metadata": {
    "colab_type": "text",
    "id": "GhYqW7UPK_jD"
   },
   "source": [
    "**쥬피터 노트북에서 시각화할때, matplotlib가 한글 폰트 지원하지 않아, 깨짐 처리해줘야 함**"
   ]
  },
  {
   "cell_type": "code",
   "execution_count": 3,
   "metadata": {
    "colab": {},
    "colab_type": "code",
    "id": "TDwyureZK_jG"
   },
   "outputs": [],
   "source": [
    "import matplotlib.pyplot as plt \n",
    "import platform                \n",
    "\n",
    "from matplotlib import font_manager, rc\n",
    "plt.rcParams['axes.unicode_minus']= False\n",
    "\n",
    "if platform.system() == 'Darwin': #맥os 사용자의 경우\n",
    "    plt.style.use('seaborn-darkgrid') \n",
    "    rc('font', family = 'AppleGothic')\n",
    "    \n",
    "elif platform.system() == 'Windows':#윈도우 사용자의 경우\n",
    "    path = 'c:/Windows/Fonts/malgun.ttf'\n",
    "    font_name = font_manager.FontProperties(fname=path).get_name()\n",
    "    plt.style.use('seaborn-darkgrid') # https://python-graph-gallery.com/199-matplotlib-style-sheets/\n",
    "    rc('font', family=font_name)"
   ]
  },
  {
   "cell_type": "markdown",
   "metadata": {
    "colab_type": "text",
    "id": "G8jynn5-K_jT"
   },
   "source": [
    "## &#128205; 1. 데이터프레임 확인"
   ]
  },
  {
   "cell_type": "code",
   "execution_count": 4,
   "metadata": {
    "colab": {},
    "colab_type": "code",
    "id": "KTUqMzjhBxk6"
   },
   "outputs": [
    {
     "data": {
      "text/html": [
       "<div>\n",
       "<style scoped>\n",
       "    .dataframe tbody tr th:only-of-type {\n",
       "        vertical-align: middle;\n",
       "    }\n",
       "\n",
       "    .dataframe tbody tr th {\n",
       "        vertical-align: top;\n",
       "    }\n",
       "\n",
       "    .dataframe thead th {\n",
       "        text-align: right;\n",
       "    }\n",
       "</style>\n",
       "<table border=\"1\" class=\"dataframe\">\n",
       "  <thead>\n",
       "    <tr style=\"text-align: right;\">\n",
       "      <th></th>\n",
       "      <th>start_date</th>\n",
       "      <th>end_date</th>\n",
       "      <th>start_hour</th>\n",
       "      <th>end_hour</th>\n",
       "      <th>trip_duration</th>\n",
       "      <th>start_station_id</th>\n",
       "      <th>start_station_name</th>\n",
       "      <th>start_station_latitude</th>\n",
       "      <th>start_station_longitude</th>\n",
       "      <th>end_station_id</th>\n",
       "      <th>end_station_name</th>\n",
       "      <th>end_station_latitude</th>\n",
       "      <th>end_station_longitude</th>\n",
       "      <th>bike_id</th>\n",
       "      <th>usertype</th>\n",
       "      <th>birth_year</th>\n",
       "      <th>gender</th>\n",
       "      <th>day_since_register</th>\n",
       "    </tr>\n",
       "  </thead>\n",
       "  <tbody>\n",
       "    <tr>\n",
       "      <th>0</th>\n",
       "      <td>2018-05-01</td>\n",
       "      <td>2018-05-01</td>\n",
       "      <td>4</td>\n",
       "      <td>4</td>\n",
       "      <td>390</td>\n",
       "      <td>3002</td>\n",
       "      <td>South End Ave &amp; Liberty St</td>\n",
       "      <td>40.711512</td>\n",
       "      <td>-74.015756</td>\n",
       "      <td>79</td>\n",
       "      <td>Franklin St &amp; W Broadway</td>\n",
       "      <td>40.719116</td>\n",
       "      <td>-74.006667</td>\n",
       "      <td>21105</td>\n",
       "      <td>Subscriber</td>\n",
       "      <td>1945</td>\n",
       "      <td>male</td>\n",
       "      <td>36</td>\n",
       "    </tr>\n",
       "    <tr>\n",
       "      <th>1</th>\n",
       "      <td>2018-05-01</td>\n",
       "      <td>2018-05-01</td>\n",
       "      <td>1</td>\n",
       "      <td>1</td>\n",
       "      <td>854</td>\n",
       "      <td>3611</td>\n",
       "      <td>Vernon Blvd &amp; 47 Rd</td>\n",
       "      <td>40.744907</td>\n",
       "      <td>-73.953457</td>\n",
       "      <td>3572</td>\n",
       "      <td>34 Ave &amp; 38 St</td>\n",
       "      <td>40.756913</td>\n",
       "      <td>-73.921631</td>\n",
       "      <td>32219</td>\n",
       "      <td>Subscriber</td>\n",
       "      <td>1998</td>\n",
       "      <td>male</td>\n",
       "      <td>29</td>\n",
       "    </tr>\n",
       "    <tr>\n",
       "      <th>2</th>\n",
       "      <td>2018-05-01</td>\n",
       "      <td>2018-05-01</td>\n",
       "      <td>4</td>\n",
       "      <td>4</td>\n",
       "      <td>526</td>\n",
       "      <td>515</td>\n",
       "      <td>W 43 St &amp; 10 Ave</td>\n",
       "      <td>40.760094</td>\n",
       "      <td>-73.994618</td>\n",
       "      <td>388</td>\n",
       "      <td>W 26 St &amp; 10 Ave</td>\n",
       "      <td>40.749718</td>\n",
       "      <td>-74.002950</td>\n",
       "      <td>33433</td>\n",
       "      <td>Subscriber</td>\n",
       "      <td>1954</td>\n",
       "      <td>male</td>\n",
       "      <td>55</td>\n",
       "    </tr>\n",
       "    <tr>\n",
       "      <th>3</th>\n",
       "      <td>2018-05-01</td>\n",
       "      <td>2018-05-01</td>\n",
       "      <td>3</td>\n",
       "      <td>3</td>\n",
       "      <td>885</td>\n",
       "      <td>3641</td>\n",
       "      <td>Broadway &amp; W 25 St</td>\n",
       "      <td>40.742869</td>\n",
       "      <td>-73.989186</td>\n",
       "      <td>336</td>\n",
       "      <td>Sullivan St &amp; Washington Sq</td>\n",
       "      <td>40.730477</td>\n",
       "      <td>-73.999061</td>\n",
       "      <td>32028</td>\n",
       "      <td>Subscriber</td>\n",
       "      <td>1963</td>\n",
       "      <td>male</td>\n",
       "      <td>32</td>\n",
       "    </tr>\n",
       "    <tr>\n",
       "      <th>4</th>\n",
       "      <td>2018-05-01</td>\n",
       "      <td>2018-05-01</td>\n",
       "      <td>1</td>\n",
       "      <td>1</td>\n",
       "      <td>324</td>\n",
       "      <td>3440</td>\n",
       "      <td>Fulton St &amp; Adams St</td>\n",
       "      <td>40.692418</td>\n",
       "      <td>-73.989495</td>\n",
       "      <td>3308</td>\n",
       "      <td>Kane St &amp; Clinton St</td>\n",
       "      <td>40.686176</td>\n",
       "      <td>-73.996453</td>\n",
       "      <td>26425</td>\n",
       "      <td>Subscriber</td>\n",
       "      <td>1965</td>\n",
       "      <td>male</td>\n",
       "      <td>34</td>\n",
       "    </tr>\n",
       "  </tbody>\n",
       "</table>\n",
       "</div>"
      ],
      "text/plain": [
       "   start_date    end_date  start_hour  end_hour  trip_duration  \\\n",
       "0  2018-05-01  2018-05-01           4         4            390   \n",
       "1  2018-05-01  2018-05-01           1         1            854   \n",
       "2  2018-05-01  2018-05-01           4         4            526   \n",
       "3  2018-05-01  2018-05-01           3         3            885   \n",
       "4  2018-05-01  2018-05-01           1         1            324   \n",
       "\n",
       "   start_station_id          start_station_name  start_station_latitude  \\\n",
       "0              3002  South End Ave & Liberty St               40.711512   \n",
       "1              3611         Vernon Blvd & 47 Rd               40.744907   \n",
       "2               515            W 43 St & 10 Ave               40.760094   \n",
       "3              3641          Broadway & W 25 St               40.742869   \n",
       "4              3440        Fulton St & Adams St               40.692418   \n",
       "\n",
       "   start_station_longitude  end_station_id             end_station_name  \\\n",
       "0               -74.015756              79     Franklin St & W Broadway   \n",
       "1               -73.953457            3572               34 Ave & 38 St   \n",
       "2               -73.994618             388             W 26 St & 10 Ave   \n",
       "3               -73.989186             336  Sullivan St & Washington Sq   \n",
       "4               -73.989495            3308         Kane St & Clinton St   \n",
       "\n",
       "   end_station_latitude  end_station_longitude  bike_id    usertype  \\\n",
       "0             40.719116             -74.006667    21105  Subscriber   \n",
       "1             40.756913             -73.921631    32219  Subscriber   \n",
       "2             40.749718             -74.002950    33433  Subscriber   \n",
       "3             40.730477             -73.999061    32028  Subscriber   \n",
       "4             40.686176             -73.996453    26425  Subscriber   \n",
       "\n",
       "   birth_year gender  day_since_register  \n",
       "0        1945   male                  36  \n",
       "1        1998   male                  29  \n",
       "2        1954   male                  55  \n",
       "3        1963   male                  32  \n",
       "4        1965   male                  34  "
      ]
     },
     "execution_count": 4,
     "metadata": {},
     "output_type": "execute_result"
    }
   ],
   "source": [
    "df=pd.read_csv(\"nyc_citibike.csv\",encoding='euc-kr') # 한글이 들어간 csv는 encoding 인자를 넣어주는 것이 좋음\n",
    "df.head()"
   ]
  },
  {
   "cell_type": "code",
   "execution_count": 5,
   "metadata": {
    "colab": {},
    "colab_type": "code",
    "id": "OwCd_krlK_jo",
    "outputId": "2e13ecf6-2f69-456f-a30a-f817790f8bc0"
   },
   "outputs": [
    {
     "data": {
      "text/plain": [
       "(72035, 18)"
      ]
     },
     "execution_count": 5,
     "metadata": {},
     "output_type": "execute_result"
    }
   ],
   "source": [
    "# 데이터 shape 파악\n",
    "df.shape"
   ]
  },
  {
   "cell_type": "code",
   "execution_count": 6,
   "metadata": {
    "colab": {},
    "colab_type": "code",
    "id": "Js0cN5yiK_jv",
    "outputId": "65cba489-308a-4eb5-eb55-35ed73637a24"
   },
   "outputs": [
    {
     "data": {
      "text/html": [
       "<div>\n",
       "<style scoped>\n",
       "    .dataframe tbody tr th:only-of-type {\n",
       "        vertical-align: middle;\n",
       "    }\n",
       "\n",
       "    .dataframe tbody tr th {\n",
       "        vertical-align: top;\n",
       "    }\n",
       "\n",
       "    .dataframe thead th {\n",
       "        text-align: right;\n",
       "    }\n",
       "</style>\n",
       "<table border=\"1\" class=\"dataframe\">\n",
       "  <thead>\n",
       "    <tr style=\"text-align: right;\">\n",
       "      <th></th>\n",
       "      <th>start_hour</th>\n",
       "      <th>end_hour</th>\n",
       "      <th>trip_duration</th>\n",
       "      <th>start_station_id</th>\n",
       "      <th>start_station_latitude</th>\n",
       "      <th>start_station_longitude</th>\n",
       "      <th>end_station_id</th>\n",
       "      <th>end_station_latitude</th>\n",
       "      <th>end_station_longitude</th>\n",
       "      <th>bike_id</th>\n",
       "      <th>birth_year</th>\n",
       "      <th>day_since_register</th>\n",
       "    </tr>\n",
       "  </thead>\n",
       "  <tbody>\n",
       "    <tr>\n",
       "      <th>count</th>\n",
       "      <td>72035.000000</td>\n",
       "      <td>72035.000000</td>\n",
       "      <td>7.203500e+04</td>\n",
       "      <td>72035.000000</td>\n",
       "      <td>72035.000000</td>\n",
       "      <td>72035.000000</td>\n",
       "      <td>72035.000000</td>\n",
       "      <td>72035.000000</td>\n",
       "      <td>72035.000000</td>\n",
       "      <td>72035.000000</td>\n",
       "      <td>72035.000000</td>\n",
       "      <td>72035.000000</td>\n",
       "    </tr>\n",
       "    <tr>\n",
       "      <th>mean</th>\n",
       "      <td>14.176775</td>\n",
       "      <td>14.372916</td>\n",
       "      <td>1.046751e+03</td>\n",
       "      <td>1535.681488</td>\n",
       "      <td>40.738587</td>\n",
       "      <td>-73.983531</td>\n",
       "      <td>1537.181287</td>\n",
       "      <td>40.738292</td>\n",
       "      <td>-73.983435</td>\n",
       "      <td>26139.737683</td>\n",
       "      <td>1977.994947</td>\n",
       "      <td>30.468522</td>\n",
       "    </tr>\n",
       "    <tr>\n",
       "      <th>std</th>\n",
       "      <td>4.809857</td>\n",
       "      <td>4.854897</td>\n",
       "      <td>8.139700e+03</td>\n",
       "      <td>1418.093403</td>\n",
       "      <td>0.029777</td>\n",
       "      <td>0.018456</td>\n",
       "      <td>1420.198780</td>\n",
       "      <td>0.029736</td>\n",
       "      <td>0.018639</td>\n",
       "      <td>5793.540983</td>\n",
       "      <td>11.868175</td>\n",
       "      <td>17.341855</td>\n",
       "    </tr>\n",
       "    <tr>\n",
       "      <th>min</th>\n",
       "      <td>0.000000</td>\n",
       "      <td>0.000000</td>\n",
       "      <td>6.100000e+01</td>\n",
       "      <td>72.000000</td>\n",
       "      <td>40.646538</td>\n",
       "      <td>-74.025353</td>\n",
       "      <td>72.000000</td>\n",
       "      <td>40.646538</td>\n",
       "      <td>-74.044247</td>\n",
       "      <td>14529.000000</td>\n",
       "      <td>1885.000000</td>\n",
       "      <td>1.000000</td>\n",
       "    </tr>\n",
       "    <tr>\n",
       "      <th>25%</th>\n",
       "      <td>10.000000</td>\n",
       "      <td>10.000000</td>\n",
       "      <td>3.980000e+02</td>\n",
       "      <td>382.000000</td>\n",
       "      <td>40.718939</td>\n",
       "      <td>-73.995481</td>\n",
       "      <td>382.000000</td>\n",
       "      <td>40.718939</td>\n",
       "      <td>-73.995299</td>\n",
       "      <td>20533.000000</td>\n",
       "      <td>1969.000000</td>\n",
       "      <td>15.000000</td>\n",
       "    </tr>\n",
       "    <tr>\n",
       "      <th>50%</th>\n",
       "      <td>15.000000</td>\n",
       "      <td>15.000000</td>\n",
       "      <td>6.810000e+02</td>\n",
       "      <td>504.000000</td>\n",
       "      <td>40.740343</td>\n",
       "      <td>-73.986580</td>\n",
       "      <td>503.000000</td>\n",
       "      <td>40.739974</td>\n",
       "      <td>-73.986580</td>\n",
       "      <td>27840.000000</td>\n",
       "      <td>1980.000000</td>\n",
       "      <td>30.000000</td>\n",
       "    </tr>\n",
       "    <tr>\n",
       "      <th>75%</th>\n",
       "      <td>18.000000</td>\n",
       "      <td>18.000000</td>\n",
       "      <td>1.201000e+03</td>\n",
       "      <td>3223.000000</td>\n",
       "      <td>40.758997</td>\n",
       "      <td>-73.973747</td>\n",
       "      <td>3224.000000</td>\n",
       "      <td>40.758924</td>\n",
       "      <td>-73.973747</td>\n",
       "      <td>30995.000000</td>\n",
       "      <td>1988.000000</td>\n",
       "      <td>46.000000</td>\n",
       "    </tr>\n",
       "    <tr>\n",
       "      <th>max</th>\n",
       "      <td>23.000000</td>\n",
       "      <td>23.000000</td>\n",
       "      <td>1.344462e+06</td>\n",
       "      <td>3680.000000</td>\n",
       "      <td>40.814394</td>\n",
       "      <td>-73.907744</td>\n",
       "      <td>3680.000000</td>\n",
       "      <td>40.814394</td>\n",
       "      <td>-73.907744</td>\n",
       "      <td>33671.000000</td>\n",
       "      <td>2002.000000</td>\n",
       "      <td>60.000000</td>\n",
       "    </tr>\n",
       "  </tbody>\n",
       "</table>\n",
       "</div>"
      ],
      "text/plain": [
       "         start_hour      end_hour  trip_duration  start_station_id  \\\n",
       "count  72035.000000  72035.000000   7.203500e+04      72035.000000   \n",
       "mean      14.176775     14.372916   1.046751e+03       1535.681488   \n",
       "std        4.809857      4.854897   8.139700e+03       1418.093403   \n",
       "min        0.000000      0.000000   6.100000e+01         72.000000   \n",
       "25%       10.000000     10.000000   3.980000e+02        382.000000   \n",
       "50%       15.000000     15.000000   6.810000e+02        504.000000   \n",
       "75%       18.000000     18.000000   1.201000e+03       3223.000000   \n",
       "max       23.000000     23.000000   1.344462e+06       3680.000000   \n",
       "\n",
       "       start_station_latitude  start_station_longitude  end_station_id  \\\n",
       "count            72035.000000             72035.000000    72035.000000   \n",
       "mean                40.738587               -73.983531     1537.181287   \n",
       "std                  0.029777                 0.018456     1420.198780   \n",
       "min                 40.646538               -74.025353       72.000000   \n",
       "25%                 40.718939               -73.995481      382.000000   \n",
       "50%                 40.740343               -73.986580      503.000000   \n",
       "75%                 40.758997               -73.973747     3224.000000   \n",
       "max                 40.814394               -73.907744     3680.000000   \n",
       "\n",
       "       end_station_latitude  end_station_longitude       bike_id  \\\n",
       "count          72035.000000           72035.000000  72035.000000   \n",
       "mean              40.738292             -73.983435  26139.737683   \n",
       "std                0.029736               0.018639   5793.540983   \n",
       "min               40.646538             -74.044247  14529.000000   \n",
       "25%               40.718939             -73.995299  20533.000000   \n",
       "50%               40.739974             -73.986580  27840.000000   \n",
       "75%               40.758924             -73.973747  30995.000000   \n",
       "max               40.814394             -73.907744  33671.000000   \n",
       "\n",
       "         birth_year  day_since_register  \n",
       "count  72035.000000        72035.000000  \n",
       "mean    1977.994947           30.468522  \n",
       "std       11.868175           17.341855  \n",
       "min     1885.000000            1.000000  \n",
       "25%     1969.000000           15.000000  \n",
       "50%     1980.000000           30.000000  \n",
       "75%     1988.000000           46.000000  \n",
       "max     2002.000000           60.000000  "
      ]
     },
     "execution_count": 6,
     "metadata": {},
     "output_type": "execute_result"
    }
   ],
   "source": [
    "# 데이터 통계량 파악\n",
    "df.describe()"
   ]
  },
  {
   "cell_type": "code",
   "execution_count": 7,
   "metadata": {
    "colab": {},
    "colab_type": "code",
    "id": "RLVSxsDIK_j1",
    "outputId": "880f6ebd-5a4f-42ee-b825-7cf75516bb8a"
   },
   "outputs": [
    {
     "data": {
      "text/html": [
       "<div>\n",
       "<style scoped>\n",
       "    .dataframe tbody tr th:only-of-type {\n",
       "        vertical-align: middle;\n",
       "    }\n",
       "\n",
       "    .dataframe tbody tr th {\n",
       "        vertical-align: top;\n",
       "    }\n",
       "\n",
       "    .dataframe thead th {\n",
       "        text-align: right;\n",
       "    }\n",
       "</style>\n",
       "<table border=\"1\" class=\"dataframe\">\n",
       "  <thead>\n",
       "    <tr style=\"text-align: right;\">\n",
       "      <th></th>\n",
       "      <th>nan_count</th>\n",
       "    </tr>\n",
       "  </thead>\n",
       "  <tbody>\n",
       "    <tr>\n",
       "      <th>start_date</th>\n",
       "      <td>0</td>\n",
       "    </tr>\n",
       "    <tr>\n",
       "      <th>end_date</th>\n",
       "      <td>0</td>\n",
       "    </tr>\n",
       "    <tr>\n",
       "      <th>start_hour</th>\n",
       "      <td>0</td>\n",
       "    </tr>\n",
       "    <tr>\n",
       "      <th>end_hour</th>\n",
       "      <td>0</td>\n",
       "    </tr>\n",
       "    <tr>\n",
       "      <th>trip_duration</th>\n",
       "      <td>0</td>\n",
       "    </tr>\n",
       "    <tr>\n",
       "      <th>start_station_id</th>\n",
       "      <td>0</td>\n",
       "    </tr>\n",
       "    <tr>\n",
       "      <th>start_station_name</th>\n",
       "      <td>0</td>\n",
       "    </tr>\n",
       "    <tr>\n",
       "      <th>start_station_latitude</th>\n",
       "      <td>0</td>\n",
       "    </tr>\n",
       "    <tr>\n",
       "      <th>start_station_longitude</th>\n",
       "      <td>0</td>\n",
       "    </tr>\n",
       "    <tr>\n",
       "      <th>end_station_id</th>\n",
       "      <td>0</td>\n",
       "    </tr>\n",
       "    <tr>\n",
       "      <th>end_station_name</th>\n",
       "      <td>0</td>\n",
       "    </tr>\n",
       "    <tr>\n",
       "      <th>end_station_latitude</th>\n",
       "      <td>0</td>\n",
       "    </tr>\n",
       "    <tr>\n",
       "      <th>end_station_longitude</th>\n",
       "      <td>0</td>\n",
       "    </tr>\n",
       "    <tr>\n",
       "      <th>bike_id</th>\n",
       "      <td>0</td>\n",
       "    </tr>\n",
       "    <tr>\n",
       "      <th>usertype</th>\n",
       "      <td>0</td>\n",
       "    </tr>\n",
       "    <tr>\n",
       "      <th>birth_year</th>\n",
       "      <td>0</td>\n",
       "    </tr>\n",
       "    <tr>\n",
       "      <th>gender</th>\n",
       "      <td>0</td>\n",
       "    </tr>\n",
       "    <tr>\n",
       "      <th>day_since_register</th>\n",
       "      <td>0</td>\n",
       "    </tr>\n",
       "  </tbody>\n",
       "</table>\n",
       "</div>"
      ],
      "text/plain": [
       "                         nan_count\n",
       "start_date                       0\n",
       "end_date                         0\n",
       "start_hour                       0\n",
       "end_hour                         0\n",
       "trip_duration                    0\n",
       "start_station_id                 0\n",
       "start_station_name               0\n",
       "start_station_latitude           0\n",
       "start_station_longitude          0\n",
       "end_station_id                   0\n",
       "end_station_name                 0\n",
       "end_station_latitude             0\n",
       "end_station_longitude            0\n",
       "bike_id                          0\n",
       "usertype                         0\n",
       "birth_year                       0\n",
       "gender                           0\n",
       "day_since_register               0"
      ]
     },
     "execution_count": 7,
     "metadata": {},
     "output_type": "execute_result"
    }
   ],
   "source": [
    "# 결측치 개수 파악\n",
    "df.isnull().sum().to_frame('nan_count') "
   ]
  },
  {
   "cell_type": "code",
   "execution_count": 8,
   "metadata": {
    "colab": {},
    "colab_type": "code",
    "id": "EHcyXa26K_j_",
    "outputId": "3592a227-9df9-4a47-fa6e-5bf46fea82a5"
   },
   "outputs": [
    {
     "data": {
      "text/html": [
       "<div>\n",
       "<style scoped>\n",
       "    .dataframe tbody tr th:only-of-type {\n",
       "        vertical-align: middle;\n",
       "    }\n",
       "\n",
       "    .dataframe tbody tr th {\n",
       "        vertical-align: top;\n",
       "    }\n",
       "\n",
       "    .dataframe thead th {\n",
       "        text-align: right;\n",
       "    }\n",
       "</style>\n",
       "<table border=\"1\" class=\"dataframe\">\n",
       "  <thead>\n",
       "    <tr style=\"text-align: right;\">\n",
       "      <th></th>\n",
       "      <th>nan_ratio</th>\n",
       "    </tr>\n",
       "  </thead>\n",
       "  <tbody>\n",
       "    <tr>\n",
       "      <th>start_date</th>\n",
       "      <td>0.0</td>\n",
       "    </tr>\n",
       "    <tr>\n",
       "      <th>end_date</th>\n",
       "      <td>0.0</td>\n",
       "    </tr>\n",
       "    <tr>\n",
       "      <th>start_hour</th>\n",
       "      <td>0.0</td>\n",
       "    </tr>\n",
       "    <tr>\n",
       "      <th>end_hour</th>\n",
       "      <td>0.0</td>\n",
       "    </tr>\n",
       "    <tr>\n",
       "      <th>trip_duration</th>\n",
       "      <td>0.0</td>\n",
       "    </tr>\n",
       "    <tr>\n",
       "      <th>start_station_id</th>\n",
       "      <td>0.0</td>\n",
       "    </tr>\n",
       "    <tr>\n",
       "      <th>start_station_name</th>\n",
       "      <td>0.0</td>\n",
       "    </tr>\n",
       "    <tr>\n",
       "      <th>start_station_latitude</th>\n",
       "      <td>0.0</td>\n",
       "    </tr>\n",
       "    <tr>\n",
       "      <th>start_station_longitude</th>\n",
       "      <td>0.0</td>\n",
       "    </tr>\n",
       "    <tr>\n",
       "      <th>end_station_id</th>\n",
       "      <td>0.0</td>\n",
       "    </tr>\n",
       "    <tr>\n",
       "      <th>end_station_name</th>\n",
       "      <td>0.0</td>\n",
       "    </tr>\n",
       "    <tr>\n",
       "      <th>end_station_latitude</th>\n",
       "      <td>0.0</td>\n",
       "    </tr>\n",
       "    <tr>\n",
       "      <th>end_station_longitude</th>\n",
       "      <td>0.0</td>\n",
       "    </tr>\n",
       "    <tr>\n",
       "      <th>bike_id</th>\n",
       "      <td>0.0</td>\n",
       "    </tr>\n",
       "    <tr>\n",
       "      <th>usertype</th>\n",
       "      <td>0.0</td>\n",
       "    </tr>\n",
       "    <tr>\n",
       "      <th>birth_year</th>\n",
       "      <td>0.0</td>\n",
       "    </tr>\n",
       "    <tr>\n",
       "      <th>gender</th>\n",
       "      <td>0.0</td>\n",
       "    </tr>\n",
       "    <tr>\n",
       "      <th>day_since_register</th>\n",
       "      <td>0.0</td>\n",
       "    </tr>\n",
       "  </tbody>\n",
       "</table>\n",
       "</div>"
      ],
      "text/plain": [
       "                         nan_ratio\n",
       "start_date                     0.0\n",
       "end_date                       0.0\n",
       "start_hour                     0.0\n",
       "end_hour                       0.0\n",
       "trip_duration                  0.0\n",
       "start_station_id               0.0\n",
       "start_station_name             0.0\n",
       "start_station_latitude         0.0\n",
       "start_station_longitude        0.0\n",
       "end_station_id                 0.0\n",
       "end_station_name               0.0\n",
       "end_station_latitude           0.0\n",
       "end_station_longitude          0.0\n",
       "bike_id                        0.0\n",
       "usertype                       0.0\n",
       "birth_year                     0.0\n",
       "gender                         0.0\n",
       "day_since_register             0.0"
      ]
     },
     "execution_count": 8,
     "metadata": {},
     "output_type": "execute_result"
    }
   ],
   "source": [
    "# 결측치 비율 파악\n",
    "pd.DataFrame(data=df.isnull().sum()/len(df),columns=['nan_ratio'])"
   ]
  },
  {
   "cell_type": "code",
   "execution_count": 9,
   "metadata": {
    "colab": {},
    "colab_type": "code",
    "id": "Dyp0TknNB2IL"
   },
   "outputs": [],
   "source": [
    "# fillna, dropna를 사용하여 결측치를 제거하거나 대체!\n",
    "\n",
    "\n",
    "# df = df.fillna(0)\n",
    "# df.bike_id = df.bike_id.fillna()\n",
    "# df = df.dropna(axis=0)\n",
    "# df = df.dropna(axis=1)"
   ]
  },
  {
   "cell_type": "markdown",
   "metadata": {
    "colab_type": "text",
    "id": "cKTHeHz-K_kG"
   },
   "source": [
    "[결측치 제거 참고](https://eda-ai-lab.tistory.com/14)"
   ]
  },
  {
   "cell_type": "markdown",
   "metadata": {
    "colab_type": "text",
    "id": "qVodGoVqK_kH"
   },
   "source": [
    "## &#128205; 2. 데이터 도메인과 변수 이해\n",
    "먼저, 가지고 있는 데이터에 대해서 이해하기 위해서는 어떤 변수들이 있는지 그리고 각 변수들의 의미와 풀고자하는 문제 간의 연관성 등을 파악해야 한다.\n",
    "* 변수 이름\n",
    "* 변수 타입 "
   ]
  },
  {
   "cell_type": "code",
   "execution_count": 10,
   "metadata": {
    "colab": {},
    "colab_type": "code",
    "id": "7X6QttdkK_kI",
    "outputId": "b9182970-e2f8-464f-d072-491620873da5"
   },
   "outputs": [
    {
     "data": {
      "text/plain": [
       "start_date                  object\n",
       "end_date                    object\n",
       "start_hour                   int64\n",
       "end_hour                     int64\n",
       "trip_duration                int64\n",
       "start_station_id             int64\n",
       "start_station_name          object\n",
       "start_station_latitude     float64\n",
       "start_station_longitude    float64\n",
       "end_station_id               int64\n",
       "end_station_name            object\n",
       "end_station_latitude       float64\n",
       "end_station_longitude      float64\n",
       "bike_id                      int64\n",
       "usertype                    object\n",
       "birth_year                   int64\n",
       "gender                      object\n",
       "day_since_register           int64\n",
       "dtype: object"
      ]
     },
     "execution_count": 10,
     "metadata": {},
     "output_type": "execute_result"
    }
   ],
   "source": [
    "# 변수 타입 파악\n",
    "df.dtypes "
   ]
  },
  {
   "cell_type": "markdown",
   "metadata": {
    "colab_type": "text",
    "id": "oSpIQiU1K_kN"
   },
   "source": [
    "#### 시각화에서 중요한 건 범주형변수, 연속형변수 두가지로 구분하고 시작하는 것\n",
    "> 범주형 변수 : 빈도(frequency) 계산 가능 <br/>\n",
    "> 연속형 변수 : 평균, 표준편차, 분산 등의 수학적 계산 가능\n",
    "\n",
    "\n",
    "- dtypes로 전체 변수 타입을 확인할때, 범주형이어도 연속형 변수 dtype일 수 있다 <br/>\n",
    "- 이 예시에서는 trip_duration, day_since_register 연속형 변수, 그 외는 다 범주형<br/>\n",
    "- 실제로 연속형이 아닌데, int64(연속형)인 변수들을 string으로 만들어준다"
   ]
  },
  {
   "cell_type": "code",
   "execution_count": 11,
   "metadata": {
    "colab": {},
    "colab_type": "code",
    "id": "NEkWvfC1K_kO"
   },
   "outputs": [],
   "source": [
    "df['start_station_id']=df['start_station_id'].astype(str)\n",
    "df['end_station_id']=df['end_station_id'].astype(str)\n",
    "df['bike_id']=df['bike_id'].astype(str)"
   ]
  },
  {
   "cell_type": "code",
   "execution_count": 12,
   "metadata": {
    "colab": {},
    "colab_type": "code",
    "id": "KYi6dLPEK_kU",
    "outputId": "3ff8c2b6-bc45-4f62-b7aa-8d52314eaf89"
   },
   "outputs": [
    {
     "data": {
      "text/plain": [
       "start_date                  object\n",
       "end_date                    object\n",
       "start_hour                   int64\n",
       "end_hour                     int64\n",
       "trip_duration                int64\n",
       "start_station_id            object\n",
       "start_station_name          object\n",
       "start_station_latitude     float64\n",
       "start_station_longitude    float64\n",
       "end_station_id              object\n",
       "end_station_name            object\n",
       "end_station_latitude       float64\n",
       "end_station_longitude      float64\n",
       "bike_id                     object\n",
       "usertype                    object\n",
       "birth_year                   int64\n",
       "gender                      object\n",
       "day_since_register           int64\n",
       "dtype: object"
      ]
     },
     "execution_count": 12,
     "metadata": {},
     "output_type": "execute_result"
    }
   ],
   "source": [
    "df.dtypes"
   ]
  },
  {
   "cell_type": "markdown",
   "metadata": {
    "colab_type": "text",
    "id": "bL4gIE9EK_kd"
   },
   "source": [
    "* 변수들의 Segmentation\n",
    "  >nyc_citibike 예시에서는. 이렇게 Segmentation 해볼 수 있다.\n",
    "  >* 주행시간 변수 (start_date, end_date, start_hour, end_hour, trip_duration)\n",
    "  >* 주행위치 변수 (start_station_id,start_station_name, start_station_latitude, start_station_longitutde, end_station_id,end_station_name, end_station_latitude, end_station_longitude)\n",
    "  >* 대여바이크종류 변수 (bike_id)\n",
    "  >* 유저정보 변수 (usertype, birth_year, gender,day_since_register)\n",
    "\n",
    "* 단변수 분석에서, 변수들에 대해 알고 싶은 정보를 생각해낸다.\n",
    "    > * 평균적 trip_duration은 얼마일까?\n",
    "    > * 가장 기록(=대여 건 수)이 많은 start_hour는 언제일까?\n",
    "    > * 유저들 성별 분포는 어떨까?\n",
    "\n",
    "* 서로 영향을 줄 변수들에 대한 기대 가설을 세워본다.\n",
    "    >* 신규 가입자들이 한번 탈 때 더 짧게 쓰지 않을까?\n",
    "    >* gender에 따라 trip_duration이 다르지 않을까? 어떻게 다를까?\n",
    "    > * start_hour이 새벽 시간대일수록 trip_duration이 짧지 않을까?\n",
    "\n",
    "* 실제 EDA 후 기대한 가설과 결과를 보고 해석한다."
   ]
  },
  {
   "cell_type": "markdown",
   "metadata": {
    "colab_type": "text",
    "id": "ycBM2tyJK_ke"
   },
   "source": [
    "## &#128205; 3. 단일 변수 분석"
   ]
  },
  {
   "cell_type": "markdown",
   "metadata": {
    "colab_type": "text",
    "id": "7O_GMs8XK_kf"
   },
   "source": [
    "### 3.1 (맞추고자 하는 타겟값 y부터 분석) 연속형 변수 분포 파악\n",
    "데이터에서 예측하고자 하는 타겟 y변수가 있다면, \n",
    "타겟값부터 분석한다.\n",
    "<br/> \n",
    "- 이 예시의 y값은 연속형 변수로, 이 목차는 연속형 변수에 대한 분석 방법으로 이해하면 된다. \n",
    "- **y값이 범주형 변수라면 다음 목차(범주형 변수의 빈도 파악)을 우선적으로 해주면 된다**"
   ]
  },
  {
   "cell_type": "code",
   "execution_count": 13,
   "metadata": {
    "colab": {},
    "colab_type": "code",
    "id": "jWvgUOeXK_kg",
    "outputId": "c9ec372e-e42c-4576-8d51-1b286f3dfba0"
   },
   "outputs": [
    {
     "data": {
      "text/plain": [
       "0     6.500000\n",
       "1    14.233333\n",
       "2     8.766667\n",
       "3    14.750000\n",
       "4     5.400000\n",
       "Name: trip_duration_min, dtype: float64"
      ]
     },
     "execution_count": 13,
     "metadata": {},
     "output_type": "execute_result"
    }
   ],
   "source": [
    "# 분석 결과의 이해를 돕기위해 데이터 단위를 바꿔줄 수도 있다.\n",
    "df['trip_duration_min']=df['trip_duration'] /60\n",
    "df['trip_duration_min'].head()"
   ]
  },
  {
   "cell_type": "markdown",
   "metadata": {
    "colab_type": "text",
    "id": "1jv4o5cpK_kl"
   },
   "source": [
    "#### 3.1.1 통계량 파악"
   ]
  },
  {
   "cell_type": "code",
   "execution_count": 14,
   "metadata": {
    "colab": {},
    "colab_type": "code",
    "id": "neI-7tmiK_km",
    "outputId": "bc02fcd4-bafb-458d-cfb7-5e3f051f069c"
   },
   "outputs": [
    {
     "data": {
      "text/plain": [
       "count    72035.000000\n",
       "mean        17.445851\n",
       "std        135.661662\n",
       "min          1.016667\n",
       "25%          6.633333\n",
       "50%         11.350000\n",
       "75%         20.016667\n",
       "max      22407.700000\n",
       "Name: trip_duration_min, dtype: float64"
      ]
     },
     "execution_count": 14,
     "metadata": {},
     "output_type": "execute_result"
    }
   ],
   "source": [
    "df['trip_duration_min'].describe()"
   ]
  },
  {
   "cell_type": "markdown",
   "metadata": {
    "colab_type": "text",
    "id": "6K0hwWfQK_kr"
   },
   "source": [
    "#### 단순히 실행 결과로 끝나지 말고 해석 보태기\n",
    "> 가장 작게 빌린 건수는 1분, 평균적으로 17분을 대여한다. 최대값이 22407분인 것을 보아 outlier(정상적이지 않은 대여패턴)가 데이터에 속해 있을 것이다."
   ]
  },
  {
   "cell_type": "markdown",
   "metadata": {
    "colab_type": "text",
    "id": "tT649bN7K_ks"
   },
   "source": [
    "#### 3.1.2 분포(경향 위주) 파악 \n",
    "데이터가 많고 연속형으로, 그 경향을 파악하기에는 <br/>\n",
    "seaborn 패키지의 두 플랏을 추천. [Seaborn 활용한 Distribution 파악](https://seaborn.pydata.org/tutorial/distributions.html)<br/>\n",
    "seaborn에서의 단변수 플라팅은 distplot과 kdeplot이 있는데\n",
    "* **kdeplot = Kernel Density Estimation Plot.** <br/>\n",
    "확률밀도가 추정되어 discrete 변수를 continuous하게 만들어 준다.\n",
    "* **distplot = kdeplot + histogram** [선호]"
   ]
  },
  {
   "cell_type": "code",
   "execution_count": 15,
   "metadata": {
    "colab": {},
    "colab_type": "code",
    "id": "lt3ilLhTK_kt",
    "outputId": "c2c1b672-5b17-40a0-f1e6-cf27e993be3d",
    "scrolled": true
   },
   "outputs": [
    {
     "data": {
      "image/png": "[encoded data removed]",
      "text/plain": [
       "<Figure size 720x360 with 1 Axes>"
      ]
     },
     "metadata": {},
     "output_type": "display_data"
    }
   ],
   "source": [
    "# kdeplot\n",
    "# 빈 캔버스 사이즈 지정\n",
    "plt.figure(figsize=(10,5))\n",
    "\n",
    "# 캔버스에 그림 그리기\n",
    "kde=sns.kdeplot(df['trip_duration_min']) \n",
    "kde.set_xlabel(\"바이크 주행 시간(분)\")\n",
    "kde.set_ylabel(\"비율\")\n",
    "\n",
    "# 결과 캔버스 보여주기\n",
    "plt.show() "
   ]
  },
  {
   "cell_type": "code",
   "execution_count": 16,
   "metadata": {
    "colab": {},
    "colab_type": "code",
    "id": "ZNAgrDEpK_kz",
    "outputId": "324499a3-9011-46f4-ca70-e1f72d7ce642"
   },
   "outputs": [
    {
     "data": {
      "image/png": "[encoded data removed]",
      "text/plain": [
       "<Figure size 720x360 with 1 Axes>"
      ]
     },
     "metadata": {},
     "output_type": "display_data"
    }
   ],
   "source": [
    "# distplot\n",
    "# shade 연한 하늘색이 histogram\n",
    "plt.figure(figsize=(10,5))\n",
    "dist=sns.distplot(df['trip_duration_min']) \n",
    "dist.set_xlabel(\"바이크 주행 시간(분)\")\n",
    "dist.set_ylabel(\"비율\")\n",
    "plt.show() "
   ]
  },
  {
   "cell_type": "code",
   "execution_count": 17,
   "metadata": {
    "colab": {},
    "colab_type": "code",
    "id": "putBBJ6nK_k5",
    "outputId": "67efecfd-16a3-4cfc-ef7d-4fa8609fc0b6"
   },
   "outputs": [
    {
     "name": "stdout",
     "output_type": "stream",
     "text": [
      "Skewness: 116.002624\n",
      "Kurtosis: 15913.196644\n"
     ]
    }
   ],
   "source": [
    "#skewness and kurtosis\n",
    "print(\"Skewness: %f\" % df['trip_duration_min'].skew())\n",
    "print(\"Kurtosis: %f\" % df['trip_duration_min'].kurt())"
   ]
  },
  {
   "cell_type": "markdown",
   "metadata": {
    "colab_type": "text",
    "id": "PTJXneGpK_lB"
   },
   "source": [
    "#### 분포를 보고 생각해야 하는 3가지\n",
    ">* \n",
    "정규분포를 따르고 있는가 / 정규분포와 유사한 형태를 띄는가?<br/>**(플라팅을 통해 눈으로 or 더 정확하고 싶으면 정규분포인지 통계적으로 검정)** <br/> \n",
    "[왜 정규분포를 따라야하는지 더 알고싶으면?](https://towardsdatascience.com/why-data-scientists-love-gaussian-6e7a7b726859)\n",
    ">* 눈에 띄는 치우침 정도가 있는가 (skewness)?\n",
    ">* 얼마나 뾰족한가 (kurtosis)?"
   ]
  },
  {
   "cell_type": "markdown",
   "metadata": {
    "colab_type": "text",
    "id": "1YOg9W11K_lC"
   },
   "source": [
    "#### 3.1.3  (y값 기준) 이상치 제거\n",
    "위에서 살펴본 바 목표로 하는 y값에 과하게 큰 값이 있어, 이상치를 제거한 후에 EDA를 진행하고자 한다.\n",
    "\n",
    "> 아웃라이어가 y변수 분포 상에 존재하면, 향후 이진 변수 분석에서 다른 변수들과 ~ y 관계를 볼 때도 분포가 길게 늘어져 세밀하게 볼 수 없다.<br/>\n",
    "> 또한 아웃라이어 존재 여부가 만들고자하는 모델에 큰 영향을 미친다,<br/>\n",
    "> 그렇다고 완전히 제거하는 것보다 아웃라이어만 떼서 살펴볼 필요도 있다 <br/>**가지고 있는 데이터에 대한 의미있는 정보를 줄 수도 있기 때문이다**\n",
    "\n",
    "* 이상치를 제거하는 방법은 아주 다양한데\n",
    "* 일단은, y값 기준 최상위 1% 값을 제거하는 방식을 택한다."
   ]
  },
  {
   "cell_type": "code",
   "execution_count": 18,
   "metadata": {
    "colab": {},
    "colab_type": "code",
    "id": "kaNJYkPTK_lE"
   },
   "outputs": [],
   "source": [
    "cut_point = df[\"trip_duration_min\"].quantile(0.99)\n",
    "df_cut=df[df['trip_duration_min'] < cut_point]"
   ]
  },
  {
   "cell_type": "markdown",
   "metadata": {
    "colab_type": "text",
    "id": "r48C6oP4K_lJ"
   },
   "source": [
    "**이상치를 제거하고 분포를 다시 그려보자.**"
   ]
  },
  {
   "cell_type": "code",
   "execution_count": 19,
   "metadata": {
    "colab": {},
    "colab_type": "code",
    "id": "ENjbLORuK_lK",
    "outputId": "9f33afd8-f63e-4b45-da6c-d95e6a64b436"
   },
   "outputs": [
    {
     "data": {
      "image/png": "[encoded data removed]",
      "text/plain": [
       "<Figure size 720x360 with 1 Axes>"
      ]
     },
     "metadata": {},
     "output_type": "display_data"
    }
   ],
   "source": [
    "# 단순 pandas visualization 활용\n",
    "plt.figure(figsize=(10,5))\n",
    "df_cut['trip_duration_min'].hist()\n",
    "plt.show()"
   ]
  },
  {
   "cell_type": "code",
   "execution_count": 20,
   "metadata": {
    "colab": {},
    "colab_type": "code",
    "id": "pnnnaYuaK_lQ",
    "outputId": "7e87e457-8fc0-41fc-ca53-04699e076125",
    "scrolled": true
   },
   "outputs": [
    {
     "data": {
      "image/png": "[encoded data removed]",
      "text/plain": [
       "<Figure size 720x360 with 1 Axes>"
      ]
     },
     "metadata": {},
     "output_type": "display_data"
    }
   ],
   "source": [
    "# seaborn의 distplot\n",
    "plt.figure(figsize=(10,5))\n",
    "dist=sns.distplot(df_cut['trip_duration_min'],kde=False)\n",
    "#kde=FALSE는 값, TRUE는 비율\n",
    "dist.set_xlabel(\"바이크 주행 시간(분)\")\n",
    "dist.set_ylabel(\"비율\")\n",
    "plt.show() "
   ]
  },
  {
   "cell_type": "code",
   "execution_count": 21,
   "metadata": {
    "colab": {},
    "colab_type": "code",
    "id": "krpiZbzWK_lX",
    "outputId": "fa189b88-54f2-4a8a-a424-7b45affe0925",
    "scrolled": true
   },
   "outputs": [
    {
     "name": "stdout",
     "output_type": "stream",
     "text": [
      "Skewness: 1.418011\n",
      "Kurtosis: 2.307984\n"
     ]
    }
   ],
   "source": [
    "#skewness and kurtosis\n",
    "print(\"Skewness: %f\" % df_cut['trip_duration_min'].skew())\n",
    "print(\"Kurtosis: %f\" % df_cut['trip_duration_min'].kurt())"
   ]
  },
  {
   "cell_type": "markdown",
   "metadata": {
    "colab_type": "text",
    "id": "tF17B5wCK_lf"
   },
   "source": [
    "#### 분포를 보정한 후 다시 생각해야 하는 3가지\n",
    ">* \n",
    "정규분포를 따르고 있는가 / 정규분포와 유사한 형태를 띄는가?<br/>**(플라팅을 통해 눈으로 or 더 정확하고 싶으면 정규분포인지 통계적으로 검정)** <br/> \n",
    "[왜 정규분포를 따라야하는지 더 알고싶으면?](https://towardsdatascience.com/why-data-scientists-love-gaussian-6e7a7b726859)\n",
    ">* 눈에 띄는 치우침 정도가 있는가 (skewness)?\n",
    ">* 얼마나 뾰족한가 (kurtosis)?"
   ]
  },
  {
   "cell_type": "markdown",
   "metadata": {
    "colab_type": "text",
    "id": "VBXct7mWK_lh"
   },
   "source": [
    "### 3.2  범주형 변수의 빈도 파악"
   ]
  },
  {
   "cell_type": "markdown",
   "metadata": {
    "colab_type": "text",
    "id": "RPW37-5XK_lj"
   },
   "source": [
    "#### 3.2.1 범주형 변수가 30개 이하일 때, 빈도표(Counting and Basic Frequency Plots)\n",
    ">30개가 아니더라도, 범주형 변수의 고유 값이 X축에 전부 표현될 수 있다면\n",
    "\n",
    "\n",
    " **A. Pandas visualization 활용 dataframe.plot() 형태**\n",
    " <br/> 장점: 정말 편하고, customizing이 쉽고, 구글링할 자료가 많다\n",
    " <br/> 단점: 타 패키지보다 덜 예쁘다"
   ]
  },
  {
   "cell_type": "code",
   "execution_count": 22,
   "metadata": {
    "colab": {},
    "colab_type": "code",
    "id": "thNssoiqK_lo",
    "outputId": "afec9829-3d63-463c-c436-d0a13f7510b9"
   },
   "outputs": [
    {
     "data": {
      "text/plain": [
       "18    8171\n",
       "17    7954\n",
       "8     6640\n",
       "19    5576\n",
       "16    4687\n",
       "9     4265\n",
       "7     3971\n",
       "20    3624\n",
       "15    3544\n",
       "14    3398\n",
       "13    3210\n",
       "12    3109\n",
       "11    2763\n",
       "10    2640\n",
       "21    2374\n",
       "6     1855\n",
       "22    1574\n",
       "23     918\n",
       "5      476\n",
       "0      235\n",
       "1      110\n",
       "4       77\n",
       "2       77\n",
       "3       66\n",
       "Name: start_hour, dtype: int64"
      ]
     },
     "execution_count": 22,
     "metadata": {},
     "output_type": "execute_result"
    }
   ],
   "source": [
    "# 대여 시작 시간대(start_hour)의 빈도표\n",
    "df_cut['start_hour'].value_counts()"
   ]
  },
  {
   "cell_type": "code",
   "execution_count": 23,
   "metadata": {
    "colab": {},
    "colab_type": "code",
    "id": "juDfri2jK_l3",
    "outputId": "4a0d02b7-d1a7-4e65-be83-dc552db8173e",
    "scrolled": false
   },
   "outputs": [
    {
     "data": {
      "image/png": "[encoded data removed]",
      "text/plain": [
       "<Figure size 720x360 with 1 Axes>"
      ]
     },
     "metadata": {},
     "output_type": "display_data"
    }
   ],
   "source": [
    "plt.figure(figsize=(10,5))\n",
    "\n",
    "# 시간순으로 정렬\n",
    "df_cut['start_hour'].value_counts().sort_index(ascending=True).plot(kind='bar')\n",
    "plt.xlabel('대여 시작 시간대')\n",
    "plt.ylabel('count')\n",
    "plt.title('대여 시작 시간대별 이용 기록 수')\n",
    "plt.show()"
   ]
  },
  {
   "cell_type": "code",
   "execution_count": 24,
   "metadata": {
    "colab": {},
    "colab_type": "code",
    "id": "lB9LBejLK_mO",
    "outputId": "39ad75fe-b2a5-4e53-a5b3-99fc451b6274",
    "scrolled": true
   },
   "outputs": [
    {
     "data": {
      "image/png": "[encoded data removed]",
      "text/plain": [
       "<Figure size 720x360 with 1 Axes>"
      ]
     },
     "metadata": {},
     "output_type": "display_data"
    }
   ],
   "source": [
    "# 빈도순으로 정렬\n",
    "plt.figure(figsize=(10,5))\n",
    "df_cut['start_hour'].value_counts(ascending=True).plot(kind='bar') #default=False\n",
    "plt.xlabel('대여 시작 시간대')\n",
    "plt.ylabel('count')\n",
    "plt.title('대여 시작 시간대별 이용 기록 수')\n",
    "plt.show() "
   ]
  },
  {
   "cell_type": "markdown",
   "metadata": {
    "colab_type": "text",
    "id": "RoUpXkSaK_md"
   },
   "source": [
    "**해석 보태기**\n",
    "> 주로 오후 5-6시가 가장 많은 대여 건수를 보였고, 그 다음은 오전 8시가 많았다. 뉴욕 기준 퇴근과 출근 시간대의 양상을 반영하고 있다.\n",
    "> <br/> 새벽 시간대 특히 0시 ~ 4시에서 대여 건수가 지나치게 낮다."
   ]
  },
  {
   "cell_type": "code",
   "execution_count": 25,
   "metadata": {
    "colab": {},
    "colab_type": "code",
    "id": "cR7EUkfQK_mg",
    "outputId": "053ac4d5-ee7b-4560-b31b-c2944f1a0e3a"
   },
   "outputs": [
    {
     "data": {
      "image/png": "[encoded data removed]",
      "text/plain": [
       "<Figure size 432x288 with 1 Axes>"
      ]
     },
     "metadata": {},
     "output_type": "display_data"
    }
   ],
   "source": [
    "# 성별 (gender) 의 빈도표\n",
    "plt.figure()\n",
    "df_cut['gender'].value_counts().plot(kind='barh')\n",
    "plt.xlabel('count')\n",
    "plt.ylabel('성별')\n",
    "plt.title('이용자 성별에 따른 기록 수')\n",
    "plt.show()"
   ]
  },
  {
   "cell_type": "markdown",
   "metadata": {
    "colab_type": "text",
    "id": "7Qsl-bdkK_mq"
   },
   "source": [
    "**해석 보태기**\n",
    "> 남성 사용자 48310명으로, 여성 사용자 16568명에 비해 3배 가량 많았다."
   ]
  },
  {
   "cell_type": "markdown",
   "metadata": {
    "colab_type": "text",
    "id": "-xN6hvQ6K_ms"
   },
   "source": [
    "#### 3.2.2 범주형 변수가 30개 이상일 때, 빈도표(Counting and Basic Frequency Plots)\n",
    ">30개가 넘지 않더라도, 범주형 변수의 고유 값이 X축에 전부 표현되기 어렵다면\n",
    "\n",
    "범주형 변수의 고유값이 많을 때, 상위 또는 하위 n개로 자르고 Horizontal로 시각화"
   ]
  },
  {
   "cell_type": "code",
   "execution_count": 26,
   "metadata": {
    "colab": {},
    "colab_type": "code",
    "id": "6yVl-pKJK_mu",
    "outputId": "88273360-f0c6-4185-8eae-d8f178da0414",
    "scrolled": true
   },
   "outputs": [
    {
     "data": {
      "text/plain": [
       "Pershing Square North    749\n",
       "West St & Chambers St    504\n",
       "Broadway & E 22 St       501\n",
       "W 21 St & 6 Ave          468\n",
       "8 Ave & W 33 St          443\n",
       "E 17 St & Broadway       442\n",
       "E 47 St & Park Ave       441\n",
       "W 41 St & 8 Ave          436\n",
       "W 22 St & 10 Ave         431\n",
       "W 38 St & 8 Ave          407\n",
       "Name: start_station_name, dtype: int64"
      ]
     },
     "execution_count": 26,
     "metadata": {},
     "output_type": "execute_result"
    }
   ],
   "source": [
    "# start_station 대여 시작 지점별 빈도\n",
    "df_cut['start_station_name'].value_counts().nlargest(10)"
   ]
  },
  {
   "cell_type": "code",
   "execution_count": 27,
   "metadata": {
    "colab": {},
    "colab_type": "code",
    "id": "sCzHTnVjK_m3",
    "outputId": "d775e285-166c-499a-b20a-5d2dde24e9d9"
   },
   "outputs": [
    {
     "data": {
      "image/png": "[encoded data removed]",
      "text/plain": [
       "<Figure size 720x432 with 1 Axes>"
      ]
     },
     "metadata": {},
     "output_type": "display_data"
    }
   ],
   "source": [
    "plt.figure(figsize=(10,6))\n",
    "df_cut['start_station_name'].value_counts().nlargest(10).plot(kind='barh')\n",
    "plt.xlabel('count')\n",
    "plt.ylabel('Top 10 대여 시작 지역')\n",
    "plt.title('상위 10개 대여 시작 지역과 대여 건수')\n",
    "plt.show()"
   ]
  },
  {
   "cell_type": "markdown",
   "metadata": {
    "colab_type": "text",
    "id": "I5bMlqo4XCib"
   },
   "source": [
    "#### 3.3 이 외에도 자주 등장하는 분포에 대해서 알아 봅시다!\n",
    "\n",
    "1. 정규분포\n",
    "2. 롱테일/파레토 분포 (Poisson, Lognormal, Exponential)\n",
    "3. 이항분포 (Bernoulli)\n",
    "4. 균등분포\n",
    "\n",
    "![다운로드.png](data:image/png;base64,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)"
   ]
  },
  {
   "cell_type": "markdown",
   "metadata": {
    "colab_type": "text",
    "id": "Pb3iURYqvJWy"
   },
   "source": [
    "### 번외\n",
    "\n",
    "> 상관관계 구하기! (Person 상관계수)"
   ]
  },
  {
   "cell_type": "code",
   "execution_count": 28,
   "metadata": {
    "colab": {},
    "colab_type": "code",
    "id": "n3dyZe1SvHfp"
   },
   "outputs": [
    {
     "name": "stdout",
     "output_type": "stream",
     "text": [
      "                         trip_duration_min  start_station_latitude  \\\n",
      "trip_duration_min                 1.000000               -0.001261   \n",
      "start_station_latitude           -0.001261                1.000000   \n",
      "start_station_longitude           0.002523                0.324510   \n",
      "\n",
      "                         start_station_longitude  \n",
      "trip_duration_min                       0.002523  \n",
      "start_station_latitude                  0.324510  \n",
      "start_station_longitude                 1.000000  \n"
     ]
    }
   ],
   "source": [
    "pearson_corr = df[['trip_duration_min','start_station_latitude','start_station_longitude']].corr(method='pearson')\n",
    "print(pearson_corr)"
   ]
  },
  {
   "cell_type": "markdown",
   "metadata": {
    "colab_type": "text",
    "id": "CQKFFfh_EUnc"
   },
   "source": [
    "***\n",
    "\n",
    "> ## &#128205;  **EDA Quest**\n",
    ">\n",
    "> #### 주어진 두 개의 데이터셋을 바탕으로 아래의 질문에 대한 자신만의 해답을 코드와 함께 **간단하게**(약 2-3줄 내외) 적어 제출해주세요!\n",
    " \n",
    " *   *airbnb.csv*  관련 문제\n",
    "     1.   'price', 'review_scores_rating', 'latitude'에 대해서 변수의 종류는 무엇이며, 분포는 어떻게 되어있나요? 각 변수의 특징과 함께 서술해주세요!\n",
    "     2.   위의 데이터에 이상치/결측치가 있나요? 있다면 어떻게 처리해야 할까요?\n",
    "\n",
    " *   *summer_product.csv* 관련 문제\n",
    "    1.    해당 데이터를 제공한 업체에서 새로이 광고를 달기 위해 상품을 Grading 하려고 합니다. 이를 위해 상품별 매출을 구하고 1) IQR을 기준으로 이상치를 제거해 본 후 2) 이러한 방식이 적절한지 설명한 후, 다른 방식이 있다면 제시해주세요!\n",
    "    2.    임의의 두 컬럼을 정하고(질적 변수 중 하나, 양적 변수 중 하나), 해당 데이터가 매출과 어떤 관계가 있는지 분석해주세요! \n",
    "    3.    해당 데이터에서 1) 매출과 rating간의 상관관계와 매출과 2) merchant rating 간의 상관관계를 비교하고 싶을때, 각 변수의 분포를 고려하면 어떤 점에 유의해야 할까요?\n"
   ]
  },
  {
   "cell_type": "code",
   "execution_count": null,
   "metadata": {
    "colab": {},
    "colab_type": "code",
    "id": "2aCG2bvuP9dQ"
   },
   "outputs": [],
   "source": []
  }
 ],
 "metadata": {
  "colab": {
   "collapsed_sections": [
    "6K0hwWfQK_kr",
    "PTJXneGpK_lB",
    "-xN6hvQ6K_ms"
   ],
   "name": "Session_03) EDA.ipynb",
   "provenance": []
  },
  "kernelspec": {
   "display_name": "Python 3",
   "language": "python",
   "name": "python3"
  },
  "language_info": {
   "codemirror_mode": {
    "name": "ipython",
    "version": 3
   },
   "file_extension": ".py",
   "mimetype": "text/x-python",
   "name": "python",
   "nbconvert_exporter": "python",
   "pygments_lexer": "ipython3",
   "version": "3.8.3"
  }
 },
 "nbformat": 4,
 "nbformat_minor": 1
}
